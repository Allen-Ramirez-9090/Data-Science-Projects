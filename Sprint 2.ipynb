{
 "cells": [
  {
   "cell_type": "markdown",
   "id": "0ebb1013",
   "metadata": {},
   "source": [
    "\n",
    "<h3> Cleaning and Giving Insight on Instacart Shopping Habits <h3>\n",
    "<div> My mission is to give useful information on Instacart shoppers. What products perform best? When do people place orders(time of day / day of week / month)? How frequent do customers return? How many products does a typical person buy? These will all be answered throughout my analysis and cleaning of the data provided!\n",
    "<div>"
   ]
  },
  {
   "cell_type": "code",
   "execution_count": 1,
   "id": "ad6a1efa",
   "metadata": {
    "trusted": false
   },
   "outputs": [],
   "source": [
    "import pandas as pd\n",
    "from matplotlib import pyplot as plt\n",
    "import numpy as np"
   ]
  },
  {
   "cell_type": "code",
   "execution_count": 2,
   "id": "5130e05e",
   "metadata": {
    "trusted": false
   },
   "outputs": [
    {
     "name": "stdout",
     "output_type": "stream",
     "text": [
      "<class 'pandas.core.frame.DataFrame'>\n",
      "RangeIndex: 478967 entries, 0 to 478966\n",
      "Data columns (total 6 columns):\n",
      " #   Column                  Non-Null Count   Dtype  \n",
      "---  ------                  --------------   -----  \n",
      " 0   order_id                478967 non-null  int64  \n",
      " 1   user_id                 478967 non-null  int64  \n",
      " 2   order_number            478967 non-null  int64  \n",
      " 3   order_dow               478967 non-null  int64  \n",
      " 4   order_hour_of_day       478967 non-null  int64  \n",
      " 5   days_since_prior_order  450148 non-null  float64\n",
      "dtypes: float64(1), int64(5)\n",
      "memory usage: 21.9 MB\n"
     ]
    },
    {
     "data": {
      "text/html": [
       "<div>\n",
       "<style scoped>\n",
       "    .dataframe tbody tr th:only-of-type {\n",
       "        vertical-align: middle;\n",
       "    }\n",
       "\n",
       "    .dataframe tbody tr th {\n",
       "        vertical-align: top;\n",
       "    }\n",
       "\n",
       "    .dataframe thead th {\n",
       "        text-align: right;\n",
       "    }\n",
       "</style>\n",
       "<table border=\"1\" class=\"dataframe\">\n",
       "  <thead>\n",
       "    <tr style=\"text-align: right;\">\n",
       "      <th></th>\n",
       "      <th>order_id</th>\n",
       "      <th>user_id</th>\n",
       "      <th>order_number</th>\n",
       "      <th>order_dow</th>\n",
       "      <th>order_hour_of_day</th>\n",
       "      <th>days_since_prior_order</th>\n",
       "    </tr>\n",
       "  </thead>\n",
       "  <tbody>\n",
       "    <tr>\n",
       "      <th>0</th>\n",
       "      <td>1515936</td>\n",
       "      <td>183418</td>\n",
       "      <td>11</td>\n",
       "      <td>6</td>\n",
       "      <td>13</td>\n",
       "      <td>30.0</td>\n",
       "    </tr>\n",
       "    <tr>\n",
       "      <th>1</th>\n",
       "      <td>1690866</td>\n",
       "      <td>163593</td>\n",
       "      <td>5</td>\n",
       "      <td>5</td>\n",
       "      <td>12</td>\n",
       "      <td>9.0</td>\n",
       "    </tr>\n",
       "    <tr>\n",
       "      <th>2</th>\n",
       "      <td>1454967</td>\n",
       "      <td>39980</td>\n",
       "      <td>4</td>\n",
       "      <td>5</td>\n",
       "      <td>19</td>\n",
       "      <td>2.0</td>\n",
       "    </tr>\n",
       "    <tr>\n",
       "      <th>3</th>\n",
       "      <td>1768857</td>\n",
       "      <td>82516</td>\n",
       "      <td>56</td>\n",
       "      <td>0</td>\n",
       "      <td>20</td>\n",
       "      <td>10.0</td>\n",
       "    </tr>\n",
       "    <tr>\n",
       "      <th>4</th>\n",
       "      <td>3007858</td>\n",
       "      <td>196724</td>\n",
       "      <td>2</td>\n",
       "      <td>4</td>\n",
       "      <td>12</td>\n",
       "      <td>17.0</td>\n",
       "    </tr>\n",
       "  </tbody>\n",
       "</table>\n",
       "</div>"
      ],
      "text/plain": [
       "   order_id  user_id  order_number  order_dow  order_hour_of_day  \\\n",
       "0   1515936   183418            11          6                 13   \n",
       "1   1690866   163593             5          5                 12   \n",
       "2   1454967    39980             4          5                 19   \n",
       "3   1768857    82516            56          0                 20   \n",
       "4   3007858   196724             2          4                 12   \n",
       "\n",
       "   days_since_prior_order  \n",
       "0                    30.0  \n",
       "1                     9.0  \n",
       "2                     2.0  \n",
       "3                    10.0  \n",
       "4                    17.0  "
      ]
     },
     "execution_count": 2,
     "metadata": {},
     "output_type": "execute_result"
    }
   ],
   "source": [
    "insta_cart_df = pd.read_csv('/datasets/instacart_orders.csv', sep=';')\n",
    "insta_cart_df.info() #checking general info\n",
    "insta_cart_df.head() #looking at rows to see incorrect or correct formatting"
   ]
  },
  {
   "cell_type": "code",
   "execution_count": 3,
   "id": "d8370c05",
   "metadata": {
    "trusted": false
   },
   "outputs": [
    {
     "name": "stdout",
     "output_type": "stream",
     "text": [
      "<class 'pandas.core.frame.DataFrame'>\n",
      "RangeIndex: 49694 entries, 0 to 49693\n",
      "Data columns (total 4 columns):\n",
      " #   Column         Non-Null Count  Dtype \n",
      "---  ------         --------------  ----- \n",
      " 0   product_id     49694 non-null  int64 \n",
      " 1   product_name   48436 non-null  object\n",
      " 2   aisle_id       49694 non-null  int64 \n",
      " 3   department_id  49694 non-null  int64 \n",
      "dtypes: int64(3), object(1)\n",
      "memory usage: 1.5+ MB\n"
     ]
    },
    {
     "data": {
      "text/html": [
       "<div>\n",
       "<style scoped>\n",
       "    .dataframe tbody tr th:only-of-type {\n",
       "        vertical-align: middle;\n",
       "    }\n",
       "\n",
       "    .dataframe tbody tr th {\n",
       "        vertical-align: top;\n",
       "    }\n",
       "\n",
       "    .dataframe thead th {\n",
       "        text-align: right;\n",
       "    }\n",
       "</style>\n",
       "<table border=\"1\" class=\"dataframe\">\n",
       "  <thead>\n",
       "    <tr style=\"text-align: right;\">\n",
       "      <th></th>\n",
       "      <th>product_id</th>\n",
       "      <th>product_name</th>\n",
       "      <th>aisle_id</th>\n",
       "      <th>department_id</th>\n",
       "    </tr>\n",
       "  </thead>\n",
       "  <tbody>\n",
       "    <tr>\n",
       "      <th>0</th>\n",
       "      <td>1</td>\n",
       "      <td>Chocolate Sandwich Cookies</td>\n",
       "      <td>61</td>\n",
       "      <td>19</td>\n",
       "    </tr>\n",
       "    <tr>\n",
       "      <th>1</th>\n",
       "      <td>2</td>\n",
       "      <td>All-Seasons Salt</td>\n",
       "      <td>104</td>\n",
       "      <td>13</td>\n",
       "    </tr>\n",
       "    <tr>\n",
       "      <th>2</th>\n",
       "      <td>3</td>\n",
       "      <td>Robust Golden Unsweetened Oolong Tea</td>\n",
       "      <td>94</td>\n",
       "      <td>7</td>\n",
       "    </tr>\n",
       "    <tr>\n",
       "      <th>3</th>\n",
       "      <td>4</td>\n",
       "      <td>Smart Ones Classic Favorites Mini Rigatoni Wit...</td>\n",
       "      <td>38</td>\n",
       "      <td>1</td>\n",
       "    </tr>\n",
       "    <tr>\n",
       "      <th>4</th>\n",
       "      <td>5</td>\n",
       "      <td>Green Chile Anytime Sauce</td>\n",
       "      <td>5</td>\n",
       "      <td>13</td>\n",
       "    </tr>\n",
       "  </tbody>\n",
       "</table>\n",
       "</div>"
      ],
      "text/plain": [
       "   product_id                                       product_name  aisle_id  \\\n",
       "0           1                         Chocolate Sandwich Cookies        61   \n",
       "1           2                                   All-Seasons Salt       104   \n",
       "2           3               Robust Golden Unsweetened Oolong Tea        94   \n",
       "3           4  Smart Ones Classic Favorites Mini Rigatoni Wit...        38   \n",
       "4           5                          Green Chile Anytime Sauce         5   \n",
       "\n",
       "   department_id  \n",
       "0             19  \n",
       "1             13  \n",
       "2              7  \n",
       "3              1  \n",
       "4             13  "
      ]
     },
     "execution_count": 3,
     "metadata": {},
     "output_type": "execute_result"
    }
   ],
   "source": [
    "products_df = pd.read_csv('/datasets/products.csv', sep=';')\n",
    "products_df.info() #checking general info\n",
    "products_df.head() #looking at rows to see incorrect or correct formatting"
   ]
  },
  {
   "cell_type": "code",
   "execution_count": 4,
   "id": "59e2090f",
   "metadata": {
    "trusted": false
   },
   "outputs": [
    {
     "name": "stdout",
     "output_type": "stream",
     "text": [
      "<class 'pandas.core.frame.DataFrame'>\n",
      "RangeIndex: 4545007 entries, 0 to 4545006\n",
      "Data columns (total 4 columns):\n",
      " #   Column             Non-Null Count    Dtype  \n",
      "---  ------             --------------    -----  \n",
      " 0   order_id           4545007 non-null  int64  \n",
      " 1   product_id         4545007 non-null  int64  \n",
      " 2   add_to_cart_order  4544171 non-null  float64\n",
      " 3   reordered          4545007 non-null  int64  \n",
      "dtypes: float64(1), int64(3)\n",
      "memory usage: 138.7 MB\n"
     ]
    },
    {
     "data": {
      "text/html": [
       "<div>\n",
       "<style scoped>\n",
       "    .dataframe tbody tr th:only-of-type {\n",
       "        vertical-align: middle;\n",
       "    }\n",
       "\n",
       "    .dataframe tbody tr th {\n",
       "        vertical-align: top;\n",
       "    }\n",
       "\n",
       "    .dataframe thead th {\n",
       "        text-align: right;\n",
       "    }\n",
       "</style>\n",
       "<table border=\"1\" class=\"dataframe\">\n",
       "  <thead>\n",
       "    <tr style=\"text-align: right;\">\n",
       "      <th></th>\n",
       "      <th>order_id</th>\n",
       "      <th>product_id</th>\n",
       "      <th>add_to_cart_order</th>\n",
       "      <th>reordered</th>\n",
       "    </tr>\n",
       "  </thead>\n",
       "  <tbody>\n",
       "    <tr>\n",
       "      <th>0</th>\n",
       "      <td>2141543</td>\n",
       "      <td>11440</td>\n",
       "      <td>17.0</td>\n",
       "      <td>0</td>\n",
       "    </tr>\n",
       "    <tr>\n",
       "      <th>1</th>\n",
       "      <td>567889</td>\n",
       "      <td>1560</td>\n",
       "      <td>1.0</td>\n",
       "      <td>1</td>\n",
       "    </tr>\n",
       "    <tr>\n",
       "      <th>2</th>\n",
       "      <td>2261212</td>\n",
       "      <td>26683</td>\n",
       "      <td>1.0</td>\n",
       "      <td>1</td>\n",
       "    </tr>\n",
       "    <tr>\n",
       "      <th>3</th>\n",
       "      <td>491251</td>\n",
       "      <td>8670</td>\n",
       "      <td>35.0</td>\n",
       "      <td>1</td>\n",
       "    </tr>\n",
       "    <tr>\n",
       "      <th>4</th>\n",
       "      <td>2571142</td>\n",
       "      <td>1940</td>\n",
       "      <td>5.0</td>\n",
       "      <td>1</td>\n",
       "    </tr>\n",
       "  </tbody>\n",
       "</table>\n",
       "</div>"
      ],
      "text/plain": [
       "   order_id  product_id  add_to_cart_order  reordered\n",
       "0   2141543       11440               17.0          0\n",
       "1    567889        1560                1.0          1\n",
       "2   2261212       26683                1.0          1\n",
       "3    491251        8670               35.0          1\n",
       "4   2571142        1940                5.0          1"
      ]
     },
     "execution_count": 4,
     "metadata": {},
     "output_type": "execute_result"
    }
   ],
   "source": [
    "order_products_df = pd.read_csv('/datasets/order_products.csv', sep=';')\n",
    "order_products_df.info(show_counts=True) #checking general info\n",
    "order_products_df.head() #looking at rows to see incorrect or correct formatting"
   ]
  },
  {
   "cell_type": "code",
   "execution_count": 5,
   "id": "6fc81694",
   "metadata": {
    "trusted": false
   },
   "outputs": [
    {
     "name": "stdout",
     "output_type": "stream",
     "text": [
      "<class 'pandas.core.frame.DataFrame'>\n",
      "RangeIndex: 134 entries, 0 to 133\n",
      "Data columns (total 2 columns):\n",
      " #   Column    Non-Null Count  Dtype \n",
      "---  ------    --------------  ----- \n",
      " 0   aisle_id  134 non-null    int64 \n",
      " 1   aisle     134 non-null    object\n",
      "dtypes: int64(1), object(1)\n",
      "memory usage: 2.2+ KB\n"
     ]
    },
    {
     "data": {
      "text/html": [
       "<div>\n",
       "<style scoped>\n",
       "    .dataframe tbody tr th:only-of-type {\n",
       "        vertical-align: middle;\n",
       "    }\n",
       "\n",
       "    .dataframe tbody tr th {\n",
       "        vertical-align: top;\n",
       "    }\n",
       "\n",
       "    .dataframe thead th {\n",
       "        text-align: right;\n",
       "    }\n",
       "</style>\n",
       "<table border=\"1\" class=\"dataframe\">\n",
       "  <thead>\n",
       "    <tr style=\"text-align: right;\">\n",
       "      <th></th>\n",
       "      <th>aisle_id</th>\n",
       "      <th>aisle</th>\n",
       "    </tr>\n",
       "  </thead>\n",
       "  <tbody>\n",
       "    <tr>\n",
       "      <th>0</th>\n",
       "      <td>1</td>\n",
       "      <td>prepared soups salads</td>\n",
       "    </tr>\n",
       "    <tr>\n",
       "      <th>1</th>\n",
       "      <td>2</td>\n",
       "      <td>specialty cheeses</td>\n",
       "    </tr>\n",
       "    <tr>\n",
       "      <th>2</th>\n",
       "      <td>3</td>\n",
       "      <td>energy granola bars</td>\n",
       "    </tr>\n",
       "    <tr>\n",
       "      <th>3</th>\n",
       "      <td>4</td>\n",
       "      <td>instant foods</td>\n",
       "    </tr>\n",
       "    <tr>\n",
       "      <th>4</th>\n",
       "      <td>5</td>\n",
       "      <td>marinades meat preparation</td>\n",
       "    </tr>\n",
       "  </tbody>\n",
       "</table>\n",
       "</div>"
      ],
      "text/plain": [
       "   aisle_id                       aisle\n",
       "0         1       prepared soups salads\n",
       "1         2           specialty cheeses\n",
       "2         3         energy granola bars\n",
       "3         4               instant foods\n",
       "4         5  marinades meat preparation"
      ]
     },
     "execution_count": 5,
     "metadata": {},
     "output_type": "execute_result"
    }
   ],
   "source": [
    "aisles_df = pd.read_csv('/datasets/aisles.csv', sep=';')\n",
    "aisles_df.info() #checking general info\n",
    "aisles_df.head() #looking at rows to see incorrect or correct formatting"
   ]
  },
  {
   "cell_type": "code",
   "execution_count": 6,
   "id": "c8f886b3",
   "metadata": {
    "trusted": false
   },
   "outputs": [
    {
     "name": "stdout",
     "output_type": "stream",
     "text": [
      "<class 'pandas.core.frame.DataFrame'>\n",
      "RangeIndex: 21 entries, 0 to 20\n",
      "Data columns (total 2 columns):\n",
      " #   Column         Non-Null Count  Dtype \n",
      "---  ------         --------------  ----- \n",
      " 0   department_id  21 non-null     int64 \n",
      " 1   department     21 non-null     object\n",
      "dtypes: int64(1), object(1)\n",
      "memory usage: 464.0+ bytes\n"
     ]
    },
    {
     "data": {
      "text/html": [
       "<div>\n",
       "<style scoped>\n",
       "    .dataframe tbody tr th:only-of-type {\n",
       "        vertical-align: middle;\n",
       "    }\n",
       "\n",
       "    .dataframe tbody tr th {\n",
       "        vertical-align: top;\n",
       "    }\n",
       "\n",
       "    .dataframe thead th {\n",
       "        text-align: right;\n",
       "    }\n",
       "</style>\n",
       "<table border=\"1\" class=\"dataframe\">\n",
       "  <thead>\n",
       "    <tr style=\"text-align: right;\">\n",
       "      <th></th>\n",
       "      <th>department_id</th>\n",
       "      <th>department</th>\n",
       "    </tr>\n",
       "  </thead>\n",
       "  <tbody>\n",
       "    <tr>\n",
       "      <th>0</th>\n",
       "      <td>1</td>\n",
       "      <td>frozen</td>\n",
       "    </tr>\n",
       "    <tr>\n",
       "      <th>1</th>\n",
       "      <td>2</td>\n",
       "      <td>other</td>\n",
       "    </tr>\n",
       "    <tr>\n",
       "      <th>2</th>\n",
       "      <td>3</td>\n",
       "      <td>bakery</td>\n",
       "    </tr>\n",
       "    <tr>\n",
       "      <th>3</th>\n",
       "      <td>4</td>\n",
       "      <td>produce</td>\n",
       "    </tr>\n",
       "    <tr>\n",
       "      <th>4</th>\n",
       "      <td>5</td>\n",
       "      <td>alcohol</td>\n",
       "    </tr>\n",
       "  </tbody>\n",
       "</table>\n",
       "</div>"
      ],
      "text/plain": [
       "   department_id department\n",
       "0              1     frozen\n",
       "1              2      other\n",
       "2              3     bakery\n",
       "3              4    produce\n",
       "4              5    alcohol"
      ]
     },
     "execution_count": 6,
     "metadata": {},
     "output_type": "execute_result"
    }
   ],
   "source": [
    "departments_df = pd.read_csv('/datasets/departments.csv', sep=';')\n",
    "departments_df.info() #checking general info\n",
    "departments_df.head() #looking at rows to see incorrect or correct formatting"
   ]
  },
  {
   "cell_type": "markdown",
   "id": "07357848-dc64-4156-9cc3-01ff4365226d",
   "metadata": {},
   "source": [
    "## Find and remove duplicate values (and describe why you make your choices)"
   ]
  },
  {
   "cell_type": "markdown",
   "id": "f179f0a9",
   "metadata": {},
   "source": [
    "### `orders` data frame"
   ]
  },
  {
   "cell_type": "code",
   "execution_count": 7,
   "id": "b99297a5-405a-463d-8535-9adc3da4ad74",
   "metadata": {
    "trusted": false
   },
   "outputs": [
    {
     "data": {
      "text/plain": [
       "15"
      ]
     },
     "execution_count": 7,
     "metadata": {},
     "output_type": "execute_result"
    }
   ],
   "source": [
    "# Check for duplicated orders\n",
    "insta_cart_df['order_id'].duplicated().sum()"
   ]
  },
  {
   "cell_type": "code",
   "execution_count": 8,
   "id": "0d44de5d",
   "metadata": {
    "trusted": false
   },
   "outputs": [
    {
     "data": {
      "text/html": [
       "<div>\n",
       "<style scoped>\n",
       "    .dataframe tbody tr th:only-of-type {\n",
       "        vertical-align: middle;\n",
       "    }\n",
       "\n",
       "    .dataframe tbody tr th {\n",
       "        vertical-align: top;\n",
       "    }\n",
       "\n",
       "    .dataframe thead th {\n",
       "        text-align: right;\n",
       "    }\n",
       "</style>\n",
       "<table border=\"1\" class=\"dataframe\">\n",
       "  <thead>\n",
       "    <tr style=\"text-align: right;\">\n",
       "      <th></th>\n",
       "      <th>order_id</th>\n",
       "      <th>user_id</th>\n",
       "      <th>order_number</th>\n",
       "      <th>order_dow</th>\n",
       "      <th>order_hour_of_day</th>\n",
       "      <th>days_since_prior_order</th>\n",
       "    </tr>\n",
       "  </thead>\n",
       "  <tbody>\n",
       "    <tr>\n",
       "      <th>4838</th>\n",
       "      <td>2766110</td>\n",
       "      <td>162084</td>\n",
       "      <td>41</td>\n",
       "      <td>3</td>\n",
       "      <td>2</td>\n",
       "      <td>16.0</td>\n",
       "    </tr>\n",
       "    <tr>\n",
       "      <th>5156</th>\n",
       "      <td>2190225</td>\n",
       "      <td>138285</td>\n",
       "      <td>18</td>\n",
       "      <td>3</td>\n",
       "      <td>2</td>\n",
       "      <td>11.0</td>\n",
       "    </tr>\n",
       "    <tr>\n",
       "      <th>15506</th>\n",
       "      <td>553049</td>\n",
       "      <td>58599</td>\n",
       "      <td>13</td>\n",
       "      <td>3</td>\n",
       "      <td>2</td>\n",
       "      <td>7.0</td>\n",
       "    </tr>\n",
       "    <tr>\n",
       "      <th>18420</th>\n",
       "      <td>382357</td>\n",
       "      <td>120200</td>\n",
       "      <td>19</td>\n",
       "      <td>3</td>\n",
       "      <td>2</td>\n",
       "      <td>11.0</td>\n",
       "    </tr>\n",
       "    <tr>\n",
       "      <th>24691</th>\n",
       "      <td>690242</td>\n",
       "      <td>77357</td>\n",
       "      <td>2</td>\n",
       "      <td>3</td>\n",
       "      <td>2</td>\n",
       "      <td>9.0</td>\n",
       "    </tr>\n",
       "    <tr>\n",
       "      <th>...</th>\n",
       "      <td>...</td>\n",
       "      <td>...</td>\n",
       "      <td>...</td>\n",
       "      <td>...</td>\n",
       "      <td>...</td>\n",
       "      <td>...</td>\n",
       "    </tr>\n",
       "    <tr>\n",
       "      <th>457013</th>\n",
       "      <td>3384021</td>\n",
       "      <td>14881</td>\n",
       "      <td>6</td>\n",
       "      <td>3</td>\n",
       "      <td>2</td>\n",
       "      <td>30.0</td>\n",
       "    </tr>\n",
       "    <tr>\n",
       "      <th>458816</th>\n",
       "      <td>910166</td>\n",
       "      <td>164782</td>\n",
       "      <td>18</td>\n",
       "      <td>3</td>\n",
       "      <td>2</td>\n",
       "      <td>4.0</td>\n",
       "    </tr>\n",
       "    <tr>\n",
       "      <th>459635</th>\n",
       "      <td>1680532</td>\n",
       "      <td>106435</td>\n",
       "      <td>6</td>\n",
       "      <td>3</td>\n",
       "      <td>2</td>\n",
       "      <td>21.0</td>\n",
       "    </tr>\n",
       "    <tr>\n",
       "      <th>468324</th>\n",
       "      <td>222962</td>\n",
       "      <td>54979</td>\n",
       "      <td>59</td>\n",
       "      <td>3</td>\n",
       "      <td>2</td>\n",
       "      <td>3.0</td>\n",
       "    </tr>\n",
       "    <tr>\n",
       "      <th>477526</th>\n",
       "      <td>2592344</td>\n",
       "      <td>46860</td>\n",
       "      <td>38</td>\n",
       "      <td>3</td>\n",
       "      <td>2</td>\n",
       "      <td>3.0</td>\n",
       "    </tr>\n",
       "  </tbody>\n",
       "</table>\n",
       "<p>121 rows × 6 columns</p>\n",
       "</div>"
      ],
      "text/plain": [
       "        order_id  user_id  order_number  order_dow  order_hour_of_day  \\\n",
       "4838     2766110   162084            41          3                  2   \n",
       "5156     2190225   138285            18          3                  2   \n",
       "15506     553049    58599            13          3                  2   \n",
       "18420     382357   120200            19          3                  2   \n",
       "24691     690242    77357             2          3                  2   \n",
       "...          ...      ...           ...        ...                ...   \n",
       "457013   3384021    14881             6          3                  2   \n",
       "458816    910166   164782            18          3                  2   \n",
       "459635   1680532   106435             6          3                  2   \n",
       "468324    222962    54979            59          3                  2   \n",
       "477526   2592344    46860            38          3                  2   \n",
       "\n",
       "        days_since_prior_order  \n",
       "4838                      16.0  \n",
       "5156                      11.0  \n",
       "15506                      7.0  \n",
       "18420                     11.0  \n",
       "24691                      9.0  \n",
       "...                        ...  \n",
       "457013                    30.0  \n",
       "458816                     4.0  \n",
       "459635                    21.0  \n",
       "468324                     3.0  \n",
       "477526                     3.0  \n",
       "\n",
       "[121 rows x 6 columns]"
      ]
     },
     "metadata": {},
     "output_type": "display_data"
    }
   ],
   "source": [
    "# Check for all orders placed Wednesday at 2:00 AM\n",
    "display(insta_cart_df[(insta_cart_df['order_dow'] == 3) & (insta_cart_df['order_hour_of_day'] == 2)])"
   ]
  },
  {
   "cell_type": "code",
   "execution_count": 48,
   "id": "480563c7",
   "metadata": {
    "trusted": false
   },
   "outputs": [],
   "source": [
    "# Remove duplicate orders\n",
    "insta_cart_df = insta_cart_df.drop_duplicates().reset_index(drop=True)"
   ]
  },
  {
   "cell_type": "code",
   "execution_count": 10,
   "id": "0b2396a2",
   "metadata": {
    "trusted": false
   },
   "outputs": [
    {
     "data": {
      "text/html": [
       "<div>\n",
       "<style scoped>\n",
       "    .dataframe tbody tr th:only-of-type {\n",
       "        vertical-align: middle;\n",
       "    }\n",
       "\n",
       "    .dataframe tbody tr th {\n",
       "        vertical-align: top;\n",
       "    }\n",
       "\n",
       "    .dataframe thead th {\n",
       "        text-align: right;\n",
       "    }\n",
       "</style>\n",
       "<table border=\"1\" class=\"dataframe\">\n",
       "  <thead>\n",
       "    <tr style=\"text-align: right;\">\n",
       "      <th></th>\n",
       "      <th>index</th>\n",
       "      <th>0</th>\n",
       "    </tr>\n",
       "  </thead>\n",
       "  <tbody>\n",
       "    <tr>\n",
       "      <th>0</th>\n",
       "      <td>0</td>\n",
       "      <td>False</td>\n",
       "    </tr>\n",
       "    <tr>\n",
       "      <th>1</th>\n",
       "      <td>1</td>\n",
       "      <td>False</td>\n",
       "    </tr>\n",
       "    <tr>\n",
       "      <th>2</th>\n",
       "      <td>2</td>\n",
       "      <td>False</td>\n",
       "    </tr>\n",
       "    <tr>\n",
       "      <th>3</th>\n",
       "      <td>3</td>\n",
       "      <td>False</td>\n",
       "    </tr>\n",
       "    <tr>\n",
       "      <th>4</th>\n",
       "      <td>4</td>\n",
       "      <td>False</td>\n",
       "    </tr>\n",
       "    <tr>\n",
       "      <th>...</th>\n",
       "      <td>...</td>\n",
       "      <td>...</td>\n",
       "    </tr>\n",
       "    <tr>\n",
       "      <th>478947</th>\n",
       "      <td>478947</td>\n",
       "      <td>False</td>\n",
       "    </tr>\n",
       "    <tr>\n",
       "      <th>478948</th>\n",
       "      <td>478948</td>\n",
       "      <td>False</td>\n",
       "    </tr>\n",
       "    <tr>\n",
       "      <th>478949</th>\n",
       "      <td>478949</td>\n",
       "      <td>False</td>\n",
       "    </tr>\n",
       "    <tr>\n",
       "      <th>478950</th>\n",
       "      <td>478950</td>\n",
       "      <td>False</td>\n",
       "    </tr>\n",
       "    <tr>\n",
       "      <th>478951</th>\n",
       "      <td>478951</td>\n",
       "      <td>False</td>\n",
       "    </tr>\n",
       "  </tbody>\n",
       "</table>\n",
       "<p>478952 rows × 2 columns</p>\n",
       "</div>"
      ],
      "text/plain": [
       "         index      0\n",
       "0            0  False\n",
       "1            1  False\n",
       "2            2  False\n",
       "3            3  False\n",
       "4            4  False\n",
       "...        ...    ...\n",
       "478947  478947  False\n",
       "478948  478948  False\n",
       "478949  478949  False\n",
       "478950  478950  False\n",
       "478951  478951  False\n",
       "\n",
       "[478952 rows x 2 columns]"
      ]
     },
     "execution_count": 10,
     "metadata": {},
     "output_type": "execute_result"
    }
   ],
   "source": [
    "# Double check for duplicate rows\n",
    "insta_cart_df.duplicated().reset_index()"
   ]
  },
  {
   "cell_type": "code",
   "execution_count": 11,
   "id": "f6113ef1",
   "metadata": {
    "trusted": false
   },
   "outputs": [
    {
     "data": {
      "text/plain": [
       "0"
      ]
     },
     "execution_count": 11,
     "metadata": {},
     "output_type": "execute_result"
    }
   ],
   "source": [
    "# Double check for duplicate order IDs only\n",
    "insta_cart_df['order_id'].duplicated().sum()"
   ]
  },
  {
   "cell_type": "markdown",
   "id": "45e6bc46",
   "metadata": {},
   "source": [
    "### `products` data frame"
   ]
  },
  {
   "cell_type": "code",
   "execution_count": 12,
   "id": "5f526b5b-8175-46fa-a0fd-441767d50e64",
   "metadata": {
    "trusted": false
   },
   "outputs": [
    {
     "data": {
      "text/plain": [
       "0"
      ]
     },
     "execution_count": 12,
     "metadata": {},
     "output_type": "execute_result"
    }
   ],
   "source": [
    "# Check for fully duplicate rows\n",
    "products_df.duplicated().sum()"
   ]
  },
  {
   "cell_type": "markdown",
   "id": "53c7c94f",
   "metadata": {},
   "source": [
    "Checked the entire products DataFrame for duplicates."
   ]
  },
  {
   "cell_type": "code",
   "execution_count": 13,
   "id": "88daa4f4",
   "metadata": {
    "trusted": false
   },
   "outputs": [
    {
     "data": {
      "text/plain": [
       "0"
      ]
     },
     "execution_count": 13,
     "metadata": {},
     "output_type": "execute_result"
    }
   ],
   "source": [
    "# Check for just duplicate product IDs\n",
    "products_df.duplicated(subset='product_id').sum()"
   ]
  },
  {
   "cell_type": "markdown",
   "id": "83acf13e",
   "metadata": {},
   "source": [
    "Checked for duplicates in the single column 'product_id'"
   ]
  },
  {
   "cell_type": "code",
   "execution_count": 14,
   "id": "c773f0bf",
   "metadata": {
    "trusted": false
   },
   "outputs": [
    {
     "data": {
      "text/plain": [
       "1361"
      ]
     },
     "metadata": {},
     "output_type": "display_data"
    }
   ],
   "source": [
    "# Check for just duplicate product names (convert names to lowercase to compare better)\n",
    "products_df['product_name'] = products_df['product_name'].str.lower()\n",
    "products_df['product_name'].value_counts(dropna=False)\n",
    "display(products_df['product_name'].duplicated().sum())"
   ]
  },
  {
   "cell_type": "markdown",
   "id": "109bb6b6",
   "metadata": {},
   "source": [
    "First line, lowered all string values in 'product_name' and counted NaN values in second line."
   ]
  },
  {
   "cell_type": "markdown",
   "id": "b0f825ff",
   "metadata": {},
   "source": [
    "<font color='red'> we have a total of 1361 duplicates </font>"
   ]
  },
  {
   "cell_type": "code",
   "execution_count": 15,
   "id": "01efd02e",
   "metadata": {
    "trusted": false
   },
   "outputs": [
    {
     "name": "stdout",
     "output_type": "stream",
     "text": [
      "207\n"
     ]
    }
   ],
   "source": [
    "# Check for duplicate product names that aren't missing\n",
    "duplicate_counts = products_df['product_name'].dropna().value_counts()\n",
    "total_duplicates = duplicate_counts[duplicate_counts > 1].sum()\n",
    "print(total_duplicates)"
   ]
  },
  {
   "cell_type": "markdown",
   "id": "9da8d293",
   "metadata": {},
   "source": [
    "First I checked duplicates by dropping NaN values"
   ]
  },
  {
   "cell_type": "markdown",
   "id": "ae863589",
   "metadata": {},
   "source": [
    "<font color='red'> These are ambiguous entries in 'product_name' column non inclusive of NaN values. We are missing some labeling in the products.</font>"
   ]
  },
  {
   "cell_type": "markdown",
   "id": "60f30db1",
   "metadata": {},
   "source": [
    "### `departments` data frame"
   ]
  },
  {
   "cell_type": "code",
   "execution_count": 16,
   "id": "fb410ad4-0fbf-4b80-bb09-23fdea79afe3",
   "metadata": {
    "trusted": false
   },
   "outputs": [
    {
     "data": {
      "text/plain": [
       "0"
      ]
     },
     "execution_count": 16,
     "metadata": {},
     "output_type": "execute_result"
    }
   ],
   "source": [
    "#checking for duplicates in departments dataframe\n",
    "departments_df.duplicated().sum()"
   ]
  },
  {
   "cell_type": "code",
   "execution_count": 17,
   "id": "332b12bb",
   "metadata": {
    "trusted": false
   },
   "outputs": [
    {
     "data": {
      "text/plain": [
       "department_id    0\n",
       "department       0\n",
       "dtype: int64"
      ]
     },
     "execution_count": 17,
     "metadata": {},
     "output_type": "execute_result"
    }
   ],
   "source": [
    "#checked for NaN values \n",
    "departments_df.isna().sum()"
   ]
  },
  {
   "cell_type": "markdown",
   "id": "bd30d78e",
   "metadata": {},
   "source": [
    "Conclusion: There are no missing or NaN values in departments DataFrame."
   ]
  },
  {
   "cell_type": "markdown",
   "id": "889349c1",
   "metadata": {},
   "source": [
    "### `aisles` data frame"
   ]
  },
  {
   "cell_type": "code",
   "execution_count": 18,
   "id": "9da89fb9-4679-40f5-ad0d-c34df753a3f8",
   "metadata": {
    "trusted": false
   },
   "outputs": [
    {
     "data": {
      "text/plain": [
       "0"
      ]
     },
     "execution_count": 18,
     "metadata": {},
     "output_type": "execute_result"
    }
   ],
   "source": [
    "#checking for duplicates in aisles dataframe\n",
    "aisles_df.duplicated().sum()"
   ]
  },
  {
   "cell_type": "code",
   "execution_count": 19,
   "id": "da7c2822",
   "metadata": {
    "trusted": false
   },
   "outputs": [
    {
     "data": {
      "text/plain": [
       "aisle_id    0\n",
       "aisle       0\n",
       "dtype: int64"
      ]
     },
     "execution_count": 19,
     "metadata": {},
     "output_type": "execute_result"
    }
   ],
   "source": [
    "#checking for NaN values\n",
    "aisles_df.isna().sum()"
   ]
  },
  {
   "cell_type": "markdown",
   "id": "ac63826f",
   "metadata": {},
   "source": [
    "Conclusion: There are no missing or NaN values in aisles DataFrame"
   ]
  },
  {
   "cell_type": "markdown",
   "id": "274cd06a",
   "metadata": {},
   "source": [
    "### `order_products` data frame"
   ]
  },
  {
   "cell_type": "code",
   "execution_count": 20,
   "id": "52326689-84a8-4b8f-a881-7c68780f62c9",
   "metadata": {
    "trusted": false
   },
   "outputs": [
    {
     "data": {
      "text/plain": [
       "0"
      ]
     },
     "execution_count": 20,
     "metadata": {},
     "output_type": "execute_result"
    }
   ],
   "source": [
    "# Check for fullly duplicate rows\n",
    "order_products_df.duplicated().sum()"
   ]
  },
  {
   "cell_type": "code",
   "execution_count": 21,
   "id": "7b861391",
   "metadata": {
    "trusted": false
   },
   "outputs": [
    {
     "data": {
      "text/plain": [
       "0"
      ]
     },
     "execution_count": 21,
     "metadata": {},
     "output_type": "execute_result"
    }
   ],
   "source": [
    "# Double check for any other tricky duplicates\n",
    "order_products_df.duplicated(subset=['order_id', 'product_id']).sum()\n"
   ]
  },
  {
   "cell_type": "markdown",
   "id": "0b890492",
   "metadata": {},
   "source": [
    "Checked for duplicates first then used subset= parameter to check for tricky duplicates in 'order_id' and 'product_id'."
   ]
  },
  {
   "cell_type": "markdown",
   "id": "1e46de76",
   "metadata": {},
   "source": [
    "## Find and remove missing values\n"
   ]
  },
  {
   "cell_type": "markdown",
   "id": "c0aebd78",
   "metadata": {},
   "source": [
    "### `products` data frame"
   ]
  },
  {
   "cell_type": "code",
   "execution_count": 22,
   "id": "fe4a8b0f",
   "metadata": {
    "trusted": false
   },
   "outputs": [
    {
     "data": {
      "text/plain": [
       "product_id          0\n",
       "product_name     1258\n",
       "aisle_id            0\n",
       "department_id       0\n",
       "dtype: int64"
      ]
     },
     "execution_count": 22,
     "metadata": {},
     "output_type": "execute_result"
    }
   ],
   "source": [
    "products_df.isna().sum()"
   ]
  },
  {
   "cell_type": "code",
   "execution_count": 23,
   "id": "e96167bc",
   "metadata": {
    "scrolled": true,
    "trusted": false
   },
   "outputs": [
    {
     "name": "stdout",
     "output_type": "stream",
     "text": [
      "1258\n"
     ]
    }
   ],
   "source": [
    "# Are all of the missing product names associated with aisle ID 100?\n",
    "missing_values = products_df[products_df['product_name'].isna()]\n",
    "nan_aisle = (missing_values['aisle_id'] == 100)\n",
    "print(nan_aisle.sum())"
   ]
  },
  {
   "cell_type": "markdown",
   "id": "de3d038d",
   "metadata": {},
   "source": [
    "Selected NaN values out of 'product_name' and assigned it to a variable.\n",
    "Created variable applying my NaN values to a conditional of aisles equaling 100"
   ]
  },
  {
   "cell_type": "code",
   "execution_count": 24,
   "id": "8fd0a541",
   "metadata": {
    "trusted": false
   },
   "outputs": [
    {
     "name": "stdout",
     "output_type": "stream",
     "text": [
      "1258\n"
     ]
    }
   ],
   "source": [
    "# Are all of the missing product names associated with department ID 21?\n",
    "department_missing = (missing_values['department_id'] == 21)\n",
    "print(department_missing.sum())"
   ]
  },
  {
   "cell_type": "markdown",
   "id": "5b675e44",
   "metadata": {},
   "source": [
    "Used my prior variable to another conditional in 'department_id' column pulling only 21 ID number."
   ]
  },
  {
   "cell_type": "code",
   "execution_count": 25,
   "id": "325c3464",
   "metadata": {
    "trusted": false
   },
   "outputs": [
    {
     "name": "stdout",
     "output_type": "stream",
     "text": [
      "    aisle_id    aisle\n",
      "99       100  missing\n",
      "\n",
      "    department_id department\n",
      "20             21    missing\n"
     ]
    }
   ],
   "source": [
    "# What is this ailse and department?\n",
    "print(aisles_df[aisles_df['aisle_id'] == 100])\n",
    "print()\n",
    "print(departments_df[departments_df['department_id'] == 21])"
   ]
  },
  {
   "cell_type": "code",
   "execution_count": 26,
   "id": "323c9baa",
   "metadata": {
    "trusted": false
   },
   "outputs": [
    {
     "data": {
      "text/plain": [
       "product_id       0\n",
       "product_name     0\n",
       "aisle_id         0\n",
       "department_id    0\n",
       "dtype: int64"
      ]
     },
     "execution_count": 26,
     "metadata": {},
     "output_type": "execute_result"
    }
   ],
   "source": [
    "# Fill missing product names with 'Unknown'\n",
    "products_df['product_name'] = products_df['product_name'].fillna('unknown')\n",
    "products_df.isna().sum()"
   ]
  },
  {
   "cell_type": "markdown",
   "id": "fc70e5ad",
   "metadata": {},
   "source": [
    "Filled the NaN values with 'unknown'\n",
    "As well as re-checked to make sure there were no NaN values in the column anymore"
   ]
  },
  {
   "cell_type": "markdown",
   "id": "bfd245dc",
   "metadata": {},
   "source": [
    "Conclusion: There were 1258 NaN values in the products dataframe. Specifically 'product_name' column I applied conditionals to find that all missing values were in aisle 100 and all had a department ID of 21. I proceeded with renaming the NaN values with 'unknown' to make it clearer."
   ]
  },
  {
   "cell_type": "markdown",
   "id": "7eb45c86",
   "metadata": {},
   "source": [
    "### `orders` data frame"
   ]
  },
  {
   "cell_type": "code",
   "execution_count": 27,
   "id": "2a6c4592",
   "metadata": {
    "trusted": false
   },
   "outputs": [
    {
     "data": {
      "text/plain": [
       "index                         0\n",
       "order_id                      0\n",
       "user_id                       0\n",
       "order_number                  0\n",
       "order_dow                     0\n",
       "order_hour_of_day             0\n",
       "days_since_prior_order    28817\n",
       "dtype: int64"
      ]
     },
     "execution_count": 27,
     "metadata": {},
     "output_type": "execute_result"
    }
   ],
   "source": [
    "insta_cart_df.isna().sum()"
   ]
  },
  {
   "cell_type": "code",
   "execution_count": 28,
   "id": "166e5a86",
   "metadata": {
    "trusted": false
   },
   "outputs": [
    {
     "name": "stdout",
     "output_type": "stream",
     "text": [
      "0\n"
     ]
    }
   ],
   "source": [
    "# Are there any missing values where it's not a customer's first order?\n",
    "missing_instacart = insta_cart_df[insta_cart_df['days_since_prior_order'].isna()]\n",
    "missing_past_day1 = (missing_instacart['days_since_prior_order'] > 1)\n",
    "print(missing_past_day1.sum())"
   ]
  },
  {
   "cell_type": "markdown",
   "id": "69dc9ca4",
   "metadata": {},
   "source": [
    "### `order_products` data frame"
   ]
  },
  {
   "cell_type": "code",
   "execution_count": 29,
   "id": "b8240253",
   "metadata": {
    "trusted": false
   },
   "outputs": [
    {
     "data": {
      "text/plain": [
       "order_id               0\n",
       "product_id             0\n",
       "add_to_cart_order    836\n",
       "reordered              0\n",
       "dtype: int64"
      ]
     },
     "execution_count": 29,
     "metadata": {},
     "output_type": "execute_result"
    }
   ],
   "source": [
    "# Checking missing values sum\n",
    "order_products_df.isna().sum() "
   ]
  },
  {
   "cell_type": "code",
   "execution_count": 30,
   "id": "9a78e5ee",
   "metadata": {
    "trusted": false
   },
   "outputs": [
    {
     "data": {
      "text/plain": [
       "1.0"
      ]
     },
     "metadata": {},
     "output_type": "display_data"
    },
    {
     "data": {
      "text/plain": [
       "64.0"
      ]
     },
     "metadata": {},
     "output_type": "display_data"
    }
   ],
   "source": [
    "# What are the min and max values in this column?\n",
    "display(order_products_df['add_to_cart_order'].min())\n",
    "display(order_products_df['add_to_cart_order'].max())"
   ]
  },
  {
   "cell_type": "code",
   "execution_count": 31,
   "id": "ab9d0c2b",
   "metadata": {
    "scrolled": true,
    "trusted": false
   },
   "outputs": [
    {
     "name": "stdout",
     "output_type": "stream",
     "text": [
      "[2449164 1968313 2926893 1717990 1959075  844733   61355  936852  264710\n",
      " 1564093  129627  293169 2849370 1386261 3308010  903110 2136777 3347453\n",
      " 1888628  165801 2094761 1038146 2997021  813364 2256933  171934 2409109\n",
      " 1730767 1169835  733526  404157 3125735  747668 1800005 1961723  871281\n",
      "  388234 1648217 1477139  102236 1021563 1832957 2721963  678116 1220886\n",
      " 1673227 2999801 1633337 2470674 2625444 1677118 2479011 3383594 1183255\n",
      " 1713430 2652650 1598369 1916118  854647 1302315  888470  180546 2621907\n",
      " 1308785 2729254    9310 2170451 2979697 1625713 1529171]\n"
     ]
    }
   ],
   "source": [
    "# Save all order IDs with at least one missing value in 'add_to_cart_order'\n",
    "missing_values = order_products_df[order_products_df['add_to_cart_order'].isna()]\n",
    "order_id_missing = missing_values['order_id'].unique()\n",
    "print(order_id_missing)"
   ]
  },
  {
   "cell_type": "markdown",
   "id": "ea386ea8",
   "metadata": {},
   "source": [
    "First I applied the NaN values to a variable. Then I applied that variable to another column to check for those unique attributes. "
   ]
  },
  {
   "cell_type": "code",
   "execution_count": 32,
   "id": "953f63e3",
   "metadata": {
    "trusted": false
   },
   "outputs": [
    {
     "data": {
      "text/plain": [
       "True"
      ]
     },
     "metadata": {},
     "output_type": "display_data"
    }
   ],
   "source": [
    "# Do all orders with missing values have more than 64 products?\n",
    "missing_product_count = order_products_df[order_products_df['add_to_cart_order'].isna()]['order_id']\n",
    "\n",
    "problematic_orders = order_products_df[order_products_df['order_id'].isin(missing_product_count)]\n",
    "\n",
    "problematic_orders = problematic_orders.groupby('order_id')['product_id'].count()\n",
    "\n",
    "check_problematic_orders = problematic_orders > 64\n",
    "\n",
    "display(check_problematic_orders.min())\n"
   ]
  },
  {
   "cell_type": "markdown",
   "id": "1e135c28",
   "metadata": {},
   "source": [
    "I first pulled missing products which then could apply with .isin which then I grouped by and used logical operator to find my result specifically with columns 'order_id' and 'product_id'."
   ]
  },
  {
   "cell_type": "code",
   "execution_count": 33,
   "id": "7a987d08",
   "metadata": {
    "trusted": false
   },
   "outputs": [
    {
     "name": "stdout",
     "output_type": "stream",
     "text": [
      "<class 'pandas.core.frame.DataFrame'>\n",
      "RangeIndex: 4545007 entries, 0 to 4545006\n",
      "Data columns (total 4 columns):\n",
      " #   Column             Non-Null Count    Dtype\n",
      "---  ------             --------------    -----\n",
      " 0   order_id           4545007 non-null  int64\n",
      " 1   product_id         4545007 non-null  int64\n",
      " 2   add_to_cart_order  4545007 non-null  int64\n",
      " 3   reordered          4545007 non-null  int64\n",
      "dtypes: int64(4)\n",
      "memory usage: 138.7 MB\n"
     ]
    }
   ],
   "source": [
    "# Replace missing values with 999 and convert column to integer type\n",
    "order_products_df['add_to_cart_order'] = order_products_df['add_to_cart_order'].fillna(999).astype('int')\n",
    "\n",
    "#checking general info after changes\n",
    "order_products_df.info(show_counts=True)"
   ]
  },
  {
   "cell_type": "markdown",
   "id": "fc07e110",
   "metadata": {},
   "source": [
    "Replaced missing values in 'add_to_cart_order' column with 999 also switched column to integer type."
   ]
  },
  {
   "cell_type": "markdown",
   "id": "short-capability",
   "metadata": {},
   "source": [
    "### Verify that the `'order_hour_of_day'` and `'order_dow'` values in the `orders` tables are sensible (i.e. `'order_hour_of_day'` ranges from 0 to 23 and `'order_dow'` ranges from 0 to 6)"
   ]
  },
  {
   "cell_type": "code",
   "execution_count": 34,
   "id": "growing-fruit",
   "metadata": {
    "trusted": false
   },
   "outputs": [
    {
     "name": "stdout",
     "output_type": "stream",
     "text": [
      "Range of 'order_hour_of_day': 0 to 23\n",
      "Range of 'order_dow': 0 to 6\n"
     ]
    }
   ],
   "source": [
    "print(\"Range of 'order_hour_of_day':\", insta_cart_df['order_hour_of_day'].min(), \"to\", insta_cart_df['order_hour_of_day'].max())\n",
    "print(\"Range of 'order_dow':\", insta_cart_df['order_dow'].min(), \"to\", insta_cart_df['order_dow'].max())"
   ]
  },
  {
   "cell_type": "markdown",
   "id": "a492b8e4",
   "metadata": {},
   "source": [
    "Here I have pulled the ranges from both <font color='red'> 'order_hour_of_day' </font>  and <font color='red'> 'order_dow' </font>  This leads me to my conclusion these values are sensible. "
   ]
  },
  {
   "cell_type": "markdown",
   "id": "a6743a70",
   "metadata": {},
   "source": [
    "### What time of day do people shop for groceries?"
   ]
  },
  {
   "cell_type": "code",
   "execution_count": 35,
   "id": "a36cca27",
   "metadata": {
    "trusted": false
   },
   "outputs": [
    {
     "data": {
      "image/png": "[encoded data removed]",
      "text/plain": [
       "<Figure size 640x480 with 1 Axes>"
      ]
     },
     "metadata": {},
     "output_type": "display_data"
    }
   ],
   "source": [
    "# Calculate hourly order counts\n",
    "hourly_order_counts = insta_cart_df['order_hour_of_day'].value_counts().sort_index()\n",
    "\n",
    "# Plot the data\n",
    "hourly_order_counts.plot(x='hour',\n",
    "                         y='orders',\n",
    "                         title='Grocery Shopping Trends by Hour of Day',\n",
    "                         style='o-',\n",
    "                         xlabel=\"Hour of Day (0-23)\",\n",
    "                         ylabel=\"Number of Orders\",\n",
    "                         legend=False)\n",
    "\n",
    "# Show the plot\n",
    "plt.show()"
   ]
  },
  {
   "cell_type": "markdown",
   "id": "11270eed",
   "metadata": {},
   "source": [
    "Conclusion is the most shopped time of day is at around 11 am."
   ]
  },
  {
   "cell_type": "markdown",
   "id": "documented-command",
   "metadata": {},
   "source": [
    "### What day of the week do people shop for groceries?"
   ]
  },
  {
   "cell_type": "code",
   "execution_count": 36,
   "id": "chief-digit",
   "metadata": {
    "trusted": false
   },
   "outputs": [
    {
     "data": {
      "image/png": "[encoded data removed]",
      "text/plain": [
       "<Figure size 1000x600 with 1 Axes>"
      ]
     },
     "metadata": {},
     "output_type": "display_data"
    }
   ],
   "source": [
    "# Group by 'order_dow' (day of the week) and count the number of orders for each day\n",
    "daily_order_counts = insta_cart_df['order_dow'].value_counts().sort_index()\n",
    "\n",
    "# Plot the data\n",
    "daily_order_counts.plot(kind='bar',\n",
    "                        color='green',\n",
    "                        grid=True,\n",
    "                        ylabel='Number of Orders',\n",
    "                        xlabel='Day of the Week (0=Sunday, 6=Saturday)',\n",
    "                        rot=0,\n",
    "                        title='Grocery Shopping Trends by Day of the Week',\n",
    "                        figsize=(10, 6))\n",
    "\n",
    "# Show the plot\n",
    "plt.show()"
   ]
  },
  {
   "cell_type": "markdown",
   "id": "dominant-lightning",
   "metadata": {},
   "source": [
    "From this plot we can conclude the most shopped days are sunday(0) and monday(1). The lowest day shopped is thursday(4)"
   ]
  },
  {
   "cell_type": "markdown",
   "id": "cutting-concert",
   "metadata": {},
   "source": [
    "### How long do people wait until placing another order?"
   ]
  },
  {
   "cell_type": "code",
   "execution_count": 50,
   "id": "c231f523",
   "metadata": {
    "trusted": false
   },
   "outputs": [
    {
     "data": {
      "image/png": "[encoded data removed]",
      "text/plain": [
       "<Figure size 1000x600 with 1 Axes>"
      ]
     },
     "metadata": {},
     "output_type": "display_data"
    }
   ],
   "source": [
    "#fixed to int :)\n",
    "insta_cart_df['days_since_prior_order'] = insta_cart_df['days_since_prior_order'].fillna(0).astype(int)\n",
    "# Group by 'days_since_prior_order' and count the occurrence\n",
    "days_count = insta_cart_df['days_since_prior_order'].value_counts().sort_index()\n",
    "\n",
    "# Plot bar chart\n",
    "days_count.plot(kind='bar',\n",
    "                color='blue',\n",
    "                xlabel='Days Since Prior Order',\n",
    "                ylabel='Number of Orders',\n",
    "                title='Frequency of Days Since Prior Order',\n",
    "                figsize=[10,6],\n",
    "                rot=0,\n",
    "                grid=True)\n",
    " \n",
    "# Show plot\n",
    "plt.show()"
   ]
  },
  {
   "cell_type": "markdown",
   "id": "discrete-vertex",
   "metadata": {},
   "source": [
    "Plot shows there is a high frequency in buying after 7 days (about 44,000 orders) after last order. Also most commonly placed orders are 30 days (about 51,000 orders) after last order."
   ]
  },
  {
   "cell_type": "markdown",
   "id": "516cb307",
   "metadata": {},
   "source": [
    "# From all the plots:"
   ]
  },
  {
   "cell_type": "markdown",
   "id": "8d926614",
   "metadata": {},
   "source": [
    "I can conclude that the most shopped times are at 11 a.m. on sundays and mondays with a frequency of re-purchasing 7 days or 30 days after last purchase."
   ]
  },
  {
   "cell_type": "markdown",
   "id": "packed-classic",
   "metadata": {},
   "source": [
    "### Is there a difference in `'order_hour_of_day'` distributions on Wednesdays and Saturdays? Plot the histograms for both days and describe the differences that you see."
   ]
  },
  {
   "cell_type": "code",
   "execution_count": 38,
   "id": "d89b8403",
   "metadata": {
    "trusted": false
   },
   "outputs": [],
   "source": [
    "#Defining days and orders on those days\n",
    "\n",
    "wednesday_orders = insta_cart_df[insta_cart_df['order_dow'] == 3]['order_hour_of_day']\n",
    "saturday_orders = insta_cart_df[insta_cart_df['order_dow'] == 6]['order_hour_of_day']\n"
   ]
  },
  {
   "cell_type": "code",
   "execution_count": 39,
   "id": "94e54e8a",
   "metadata": {
    "trusted": false
   },
   "outputs": [
    {
     "data": {
      "text/plain": [
       "<matplotlib.legend.Legend at 0x7fb69ad3c0d0>"
      ]
     },
     "execution_count": 39,
     "metadata": {},
     "output_type": "execute_result"
    },
    {
     "data": {
      "image/png": "[encoded data removed]",
      "text/plain": [
       "<Figure size 1000x600 with 1 Axes>"
      ]
     },
     "metadata": {},
     "output_type": "display_data"
    }
   ],
   "source": [
    "wednesday_orders.plot(kind='hist', color='red', bins=24, figsize=(10,6))\n",
    "saturday_orders.plot(kind='hist',\n",
    "                     color='teal',\n",
    "                     alpha=0.5,\n",
    "                     bins=24,\n",
    "                     xlim=(0,23),\n",
    "                     xlabel='Hour of Day / (0-23)',\n",
    "                     title='Distribution of Orders(0-23hrs)')\n",
    "plt.legend(['Wednesday', 'Saturday'])"
   ]
  },
  {
   "cell_type": "markdown",
   "id": "42b3f2f4",
   "metadata": {},
   "source": [
    "<font color='red'>conclusion </font>  Saturdays are more shopped than wednesdays."
   ]
  },
  {
   "cell_type": "markdown",
   "id": "e3891143",
   "metadata": {},
   "source": [
    "### What's the distribution for the number of orders per customer?"
   ]
  },
  {
   "cell_type": "code",
   "execution_count": 40,
   "id": "d8c26c23",
   "metadata": {
    "trusted": false
   },
   "outputs": [
    {
     "name": "stdout",
     "output_type": "stream",
     "text": [
      "         orders\n",
      "user_id        \n",
      "2             4\n",
      "4             6\n",
      "5             4\n",
      "6             4\n",
      "7            19\n",
      "...         ...\n",
      "206203        2\n",
      "206206       66\n",
      "206207       14\n",
      "206208       34\n",
      "206209       13\n",
      "\n",
      "[157437 rows x 1 columns]\n"
     ]
    }
   ],
   "source": [
    "order_per_customer = insta_cart_df.groupby('user_id')['order_number'].max()\n",
    "orders_df = pd.DataFrame({'orders': order_per_customer})\n",
    "print(orders_df)"
   ]
  },
  {
   "cell_type": "code",
   "execution_count": 41,
   "id": "00e69a66",
   "metadata": {
    "trusted": false
   },
   "outputs": [
    {
     "data": {
      "image/png": "[encoded data removed]",
      "text/plain": [
       "<Figure size 640x480 with 1 Axes>"
      ]
     },
     "metadata": {},
     "output_type": "display_data"
    }
   ],
   "source": [
    "orders_df.plot(\n",
    "    y='orders',\n",
    "    kind='hist',\n",
    "    color='blue',\n",
    "    legend=False,\n",
    "    title='Distribution of Number of Orders per Customer',\n",
    ")\n",
    "plt.xlabel('Number of Orders')\n",
    "plt.ylabel('Number of Customers')\n",
    "plt.show()"
   ]
  },
  {
   "cell_type": "markdown",
   "id": "d2eff7d5",
   "metadata": {},
   "source": [
    "Conclusion the most amount of orders per customer is 1-10 "
   ]
  },
  {
   "cell_type": "markdown",
   "id": "54a0319c",
   "metadata": {},
   "source": [
    "### What are the top 20 popular products (display their id and name)?"
   ]
  },
  {
   "cell_type": "code",
   "execution_count": 42,
   "id": "exterior-arizona",
   "metadata": {
    "scrolled": true,
    "trusted": false
   },
   "outputs": [],
   "source": [
    "product_counts = order_products_df['product_id'].value_counts()\n",
    "\n",
    "product_counts_df = product_counts.reset_index()\n",
    "product_counts_df.columns = ['product_id', 'order_count']\n",
    "\n",
    "top_products = product_counts_df.merge(products_df[['product_id', 'product_name']], on='product_id')\n",
    "\n",
    "top_20_products = top_products.head(20)\n",
    "\n",
    "top_20_products_sorted = top_20_products.sort_values('order_count', ascending=True)\n"
   ]
  },
  {
   "cell_type": "code",
   "execution_count": 43,
   "id": "universal-facial",
   "metadata": {
    "trusted": false
   },
   "outputs": [
    {
     "data": {
      "image/png": "[encoded data removed]",
      "text/plain": [
       "<Figure size 1000x600 with 1 Axes>"
      ]
     },
     "metadata": {},
     "output_type": "display_data"
    }
   ],
   "source": [
    "top_20_products_sorted = top_20_products.sort_values('order_count', ascending=False)\n",
    "\n",
    "top_20_products_sorted.plot(kind='bar',\n",
    "                            x='product_name',\n",
    "                            y='order_count',\n",
    "                            color='blue',\n",
    "                            figsize=(10, 6),\n",
    "                            legend=False,title=\n",
    "                            'Top 20 Most Popular Products',\n",
    "                            xlabel='Product Name',\n",
    "                            ylabel='Number of Orders')\n",
    "\n",
    "\n",
    "plt.show()"
   ]
  },
  {
   "cell_type": "markdown",
   "id": "6eeb4e68",
   "metadata": {},
   "source": [
    "Conclusion is that instacarts top 20 products are fruits, vegetables, and dairy."
   ]
  },
  {
   "cell_type": "markdown",
   "id": "romantic-deposit",
   "metadata": {},
   "source": [
    "### How many items do people typically buy in one order? What does the distribution look like?"
   ]
  },
  {
   "cell_type": "code",
   "execution_count": 44,
   "id": "640eab23",
   "metadata": {
    "trusted": false
   },
   "outputs": [
    {
     "name": "stdout",
     "output_type": "stream",
     "text": [
      "Median number of items in an order: 8\n"
     ]
    },
    {
     "data": {
      "image/png": "[encoded data removed]",
      "text/plain": [
       "<Figure size 640x480 with 1 Axes>"
      ]
     },
     "metadata": {},
     "output_type": "display_data"
    }
   ],
   "source": [
    "\n",
    "item_per_order = order_products_df.groupby('order_id')['product_id'].count()\n",
    "\n",
    "median_items_per_order = item_per_order.median().astype(int)\n",
    "print(\"Median number of items in an order:\", median_items_per_order)\n",
    "\n",
    "item_per_order.plot(kind='hist', \n",
    "                    bins=130, \n",
    "                    color='blue', \n",
    "                    title='Distribution of Number of Items per Order', \n",
    "                    ylabel='Frequency', \n",
    "                    xlim=(0, 50))\n",
    "plt.xlabel('Number of Items in Order')\n",
    "plt.show()\n"
   ]
  },
  {
   "cell_type": "markdown",
   "id": "22836731",
   "metadata": {},
   "source": [
    "The typical amount bought per person is usually around 5-10 items which then start to decline.\n"
   ]
  },
  {
   "cell_type": "markdown",
   "id": "5e6b5537",
   "metadata": {},
   "source": [
    "### What are the top 20 items that are reordered most frequently (display their names and product IDs)?"
   ]
  },
  {
   "cell_type": "code",
   "execution_count": 45,
   "id": "9374e55a",
   "metadata": {
    "trusted": false
   },
   "outputs": [
    {
     "data": {
      "text/plain": [
       "24852    55763\n",
       "13176    44450\n",
       "21137    28639\n",
       "21903    26233\n",
       "47209    23629\n",
       "47766    18743\n",
       "27845    16251\n",
       "47626    15044\n",
       "27966    14748\n",
       "16797    13945\n",
       "26209    13327\n",
       "22935    11145\n",
       "24964    10411\n",
       "45007    10076\n",
       "49683     9538\n",
       "28204     8989\n",
       "8277      8836\n",
       "39275     8799\n",
       "5876      8412\n",
       "49235     8389\n",
       "Name: product_id, dtype: int64"
      ]
     },
     "metadata": {},
     "output_type": "display_data"
    }
   ],
   "source": [
    "reordered_products = order_products_df[order_products_df['reordered'] == 1]\n",
    "top_20_products = reordered_products['product_id'].value_counts().head(20)\n",
    "display(top_20_products)"
   ]
  },
  {
   "cell_type": "code",
   "execution_count": 46,
   "id": "possible-change",
   "metadata": {
    "scrolled": true,
    "trusted": false
   },
   "outputs": [
    {
     "data": {
      "text/html": [
       "<div>\n",
       "<style scoped>\n",
       "    .dataframe tbody tr th:only-of-type {\n",
       "        vertical-align: middle;\n",
       "    }\n",
       "\n",
       "    .dataframe tbody tr th {\n",
       "        vertical-align: top;\n",
       "    }\n",
       "\n",
       "    .dataframe thead th {\n",
       "        text-align: right;\n",
       "    }\n",
       "</style>\n",
       "<table border=\"1\" class=\"dataframe\">\n",
       "  <thead>\n",
       "    <tr style=\"text-align: right;\">\n",
       "      <th></th>\n",
       "      <th>product_id</th>\n",
       "      <th>count</th>\n",
       "      <th>product_name</th>\n",
       "      <th>aisle_id</th>\n",
       "      <th>department_id</th>\n",
       "    </tr>\n",
       "  </thead>\n",
       "  <tbody>\n",
       "    <tr>\n",
       "      <th>0</th>\n",
       "      <td>24852</td>\n",
       "      <td>55763</td>\n",
       "      <td>banana</td>\n",
       "      <td>24</td>\n",
       "      <td>4</td>\n",
       "    </tr>\n",
       "    <tr>\n",
       "      <th>1</th>\n",
       "      <td>13176</td>\n",
       "      <td>44450</td>\n",
       "      <td>bag of organic bananas</td>\n",
       "      <td>24</td>\n",
       "      <td>4</td>\n",
       "    </tr>\n",
       "    <tr>\n",
       "      <th>2</th>\n",
       "      <td>21137</td>\n",
       "      <td>28639</td>\n",
       "      <td>organic strawberries</td>\n",
       "      <td>24</td>\n",
       "      <td>4</td>\n",
       "    </tr>\n",
       "    <tr>\n",
       "      <th>3</th>\n",
       "      <td>21903</td>\n",
       "      <td>26233</td>\n",
       "      <td>organic baby spinach</td>\n",
       "      <td>123</td>\n",
       "      <td>4</td>\n",
       "    </tr>\n",
       "    <tr>\n",
       "      <th>4</th>\n",
       "      <td>47209</td>\n",
       "      <td>23629</td>\n",
       "      <td>organic hass avocado</td>\n",
       "      <td>24</td>\n",
       "      <td>4</td>\n",
       "    </tr>\n",
       "    <tr>\n",
       "      <th>5</th>\n",
       "      <td>47766</td>\n",
       "      <td>18743</td>\n",
       "      <td>organic avocado</td>\n",
       "      <td>24</td>\n",
       "      <td>4</td>\n",
       "    </tr>\n",
       "    <tr>\n",
       "      <th>6</th>\n",
       "      <td>27845</td>\n",
       "      <td>16251</td>\n",
       "      <td>organic whole milk</td>\n",
       "      <td>84</td>\n",
       "      <td>16</td>\n",
       "    </tr>\n",
       "    <tr>\n",
       "      <th>7</th>\n",
       "      <td>47626</td>\n",
       "      <td>15044</td>\n",
       "      <td>large lemon</td>\n",
       "      <td>24</td>\n",
       "      <td>4</td>\n",
       "    </tr>\n",
       "    <tr>\n",
       "      <th>8</th>\n",
       "      <td>27966</td>\n",
       "      <td>14748</td>\n",
       "      <td>organic raspberries</td>\n",
       "      <td>123</td>\n",
       "      <td>4</td>\n",
       "    </tr>\n",
       "    <tr>\n",
       "      <th>9</th>\n",
       "      <td>16797</td>\n",
       "      <td>13945</td>\n",
       "      <td>strawberries</td>\n",
       "      <td>24</td>\n",
       "      <td>4</td>\n",
       "    </tr>\n",
       "    <tr>\n",
       "      <th>10</th>\n",
       "      <td>26209</td>\n",
       "      <td>13327</td>\n",
       "      <td>limes</td>\n",
       "      <td>24</td>\n",
       "      <td>4</td>\n",
       "    </tr>\n",
       "    <tr>\n",
       "      <th>11</th>\n",
       "      <td>22935</td>\n",
       "      <td>11145</td>\n",
       "      <td>organic yellow onion</td>\n",
       "      <td>83</td>\n",
       "      <td>4</td>\n",
       "    </tr>\n",
       "    <tr>\n",
       "      <th>12</th>\n",
       "      <td>24964</td>\n",
       "      <td>10411</td>\n",
       "      <td>organic garlic</td>\n",
       "      <td>83</td>\n",
       "      <td>4</td>\n",
       "    </tr>\n",
       "    <tr>\n",
       "      <th>13</th>\n",
       "      <td>45007</td>\n",
       "      <td>10076</td>\n",
       "      <td>organic zucchini</td>\n",
       "      <td>83</td>\n",
       "      <td>4</td>\n",
       "    </tr>\n",
       "    <tr>\n",
       "      <th>14</th>\n",
       "      <td>49683</td>\n",
       "      <td>9538</td>\n",
       "      <td>cucumber kirby</td>\n",
       "      <td>83</td>\n",
       "      <td>4</td>\n",
       "    </tr>\n",
       "    <tr>\n",
       "      <th>15</th>\n",
       "      <td>28204</td>\n",
       "      <td>8989</td>\n",
       "      <td>organic fuji apple</td>\n",
       "      <td>24</td>\n",
       "      <td>4</td>\n",
       "    </tr>\n",
       "    <tr>\n",
       "      <th>16</th>\n",
       "      <td>8277</td>\n",
       "      <td>8836</td>\n",
       "      <td>apple honeycrisp organic</td>\n",
       "      <td>24</td>\n",
       "      <td>4</td>\n",
       "    </tr>\n",
       "    <tr>\n",
       "      <th>17</th>\n",
       "      <td>39275</td>\n",
       "      <td>8799</td>\n",
       "      <td>organic blueberries</td>\n",
       "      <td>123</td>\n",
       "      <td>4</td>\n",
       "    </tr>\n",
       "    <tr>\n",
       "      <th>18</th>\n",
       "      <td>5876</td>\n",
       "      <td>8412</td>\n",
       "      <td>organic lemon</td>\n",
       "      <td>24</td>\n",
       "      <td>4</td>\n",
       "    </tr>\n",
       "    <tr>\n",
       "      <th>19</th>\n",
       "      <td>49235</td>\n",
       "      <td>8389</td>\n",
       "      <td>organic half &amp; half</td>\n",
       "      <td>53</td>\n",
       "      <td>16</td>\n",
       "    </tr>\n",
       "  </tbody>\n",
       "</table>\n",
       "</div>"
      ],
      "text/plain": [
       "    product_id  count              product_name  aisle_id  department_id\n",
       "0        24852  55763                    banana        24              4\n",
       "1        13176  44450    bag of organic bananas        24              4\n",
       "2        21137  28639      organic strawberries        24              4\n",
       "3        21903  26233      organic baby spinach       123              4\n",
       "4        47209  23629      organic hass avocado        24              4\n",
       "5        47766  18743           organic avocado        24              4\n",
       "6        27845  16251        organic whole milk        84             16\n",
       "7        47626  15044               large lemon        24              4\n",
       "8        27966  14748       organic raspberries       123              4\n",
       "9        16797  13945              strawberries        24              4\n",
       "10       26209  13327                     limes        24              4\n",
       "11       22935  11145      organic yellow onion        83              4\n",
       "12       24964  10411            organic garlic        83              4\n",
       "13       45007  10076          organic zucchini        83              4\n",
       "14       49683   9538            cucumber kirby        83              4\n",
       "15       28204   8989        organic fuji apple        24              4\n",
       "16        8277   8836  apple honeycrisp organic        24              4\n",
       "17       39275   8799       organic blueberries       123              4\n",
       "18        5876   8412             organic lemon        24              4\n",
       "19       49235   8389       organic half & half        53             16"
      ]
     },
     "metadata": {},
     "output_type": "display_data"
    }
   ],
   "source": [
    "\n",
    "top_20_products = top_20_products.reset_index()\n",
    "top_20_products.columns = ['product_id', 'count']\n",
    "most_popular = top_20_products.merge(products_df, on='product_id')\n",
    "display(most_popular)"
   ]
  },
  {
   "cell_type": "markdown",
   "id": "3ed6c09a",
   "metadata": {},
   "source": [
    "Conclusion is the top 20 products are produce items we can gather valuable information in count, aisle, department. A lot of general important information. This not only tells us the top 20 in general but what does best in order with bananas being a favorite!"
   ]
  },
  {
   "cell_type": "markdown",
   "id": "3442ad7d",
   "metadata": {},
   "source": [
    "<h2> \n",
    "    Conclusion"
   ]
  },
  {
   "cell_type": "markdown",
   "id": "4c945f94",
   "metadata": {},
   "source": [
    "Here I have come to a conclusion that the top products on Instacart are:\n",
    "\n",
    "fruit, dairy, and vegetables.\n",
    " \n",
    "A typical person usually purchases 5 - 10 items on average per order.\n",
    "\n",
    "The most active shopping times range from 9 a.m. and 5 p.m.\n",
    "\n",
    "The most active days for shopping are Sundays and Mondays.\n",
    "\n",
    "Customers typically re-purchase a month after.\n",
    "\n",
    "With all of this information we can now create better business strategies. On specific deals enticing more or new customers. We could send out re-targeting emails to bring customers back more often than 30 days. "
   ]
  }
 ],
 "metadata": {
  "ExecuteTimeLog": [
   {
    "duration": 316,
    "start_time": "2024-12-05T00:49:35.413Z"
   },
   {
    "duration": 224,
    "start_time": "2024-12-05T00:49:35.732Z"
   },
   {
    "duration": 0,
    "start_time": "2024-12-05T00:49:35.958Z"
   },
   {
    "duration": 0,
    "start_time": "2024-12-05T00:49:35.960Z"
   },
   {
    "duration": 0,
    "start_time": "2024-12-05T00:49:35.961Z"
   },
   {
    "duration": 0,
    "start_time": "2024-12-05T00:49:35.962Z"
   },
   {
    "duration": 0,
    "start_time": "2024-12-05T00:49:35.963Z"
   },
   {
    "duration": 0,
    "start_time": "2024-12-05T00:49:35.963Z"
   },
   {
    "duration": 0,
    "start_time": "2024-12-05T00:49:35.965Z"
   },
   {
    "duration": 0,
    "start_time": "2024-12-05T00:49:35.966Z"
   },
   {
    "duration": 0,
    "start_time": "2024-12-05T00:49:35.967Z"
   },
   {
    "duration": 0,
    "start_time": "2024-12-05T00:49:35.968Z"
   },
   {
    "duration": 0,
    "start_time": "2024-12-05T00:49:35.969Z"
   },
   {
    "duration": 0,
    "start_time": "2024-12-05T00:49:35.970Z"
   },
   {
    "duration": 0,
    "start_time": "2024-12-05T00:49:35.971Z"
   },
   {
    "duration": 0,
    "start_time": "2024-12-05T00:49:35.972Z"
   },
   {
    "duration": 0,
    "start_time": "2024-12-05T00:49:35.973Z"
   },
   {
    "duration": 0,
    "start_time": "2024-12-05T00:49:35.975Z"
   },
   {
    "duration": 0,
    "start_time": "2024-12-05T00:49:35.975Z"
   },
   {
    "duration": 0,
    "start_time": "2024-12-05T00:49:35.976Z"
   },
   {
    "duration": 0,
    "start_time": "2024-12-05T00:49:35.977Z"
   },
   {
    "duration": 0,
    "start_time": "2024-12-05T00:49:35.979Z"
   },
   {
    "duration": 0,
    "start_time": "2024-12-05T00:49:35.981Z"
   },
   {
    "duration": 0,
    "start_time": "2024-12-05T00:49:35.982Z"
   },
   {
    "duration": 0,
    "start_time": "2024-12-05T00:49:36.024Z"
   },
   {
    "duration": 0,
    "start_time": "2024-12-05T00:49:36.025Z"
   },
   {
    "duration": 0,
    "start_time": "2024-12-05T00:49:36.027Z"
   },
   {
    "duration": 0,
    "start_time": "2024-12-05T00:49:36.029Z"
   },
   {
    "duration": 298,
    "start_time": "2024-12-05T00:50:47.983Z"
   },
   {
    "duration": 1889,
    "start_time": "2024-12-05T00:50:48.283Z"
   },
   {
    "duration": 3,
    "start_time": "2024-12-05T00:50:50.174Z"
   },
   {
    "duration": 335,
    "start_time": "2024-12-05T00:50:50.178Z"
   },
   {
    "duration": 49,
    "start_time": "2024-12-05T00:50:50.516Z"
   },
   {
    "duration": 2241,
    "start_time": "2024-12-05T00:50:50.567Z"
   },
   {
    "duration": 7,
    "start_time": "2024-12-05T00:50:52.810Z"
   },
   {
    "duration": 6,
    "start_time": "2024-12-05T00:50:52.821Z"
   },
   {
    "duration": 3,
    "start_time": "2024-12-05T00:50:52.828Z"
   },
   {
    "duration": 2,
    "start_time": "2024-12-05T00:50:52.832Z"
   },
   {
    "duration": 2,
    "start_time": "2024-12-05T00:50:52.836Z"
   },
   {
    "duration": 3,
    "start_time": "2024-12-05T00:50:52.840Z"
   },
   {
    "duration": 4,
    "start_time": "2024-12-05T00:50:52.844Z"
   },
   {
    "duration": 2,
    "start_time": "2024-12-05T00:50:52.851Z"
   },
   {
    "duration": 2,
    "start_time": "2024-12-05T00:50:52.855Z"
   },
   {
    "duration": 2,
    "start_time": "2024-12-05T00:50:52.859Z"
   },
   {
    "duration": 2,
    "start_time": "2024-12-05T00:50:52.863Z"
   },
   {
    "duration": 3,
    "start_time": "2024-12-05T00:50:52.867Z"
   },
   {
    "duration": 2,
    "start_time": "2024-12-05T00:50:52.872Z"
   },
   {
    "duration": 49,
    "start_time": "2024-12-05T00:50:52.876Z"
   },
   {
    "duration": 3,
    "start_time": "2024-12-05T00:50:52.927Z"
   },
   {
    "duration": 3,
    "start_time": "2024-12-05T00:50:52.932Z"
   },
   {
    "duration": 2,
    "start_time": "2024-12-05T00:50:52.937Z"
   },
   {
    "duration": 3,
    "start_time": "2024-12-05T00:50:52.941Z"
   },
   {
    "duration": 3,
    "start_time": "2024-12-05T00:50:52.945Z"
   },
   {
    "duration": 3,
    "start_time": "2024-12-05T00:50:52.950Z"
   },
   {
    "duration": 2,
    "start_time": "2024-12-05T00:50:52.955Z"
   },
   {
    "duration": 5,
    "start_time": "2024-12-05T00:50:52.959Z"
   },
   {
    "duration": 36,
    "start_time": "2024-12-05T00:51:42.429Z"
   },
   {
    "duration": 48,
    "start_time": "2024-12-05T00:52:24.067Z"
   },
   {
    "duration": 49,
    "start_time": "2024-12-05T03:24:24.039Z"
   },
   {
    "duration": 287,
    "start_time": "2024-12-05T03:24:45.560Z"
   },
   {
    "duration": 126,
    "start_time": "2024-12-05T03:24:59.684Z"
   },
   {
    "duration": 2070,
    "start_time": "2024-12-05T03:25:37.474Z"
   },
   {
    "duration": 713,
    "start_time": "2024-12-05T03:25:50.411Z"
   },
   {
    "duration": 12,
    "start_time": "2024-12-05T03:26:22.445Z"
   },
   {
    "duration": 13,
    "start_time": "2024-12-05T03:26:35.271Z"
   },
   {
    "duration": 13,
    "start_time": "2024-12-05T03:27:03.217Z"
   },
   {
    "duration": 15,
    "start_time": "2024-12-05T03:28:06.832Z"
   },
   {
    "duration": 349,
    "start_time": "2024-12-05T03:28:46.595Z"
   },
   {
    "duration": 307,
    "start_time": "2024-12-05T03:28:59.161Z"
   },
   {
    "duration": 132,
    "start_time": "2024-12-05T03:28:59.470Z"
   },
   {
    "duration": 3,
    "start_time": "2024-12-05T03:28:59.604Z"
   },
   {
    "duration": 193,
    "start_time": "2024-12-05T03:28:59.609Z"
   },
   {
    "duration": 61,
    "start_time": "2024-12-05T03:28:59.805Z"
   },
   {
    "duration": 729,
    "start_time": "2024-12-05T03:28:59.868Z"
   },
   {
    "duration": 13,
    "start_time": "2024-12-05T03:29:00.599Z"
   },
   {
    "duration": 22,
    "start_time": "2024-12-05T03:29:00.613Z"
   },
   {
    "duration": 3,
    "start_time": "2024-12-05T03:29:00.637Z"
   },
   {
    "duration": 2,
    "start_time": "2024-12-05T03:29:00.642Z"
   },
   {
    "duration": 2,
    "start_time": "2024-12-05T03:29:00.646Z"
   },
   {
    "duration": 2,
    "start_time": "2024-12-05T03:29:00.650Z"
   },
   {
    "duration": 3,
    "start_time": "2024-12-05T03:29:00.654Z"
   },
   {
    "duration": 2,
    "start_time": "2024-12-05T03:29:00.661Z"
   },
   {
    "duration": 2,
    "start_time": "2024-12-05T03:29:00.665Z"
   },
   {
    "duration": 3,
    "start_time": "2024-12-05T03:29:00.669Z"
   },
   {
    "duration": 4,
    "start_time": "2024-12-05T03:29:00.674Z"
   },
   {
    "duration": 46,
    "start_time": "2024-12-05T03:29:00.679Z"
   },
   {
    "duration": 3,
    "start_time": "2024-12-05T03:29:00.727Z"
   },
   {
    "duration": 2,
    "start_time": "2024-12-05T03:29:00.732Z"
   },
   {
    "duration": 2,
    "start_time": "2024-12-05T03:29:00.737Z"
   },
   {
    "duration": 2,
    "start_time": "2024-12-05T03:29:00.741Z"
   },
   {
    "duration": 3,
    "start_time": "2024-12-05T03:29:00.745Z"
   },
   {
    "duration": 3,
    "start_time": "2024-12-05T03:29:00.749Z"
   },
   {
    "duration": 3,
    "start_time": "2024-12-05T03:29:00.754Z"
   },
   {
    "duration": 3,
    "start_time": "2024-12-05T03:29:00.758Z"
   },
   {
    "duration": 3,
    "start_time": "2024-12-05T03:29:00.762Z"
   },
   {
    "duration": 2,
    "start_time": "2024-12-05T03:29:00.767Z"
   },
   {
    "duration": 751,
    "start_time": "2024-12-05T03:32:28.255Z"
   },
   {
    "duration": 45,
    "start_time": "2024-12-05T03:34:14.242Z"
   },
   {
    "duration": 90,
    "start_time": "2024-12-05T03:39:37.112Z"
   },
   {
    "duration": 88,
    "start_time": "2024-12-05T03:39:44.177Z"
   },
   {
    "duration": 94,
    "start_time": "2024-12-05T04:21:33.497Z"
   },
   {
    "duration": 5,
    "start_time": "2024-12-05T04:22:45.818Z"
   },
   {
    "duration": 183,
    "start_time": "2024-12-05T04:24:10.001Z"
   },
   {
    "duration": 13,
    "start_time": "2024-12-05T04:24:52.589Z"
   },
   {
    "duration": 13,
    "start_time": "2024-12-05T04:24:57.175Z"
   },
   {
    "duration": 160,
    "start_time": "2024-12-05T19:02:23.757Z"
   },
   {
    "duration": 319,
    "start_time": "2024-12-05T19:02:30.705Z"
   },
   {
    "duration": 1839,
    "start_time": "2024-12-05T19:02:31.027Z"
   },
   {
    "duration": 3,
    "start_time": "2024-12-05T19:02:32.868Z"
   },
   {
    "duration": 168,
    "start_time": "2024-12-05T19:02:32.873Z"
   },
   {
    "duration": 63,
    "start_time": "2024-12-05T19:02:33.043Z"
   },
   {
    "duration": 845,
    "start_time": "2024-12-05T19:02:33.108Z"
   },
   {
    "duration": 18,
    "start_time": "2024-12-05T19:02:33.955Z"
   },
   {
    "duration": 16,
    "start_time": "2024-12-05T19:02:33.975Z"
   },
   {
    "duration": 248,
    "start_time": "2024-12-05T19:02:33.993Z"
   },
   {
    "duration": 0,
    "start_time": "2024-12-05T19:02:34.244Z"
   },
   {
    "duration": 0,
    "start_time": "2024-12-05T19:02:34.246Z"
   },
   {
    "duration": 0,
    "start_time": "2024-12-05T19:02:34.248Z"
   },
   {
    "duration": 0,
    "start_time": "2024-12-05T19:02:34.249Z"
   },
   {
    "duration": 0,
    "start_time": "2024-12-05T19:02:34.251Z"
   },
   {
    "duration": 0,
    "start_time": "2024-12-05T19:02:34.252Z"
   },
   {
    "duration": 0,
    "start_time": "2024-12-05T19:02:34.254Z"
   },
   {
    "duration": 0,
    "start_time": "2024-12-05T19:02:34.255Z"
   },
   {
    "duration": 0,
    "start_time": "2024-12-05T19:02:34.257Z"
   },
   {
    "duration": 0,
    "start_time": "2024-12-05T19:02:34.259Z"
   },
   {
    "duration": 0,
    "start_time": "2024-12-05T19:02:34.260Z"
   },
   {
    "duration": 0,
    "start_time": "2024-12-05T19:02:34.261Z"
   },
   {
    "duration": 0,
    "start_time": "2024-12-05T19:02:34.263Z"
   },
   {
    "duration": 0,
    "start_time": "2024-12-05T19:02:34.264Z"
   },
   {
    "duration": 0,
    "start_time": "2024-12-05T19:02:34.266Z"
   },
   {
    "duration": 0,
    "start_time": "2024-12-05T19:02:34.268Z"
   },
   {
    "duration": 0,
    "start_time": "2024-12-05T19:02:34.269Z"
   },
   {
    "duration": 0,
    "start_time": "2024-12-05T19:02:34.309Z"
   },
   {
    "duration": 0,
    "start_time": "2024-12-05T19:02:34.312Z"
   },
   {
    "duration": 6,
    "start_time": "2024-12-05T19:02:37.913Z"
   },
   {
    "duration": 383,
    "start_time": "2024-12-05T19:05:10.778Z"
   },
   {
    "duration": 143,
    "start_time": "2024-12-05T19:05:28.348Z"
   },
   {
    "duration": 3,
    "start_time": "2024-12-05T19:06:29.524Z"
   },
   {
    "duration": 3,
    "start_time": "2024-12-05T19:06:47.040Z"
   },
   {
    "duration": 93,
    "start_time": "2024-12-05T19:06:57.132Z"
   },
   {
    "duration": 4,
    "start_time": "2024-12-05T19:09:14.192Z"
   },
   {
    "duration": 8,
    "start_time": "2024-12-05T19:09:35.501Z"
   },
   {
    "duration": 75,
    "start_time": "2024-12-05T19:09:42.480Z"
   },
   {
    "duration": 12,
    "start_time": "2024-12-05T19:13:47.382Z"
   },
   {
    "duration": 71,
    "start_time": "2024-12-05T19:33:14.308Z"
   },
   {
    "duration": 52,
    "start_time": "2024-12-05T19:33:30.138Z"
   },
   {
    "duration": 104,
    "start_time": "2024-12-05T19:34:42.286Z"
   },
   {
    "duration": 107,
    "start_time": "2024-12-05T19:35:25.514Z"
   },
   {
    "duration": 131,
    "start_time": "2024-12-05T19:35:28.434Z"
   },
   {
    "duration": 47,
    "start_time": "2024-12-05T19:35:31.825Z"
   },
   {
    "duration": 14,
    "start_time": "2024-12-05T19:35:51.294Z"
   },
   {
    "duration": 12,
    "start_time": "2024-12-05T19:36:05.894Z"
   },
   {
    "duration": 86,
    "start_time": "2024-12-05T19:36:30.929Z"
   },
   {
    "duration": 80,
    "start_time": "2024-12-05T19:36:35.929Z"
   },
   {
    "duration": 79,
    "start_time": "2024-12-05T19:36:54.948Z"
   },
   {
    "duration": 50,
    "start_time": "2024-12-05T19:37:35.746Z"
   },
   {
    "duration": 330,
    "start_time": "2024-12-05T19:37:43.631Z"
   },
   {
    "duration": 131,
    "start_time": "2024-12-05T19:37:43.963Z"
   },
   {
    "duration": 2,
    "start_time": "2024-12-05T19:37:44.096Z"
   },
   {
    "duration": 176,
    "start_time": "2024-12-05T19:37:44.108Z"
   },
   {
    "duration": 50,
    "start_time": "2024-12-05T19:37:44.287Z"
   },
   {
    "duration": 756,
    "start_time": "2024-12-05T19:37:44.340Z"
   },
   {
    "duration": 14,
    "start_time": "2024-12-05T19:37:45.098Z"
   },
   {
    "duration": 11,
    "start_time": "2024-12-05T19:37:45.114Z"
   },
   {
    "duration": 108,
    "start_time": "2024-12-05T19:37:45.127Z"
   },
   {
    "duration": 11,
    "start_time": "2024-12-05T19:37:45.238Z"
   },
   {
    "duration": 107,
    "start_time": "2024-12-05T19:37:45.251Z"
   },
   {
    "duration": 94,
    "start_time": "2024-12-05T19:37:45.360Z"
   },
   {
    "duration": 73,
    "start_time": "2024-12-05T19:37:45.456Z"
   },
   {
    "duration": 3,
    "start_time": "2024-12-05T19:37:45.533Z"
   },
   {
    "duration": 2,
    "start_time": "2024-12-05T19:37:45.537Z"
   },
   {
    "duration": 2,
    "start_time": "2024-12-05T19:37:45.542Z"
   },
   {
    "duration": 2,
    "start_time": "2024-12-05T19:37:45.546Z"
   },
   {
    "duration": 2,
    "start_time": "2024-12-05T19:37:45.550Z"
   },
   {
    "duration": 2,
    "start_time": "2024-12-05T19:37:45.554Z"
   },
   {
    "duration": 2,
    "start_time": "2024-12-05T19:37:45.558Z"
   },
   {
    "duration": 3,
    "start_time": "2024-12-05T19:37:45.562Z"
   },
   {
    "duration": 41,
    "start_time": "2024-12-05T19:37:45.567Z"
   },
   {
    "duration": 3,
    "start_time": "2024-12-05T19:37:45.611Z"
   },
   {
    "duration": 2,
    "start_time": "2024-12-05T19:37:45.616Z"
   },
   {
    "duration": 3,
    "start_time": "2024-12-05T19:37:45.620Z"
   },
   {
    "duration": 3,
    "start_time": "2024-12-05T19:37:45.625Z"
   },
   {
    "duration": 3,
    "start_time": "2024-12-05T19:37:45.629Z"
   },
   {
    "duration": 2,
    "start_time": "2024-12-05T19:37:45.634Z"
   },
   {
    "duration": 52,
    "start_time": "2024-12-05T19:39:29.777Z"
   },
   {
    "duration": 48,
    "start_time": "2024-12-05T19:39:44.875Z"
   },
   {
    "duration": 180,
    "start_time": "2024-12-05T19:48:32.577Z"
   },
   {
    "duration": 13,
    "start_time": "2024-12-05T19:48:54.730Z"
   },
   {
    "duration": 19,
    "start_time": "2024-12-05T19:49:07.297Z"
   },
   {
    "duration": 24,
    "start_time": "2024-12-05T19:49:27.058Z"
   },
   {
    "duration": 13,
    "start_time": "2024-12-05T19:49:37.818Z"
   },
   {
    "duration": 7,
    "start_time": "2024-12-05T19:50:28.313Z"
   },
   {
    "duration": 6,
    "start_time": "2024-12-05T19:50:34.475Z"
   },
   {
    "duration": 15,
    "start_time": "2024-12-05T20:40:40.323Z"
   },
   {
    "duration": 15,
    "start_time": "2024-12-05T20:41:21.175Z"
   },
   {
    "duration": 19,
    "start_time": "2024-12-05T20:42:15.062Z"
   },
   {
    "duration": 17,
    "start_time": "2024-12-05T20:42:21.490Z"
   },
   {
    "duration": 29,
    "start_time": "2024-12-05T20:42:30.335Z"
   },
   {
    "duration": 31,
    "start_time": "2024-12-05T20:42:38.810Z"
   },
   {
    "duration": 30,
    "start_time": "2024-12-05T20:45:45.859Z"
   },
   {
    "duration": 37,
    "start_time": "2024-12-05T20:46:23.293Z"
   },
   {
    "duration": 81,
    "start_time": "2024-12-05T20:47:17.209Z"
   },
   {
    "duration": 51,
    "start_time": "2024-12-05T20:47:24.239Z"
   },
   {
    "duration": 12,
    "start_time": "2024-12-05T20:47:49.454Z"
   },
   {
    "duration": 20,
    "start_time": "2024-12-05T20:48:14.730Z"
   },
   {
    "duration": 20,
    "start_time": "2024-12-05T20:48:20.051Z"
   },
   {
    "duration": 9,
    "start_time": "2024-12-05T20:49:07.490Z"
   },
   {
    "duration": 8,
    "start_time": "2024-12-05T20:49:13.558Z"
   },
   {
    "duration": 25,
    "start_time": "2024-12-05T21:03:54.658Z"
   },
   {
    "duration": 13,
    "start_time": "2024-12-05T21:12:41.328Z"
   },
   {
    "duration": 27,
    "start_time": "2024-12-05T21:12:51.257Z"
   },
   {
    "duration": 25,
    "start_time": "2024-12-05T21:13:05.664Z"
   },
   {
    "duration": 5,
    "start_time": "2024-12-05T22:35:28.968Z"
   },
   {
    "duration": 15,
    "start_time": "2024-12-05T22:35:50.811Z"
   },
   {
    "duration": 10,
    "start_time": "2024-12-05T22:35:57.941Z"
   },
   {
    "duration": 378,
    "start_time": "2024-12-05T22:36:07.038Z"
   },
   {
    "duration": 13,
    "start_time": "2024-12-05T22:36:16.776Z"
   },
   {
    "duration": 5,
    "start_time": "2024-12-05T22:37:17.700Z"
   },
   {
    "duration": 793,
    "start_time": "2024-12-05T22:39:12.600Z"
   },
   {
    "duration": 7,
    "start_time": "2024-12-05T22:50:17.764Z"
   },
   {
    "duration": 300,
    "start_time": "2024-12-05T22:53:52.055Z"
   },
   {
    "duration": 136,
    "start_time": "2024-12-05T22:53:52.357Z"
   },
   {
    "duration": 2,
    "start_time": "2024-12-05T22:53:52.495Z"
   },
   {
    "duration": 180,
    "start_time": "2024-12-05T22:53:52.508Z"
   },
   {
    "duration": 51,
    "start_time": "2024-12-05T22:53:52.690Z"
   },
   {
    "duration": 744,
    "start_time": "2024-12-05T22:53:52.743Z"
   },
   {
    "duration": 14,
    "start_time": "2024-12-05T22:53:53.489Z"
   },
   {
    "duration": 16,
    "start_time": "2024-12-05T22:53:53.508Z"
   },
   {
    "duration": 49,
    "start_time": "2024-12-05T22:53:53.526Z"
   },
   {
    "duration": 12,
    "start_time": "2024-12-05T22:53:53.578Z"
   },
   {
    "duration": 123,
    "start_time": "2024-12-05T22:53:53.591Z"
   },
   {
    "duration": 102,
    "start_time": "2024-12-05T22:53:53.716Z"
   },
   {
    "duration": 26,
    "start_time": "2024-12-05T22:53:53.820Z"
   },
   {
    "duration": 13,
    "start_time": "2024-12-05T22:53:53.848Z"
   },
   {
    "duration": 6,
    "start_time": "2024-12-05T22:53:53.862Z"
   },
   {
    "duration": 57,
    "start_time": "2024-12-05T22:53:53.869Z"
   },
   {
    "duration": 18,
    "start_time": "2024-12-05T22:53:53.928Z"
   },
   {
    "duration": 5,
    "start_time": "2024-12-05T22:53:53.947Z"
   },
   {
    "duration": 5,
    "start_time": "2024-12-05T22:53:53.954Z"
   },
   {
    "duration": 857,
    "start_time": "2024-12-05T22:53:53.960Z"
   },
   {
    "duration": 3,
    "start_time": "2024-12-05T22:53:54.818Z"
   },
   {
    "duration": 2,
    "start_time": "2024-12-05T22:53:54.824Z"
   },
   {
    "duration": 3,
    "start_time": "2024-12-05T22:53:54.828Z"
   },
   {
    "duration": 3,
    "start_time": "2024-12-05T22:53:54.832Z"
   },
   {
    "duration": 3,
    "start_time": "2024-12-05T22:53:54.837Z"
   },
   {
    "duration": 2,
    "start_time": "2024-12-05T22:53:54.842Z"
   },
   {
    "duration": 4,
    "start_time": "2024-12-05T22:53:54.845Z"
   },
   {
    "duration": 2,
    "start_time": "2024-12-05T22:53:54.852Z"
   },
   {
    "duration": 2,
    "start_time": "2024-12-05T22:53:54.856Z"
   },
   {
    "duration": 3,
    "start_time": "2024-12-05T22:53:54.860Z"
   },
   {
    "duration": 31,
    "start_time": "2024-12-05T22:54:45.701Z"
   },
   {
    "duration": 6,
    "start_time": "2024-12-05T22:55:08.634Z"
   },
   {
    "duration": 201,
    "start_time": "2024-12-05T22:55:38.844Z"
   },
   {
    "duration": 32,
    "start_time": "2024-12-05T22:55:47.749Z"
   },
   {
    "duration": 33,
    "start_time": "2024-12-05T22:58:00.009Z"
   },
   {
    "duration": 86,
    "start_time": "2024-12-05T23:00:12.992Z"
   },
   {
    "duration": 27,
    "start_time": "2024-12-05T23:00:30.369Z"
   },
   {
    "duration": 5,
    "start_time": "2024-12-05T23:41:04.518Z"
   },
   {
    "duration": 5,
    "start_time": "2024-12-05T23:41:19.100Z"
   },
   {
    "duration": 110,
    "start_time": "2024-12-05T23:50:11.943Z"
   },
   {
    "duration": 110,
    "start_time": "2024-12-05T23:50:24.450Z"
   },
   {
    "duration": 10,
    "start_time": "2024-12-05T23:51:00.079Z"
   },
   {
    "duration": 10,
    "start_time": "2024-12-05T23:51:19.248Z"
   },
   {
    "duration": 10,
    "start_time": "2024-12-05T23:51:43.568Z"
   },
   {
    "duration": 252,
    "start_time": "2024-12-05T23:52:55.485Z"
   },
   {
    "duration": 161,
    "start_time": "2024-12-05T23:53:18.574Z"
   },
   {
    "duration": 21,
    "start_time": "2024-12-05T23:53:48.184Z"
   },
   {
    "duration": 241,
    "start_time": "2024-12-05T23:54:21.677Z"
   },
   {
    "duration": 60,
    "start_time": "2024-12-05T23:56:40.127Z"
   },
   {
    "duration": 247,
    "start_time": "2024-12-06T00:00:14.845Z"
   },
   {
    "duration": 8,
    "start_time": "2024-12-06T00:03:24.459Z"
   },
   {
    "duration": 18,
    "start_time": "2024-12-06T00:04:14.918Z"
   },
   {
    "duration": 8,
    "start_time": "2024-12-06T00:07:01.473Z"
   },
   {
    "duration": 14,
    "start_time": "2024-12-06T00:08:06.601Z"
   },
   {
    "duration": 14,
    "start_time": "2024-12-06T00:08:14.793Z"
   },
   {
    "duration": 4,
    "start_time": "2024-12-06T00:08:57.299Z"
   },
   {
    "duration": 6,
    "start_time": "2024-12-06T00:09:05.277Z"
   },
   {
    "duration": 8,
    "start_time": "2024-12-06T00:10:17.572Z"
   },
   {
    "duration": 7,
    "start_time": "2024-12-06T00:11:56.205Z"
   },
   {
    "duration": 7,
    "start_time": "2024-12-06T00:12:03.705Z"
   },
   {
    "duration": 18,
    "start_time": "2024-12-06T00:12:10.252Z"
   },
   {
    "duration": 6,
    "start_time": "2024-12-06T00:12:28.350Z"
   },
   {
    "duration": 2,
    "start_time": "2024-12-06T01:33:58.466Z"
   },
   {
    "duration": 5,
    "start_time": "2024-12-06T01:34:07.117Z"
   },
   {
    "duration": 3,
    "start_time": "2024-12-06T01:34:17.172Z"
   },
   {
    "duration": 5,
    "start_time": "2024-12-06T01:35:22.439Z"
   },
   {
    "duration": 5,
    "start_time": "2024-12-06T01:35:50.397Z"
   },
   {
    "duration": 16,
    "start_time": "2024-12-06T01:36:45.116Z"
   },
   {
    "duration": 5,
    "start_time": "2024-12-06T01:37:06.905Z"
   },
   {
    "duration": 7,
    "start_time": "2024-12-06T01:37:25.782Z"
   },
   {
    "duration": 6,
    "start_time": "2024-12-06T01:39:14.609Z"
   },
   {
    "duration": 8,
    "start_time": "2024-12-06T01:39:56.666Z"
   },
   {
    "duration": 9,
    "start_time": "2024-12-06T01:40:21.927Z"
   },
   {
    "duration": 10,
    "start_time": "2024-12-06T01:40:30.574Z"
   },
   {
    "duration": 9,
    "start_time": "2024-12-06T01:40:41.407Z"
   },
   {
    "duration": 29,
    "start_time": "2024-12-06T01:41:13.224Z"
   },
   {
    "duration": 27,
    "start_time": "2024-12-06T01:41:35.187Z"
   },
   {
    "duration": 26,
    "start_time": "2024-12-06T01:41:42.292Z"
   },
   {
    "duration": 30,
    "start_time": "2024-12-06T01:41:47.354Z"
   },
   {
    "duration": 26,
    "start_time": "2024-12-06T01:41:55.631Z"
   },
   {
    "duration": 26,
    "start_time": "2024-12-06T01:42:04.406Z"
   },
   {
    "duration": 25,
    "start_time": "2024-12-06T01:42:09.104Z"
   },
   {
    "duration": 9,
    "start_time": "2024-12-06T01:42:35.130Z"
   },
   {
    "duration": 10,
    "start_time": "2024-12-06T01:54:03.176Z"
   },
   {
    "duration": 327,
    "start_time": "2024-12-06T01:54:13.272Z"
   },
   {
    "duration": 147,
    "start_time": "2024-12-06T01:54:13.603Z"
   },
   {
    "duration": 3,
    "start_time": "2024-12-06T01:54:13.752Z"
   },
   {
    "duration": 219,
    "start_time": "2024-12-06T01:54:13.757Z"
   },
   {
    "duration": 68,
    "start_time": "2024-12-06T01:54:13.979Z"
   },
   {
    "duration": 774,
    "start_time": "2024-12-06T01:54:14.049Z"
   },
   {
    "duration": 16,
    "start_time": "2024-12-06T01:54:14.825Z"
   },
   {
    "duration": 13,
    "start_time": "2024-12-06T01:54:14.843Z"
   },
   {
    "duration": 56,
    "start_time": "2024-12-06T01:54:14.858Z"
   },
   {
    "duration": 13,
    "start_time": "2024-12-06T01:54:14.916Z"
   },
   {
    "duration": 137,
    "start_time": "2024-12-06T01:54:14.931Z"
   },
   {
    "duration": 106,
    "start_time": "2024-12-06T01:54:15.070Z"
   },
   {
    "duration": 45,
    "start_time": "2024-12-06T01:54:15.177Z"
   },
   {
    "duration": 18,
    "start_time": "2024-12-06T01:54:15.226Z"
   },
   {
    "duration": 11,
    "start_time": "2024-12-06T01:54:15.245Z"
   },
   {
    "duration": 53,
    "start_time": "2024-12-06T01:54:15.257Z"
   },
   {
    "duration": 21,
    "start_time": "2024-12-06T01:54:15.312Z"
   },
   {
    "duration": 5,
    "start_time": "2024-12-06T01:54:15.335Z"
   },
   {
    "duration": 6,
    "start_time": "2024-12-06T01:54:15.341Z"
   },
   {
    "duration": 8,
    "start_time": "2024-12-06T01:54:15.348Z"
   },
   {
    "duration": 8,
    "start_time": "2024-12-06T01:54:15.357Z"
   },
   {
    "duration": 951,
    "start_time": "2024-12-06T01:54:15.369Z"
   },
   {
    "duration": 307,
    "start_time": "2024-12-06T01:54:16.322Z"
   },
   {
    "duration": 8,
    "start_time": "2024-12-06T01:54:16.631Z"
   },
   {
    "duration": 8,
    "start_time": "2024-12-06T01:54:16.641Z"
   },
   {
    "duration": 4,
    "start_time": "2024-12-06T01:54:16.650Z"
   },
   {
    "duration": 7,
    "start_time": "2024-12-06T01:54:16.656Z"
   },
   {
    "duration": 11,
    "start_time": "2024-12-06T01:54:16.667Z"
   },
   {
    "duration": 3,
    "start_time": "2024-12-06T01:54:16.708Z"
   },
   {
    "duration": 2,
    "start_time": "2024-12-06T01:54:16.713Z"
   },
   {
    "duration": 3,
    "start_time": "2024-12-06T01:54:16.717Z"
   },
   {
    "duration": 3,
    "start_time": "2024-12-06T01:54:16.722Z"
   },
   {
    "duration": 3,
    "start_time": "2024-12-06T01:54:16.726Z"
   },
   {
    "duration": 11,
    "start_time": "2024-12-06T01:55:57.210Z"
   },
   {
    "duration": 5,
    "start_time": "2024-12-06T03:45:53.720Z"
   },
   {
    "duration": 180,
    "start_time": "2024-12-06T03:46:02.465Z"
   },
   {
    "duration": 707,
    "start_time": "2024-12-06T03:47:03.471Z"
   },
   {
    "duration": 315,
    "start_time": "2024-12-06T03:49:42.936Z"
   },
   {
    "duration": 132,
    "start_time": "2024-12-06T03:49:43.253Z"
   },
   {
    "duration": 3,
    "start_time": "2024-12-06T03:49:43.386Z"
   },
   {
    "duration": 183,
    "start_time": "2024-12-06T03:49:43.391Z"
   },
   {
    "duration": 50,
    "start_time": "2024-12-06T03:49:43.576Z"
   },
   {
    "duration": 727,
    "start_time": "2024-12-06T03:49:43.629Z"
   },
   {
    "duration": 13,
    "start_time": "2024-12-06T03:49:44.358Z"
   },
   {
    "duration": 12,
    "start_time": "2024-12-06T03:49:44.373Z"
   },
   {
    "duration": 50,
    "start_time": "2024-12-06T03:49:44.387Z"
   },
   {
    "duration": 12,
    "start_time": "2024-12-06T03:49:44.439Z"
   },
   {
    "duration": 111,
    "start_time": "2024-12-06T03:49:44.452Z"
   },
   {
    "duration": 93,
    "start_time": "2024-12-06T03:49:44.564Z"
   },
   {
    "duration": 27,
    "start_time": "2024-12-06T03:49:44.659Z"
   },
   {
    "duration": 23,
    "start_time": "2024-12-06T03:49:44.689Z"
   },
   {
    "duration": 4,
    "start_time": "2024-12-06T03:49:44.714Z"
   },
   {
    "duration": 31,
    "start_time": "2024-12-06T03:49:44.720Z"
   },
   {
    "duration": 24,
    "start_time": "2024-12-06T03:49:44.753Z"
   },
   {
    "duration": 7,
    "start_time": "2024-12-06T03:49:44.779Z"
   },
   {
    "duration": 5,
    "start_time": "2024-12-06T03:49:44.811Z"
   },
   {
    "duration": 4,
    "start_time": "2024-12-06T03:49:44.818Z"
   },
   {
    "duration": 5,
    "start_time": "2024-12-06T03:49:44.824Z"
   },
   {
    "duration": 809,
    "start_time": "2024-12-06T03:49:44.831Z"
   },
   {
    "duration": 733,
    "start_time": "2024-12-06T03:49:45.642Z"
   },
   {
    "duration": 7,
    "start_time": "2024-12-06T03:49:46.377Z"
   },
   {
    "duration": 6,
    "start_time": "2024-12-06T03:49:46.385Z"
   },
   {
    "duration": 18,
    "start_time": "2024-12-06T03:49:46.392Z"
   },
   {
    "duration": 7,
    "start_time": "2024-12-06T03:49:46.412Z"
   },
   {
    "duration": 9,
    "start_time": "2024-12-06T03:49:46.421Z"
   },
   {
    "duration": 2,
    "start_time": "2024-12-06T03:49:46.432Z"
   },
   {
    "duration": 2,
    "start_time": "2024-12-06T03:49:46.436Z"
   },
   {
    "duration": 3,
    "start_time": "2024-12-06T03:49:46.440Z"
   },
   {
    "duration": 3,
    "start_time": "2024-12-06T03:49:46.444Z"
   },
   {
    "duration": 3,
    "start_time": "2024-12-06T03:49:46.449Z"
   },
   {
    "duration": 8,
    "start_time": "2024-12-06T03:50:04.780Z"
   },
   {
    "duration": 15,
    "start_time": "2024-12-06T03:52:37.585Z"
   },
   {
    "duration": 21,
    "start_time": "2024-12-06T03:55:01.980Z"
   },
   {
    "duration": 19,
    "start_time": "2024-12-06T03:55:19.327Z"
   },
   {
    "duration": 30,
    "start_time": "2024-12-06T03:57:54.717Z"
   },
   {
    "duration": 183,
    "start_time": "2024-12-06T05:05:52.084Z"
   },
   {
    "duration": 13,
    "start_time": "2024-12-06T05:05:56.859Z"
   },
   {
    "duration": 6,
    "start_time": "2024-12-06T05:06:26.477Z"
   },
   {
    "duration": 5,
    "start_time": "2024-12-06T05:11:07.144Z"
   },
   {
    "duration": 19,
    "start_time": "2024-12-06T05:11:17.214Z"
   },
   {
    "duration": 7,
    "start_time": "2024-12-06T05:12:20.860Z"
   },
   {
    "duration": 13,
    "start_time": "2024-12-06T05:12:31.919Z"
   },
   {
    "duration": 462,
    "start_time": "2024-12-06T05:12:39.298Z"
   },
   {
    "duration": 3,
    "start_time": "2024-12-06T05:14:04.466Z"
   },
   {
    "duration": 4,
    "start_time": "2024-12-06T05:14:45.530Z"
   },
   {
    "duration": 28,
    "start_time": "2024-12-06T05:14:49.214Z"
   },
   {
    "duration": 14,
    "start_time": "2024-12-06T05:16:34.249Z"
   },
   {
    "duration": 14,
    "start_time": "2024-12-06T05:16:45.633Z"
   },
   {
    "duration": 16,
    "start_time": "2024-12-06T05:17:02.829Z"
   },
   {
    "duration": 3,
    "start_time": "2024-12-06T05:17:15.597Z"
   },
   {
    "duration": 5,
    "start_time": "2024-12-06T05:18:12.538Z"
   },
   {
    "duration": 55,
    "start_time": "2024-12-06T05:18:39.707Z"
   },
   {
    "duration": 22,
    "start_time": "2024-12-06T05:19:58.514Z"
   },
   {
    "duration": 50,
    "start_time": "2024-12-06T05:20:20.500Z"
   },
   {
    "duration": 7,
    "start_time": "2024-12-06T05:22:06.545Z"
   },
   {
    "duration": 16,
    "start_time": "2024-12-06T05:23:25.590Z"
   },
   {
    "duration": 6,
    "start_time": "2024-12-06T05:24:18.283Z"
   },
   {
    "duration": 8,
    "start_time": "2024-12-06T05:24:39.166Z"
   },
   {
    "duration": 7,
    "start_time": "2024-12-06T05:24:47.692Z"
   },
   {
    "duration": 166,
    "start_time": "2024-12-06T20:01:52.900Z"
   },
   {
    "duration": 315,
    "start_time": "2024-12-06T20:02:04.677Z"
   },
   {
    "duration": 1827,
    "start_time": "2024-12-06T20:02:04.994Z"
   },
   {
    "duration": 2,
    "start_time": "2024-12-06T20:02:06.823Z"
   },
   {
    "duration": 170,
    "start_time": "2024-12-06T20:02:06.828Z"
   },
   {
    "duration": 64,
    "start_time": "2024-12-06T20:02:07.001Z"
   },
   {
    "duration": 838,
    "start_time": "2024-12-06T20:02:07.067Z"
   },
   {
    "duration": 15,
    "start_time": "2024-12-06T20:02:07.907Z"
   },
   {
    "duration": 22,
    "start_time": "2024-12-06T20:02:07.924Z"
   },
   {
    "duration": 26,
    "start_time": "2024-12-06T20:02:07.947Z"
   },
   {
    "duration": 11,
    "start_time": "2024-12-06T20:02:07.975Z"
   },
   {
    "duration": 110,
    "start_time": "2024-12-06T20:02:07.987Z"
   },
   {
    "duration": 91,
    "start_time": "2024-12-06T20:02:08.098Z"
   },
   {
    "duration": 26,
    "start_time": "2024-12-06T20:02:08.191Z"
   },
   {
    "duration": 24,
    "start_time": "2024-12-06T20:02:08.222Z"
   },
   {
    "duration": 5,
    "start_time": "2024-12-06T20:02:08.247Z"
   },
   {
    "duration": 32,
    "start_time": "2024-12-06T20:02:08.254Z"
   },
   {
    "duration": 14,
    "start_time": "2024-12-06T20:02:08.288Z"
   },
   {
    "duration": 4,
    "start_time": "2024-12-06T20:02:08.303Z"
   },
   {
    "duration": 33,
    "start_time": "2024-12-06T20:02:08.310Z"
   },
   {
    "duration": 4,
    "start_time": "2024-12-06T20:02:08.345Z"
   },
   {
    "duration": 6,
    "start_time": "2024-12-06T20:02:08.350Z"
   },
   {
    "duration": 793,
    "start_time": "2024-12-06T20:02:08.358Z"
   },
   {
    "duration": 731,
    "start_time": "2024-12-06T20:02:09.153Z"
   },
   {
    "duration": 7,
    "start_time": "2024-12-06T20:02:09.886Z"
   },
   {
    "duration": 7,
    "start_time": "2024-12-06T20:02:09.894Z"
   },
   {
    "duration": 4,
    "start_time": "2024-12-06T20:02:09.902Z"
   },
   {
    "duration": 6,
    "start_time": "2024-12-06T20:02:09.907Z"
   },
   {
    "duration": 35,
    "start_time": "2024-12-06T20:02:09.915Z"
   },
   {
    "duration": 6,
    "start_time": "2024-12-06T20:02:09.952Z"
   },
   {
    "duration": 6,
    "start_time": "2024-12-06T20:02:09.960Z"
   },
   {
    "duration": 17,
    "start_time": "2024-12-06T20:02:09.968Z"
   },
   {
    "duration": 3,
    "start_time": "2024-12-06T20:02:09.986Z"
   },
   {
    "duration": 2,
    "start_time": "2024-12-06T20:02:09.991Z"
   },
   {
    "duration": 2,
    "start_time": "2024-12-06T20:02:09.995Z"
   },
   {
    "duration": 3,
    "start_time": "2024-12-06T20:02:10.042Z"
   },
   {
    "duration": 18,
    "start_time": "2024-12-06T20:03:16.220Z"
   },
   {
    "duration": 18,
    "start_time": "2024-12-06T20:03:23.072Z"
   },
   {
    "duration": 18,
    "start_time": "2024-12-06T20:03:29.136Z"
   },
   {
    "duration": 32,
    "start_time": "2024-12-06T20:04:01.323Z"
   },
   {
    "duration": 33,
    "start_time": "2024-12-06T20:04:03.312Z"
   },
   {
    "duration": 2,
    "start_time": "2024-12-06T20:04:04.379Z"
   },
   {
    "duration": 34,
    "start_time": "2024-12-06T20:04:24.805Z"
   },
   {
    "duration": 33,
    "start_time": "2024-12-06T20:04:34.365Z"
   },
   {
    "duration": 4,
    "start_time": "2024-12-06T20:12:04.588Z"
   },
   {
    "duration": 224,
    "start_time": "2024-12-06T20:12:42.380Z"
   },
   {
    "duration": 215,
    "start_time": "2024-12-06T20:13:06.071Z"
   },
   {
    "duration": 21,
    "start_time": "2024-12-06T20:14:06.918Z"
   },
   {
    "duration": 13,
    "start_time": "2024-12-06T20:14:38.459Z"
   },
   {
    "duration": 5,
    "start_time": "2024-12-06T20:16:12.696Z"
   },
   {
    "duration": 18,
    "start_time": "2024-12-06T20:16:27.219Z"
   },
   {
    "duration": 17,
    "start_time": "2024-12-06T20:16:59.125Z"
   },
   {
    "duration": 5,
    "start_time": "2024-12-06T20:17:02.893Z"
   },
   {
    "duration": 3,
    "start_time": "2024-12-06T20:17:22.915Z"
   },
   {
    "duration": 4,
    "start_time": "2024-12-06T20:17:31.211Z"
   },
   {
    "duration": 241,
    "start_time": "2024-12-06T20:18:56.688Z"
   },
   {
    "duration": 291,
    "start_time": "2024-12-06T20:25:29.910Z"
   },
   {
    "duration": 288,
    "start_time": "2024-12-06T20:25:48.435Z"
   },
   {
    "duration": 6,
    "start_time": "2024-12-06T20:27:57.227Z"
   },
   {
    "duration": 15,
    "start_time": "2024-12-06T20:28:58.623Z"
   },
   {
    "duration": 10,
    "start_time": "2024-12-06T20:29:18.228Z"
   },
   {
    "duration": 15,
    "start_time": "2024-12-06T20:29:50.369Z"
   },
   {
    "duration": 230,
    "start_time": "2024-12-06T20:33:30.494Z"
   },
   {
    "duration": 2456,
    "start_time": "2024-12-06T20:38:01.709Z"
   },
   {
    "duration": 18,
    "start_time": "2024-12-06T20:38:25.560Z"
   },
   {
    "duration": 19,
    "start_time": "2024-12-06T20:40:53.079Z"
   },
   {
    "duration": 20,
    "start_time": "2024-12-06T20:41:04.396Z"
   },
   {
    "duration": 19,
    "start_time": "2024-12-06T20:41:08.502Z"
   },
   {
    "duration": 27,
    "start_time": "2024-12-06T20:42:27.125Z"
   },
   {
    "duration": 17,
    "start_time": "2024-12-06T20:42:56.450Z"
   },
   {
    "duration": 14,
    "start_time": "2024-12-06T20:44:14.954Z"
   },
   {
    "duration": 4,
    "start_time": "2024-12-06T20:44:40.636Z"
   },
   {
    "duration": 14,
    "start_time": "2024-12-06T20:44:45.568Z"
   },
   {
    "duration": 37,
    "start_time": "2024-12-06T20:45:22.712Z"
   },
   {
    "duration": 36,
    "start_time": "2024-12-06T20:45:28.501Z"
   },
   {
    "duration": 41,
    "start_time": "2024-12-06T20:45:47.946Z"
   },
   {
    "duration": 35,
    "start_time": "2024-12-06T20:46:05.937Z"
   },
   {
    "duration": 35,
    "start_time": "2024-12-06T20:46:08.878Z"
   },
   {
    "duration": 39,
    "start_time": "2024-12-06T20:46:15.817Z"
   },
   {
    "duration": 39,
    "start_time": "2024-12-06T20:46:20.227Z"
   },
   {
    "duration": 30,
    "start_time": "2024-12-06T20:46:26.271Z"
   },
   {
    "duration": 13,
    "start_time": "2024-12-06T21:00:26.337Z"
   },
   {
    "duration": 16,
    "start_time": "2024-12-06T21:00:44.126Z"
   },
   {
    "duration": 16,
    "start_time": "2024-12-06T21:01:01.242Z"
   },
   {
    "duration": 7,
    "start_time": "2024-12-06T21:08:44.199Z"
   },
   {
    "duration": 7,
    "start_time": "2024-12-06T21:12:16.191Z"
   },
   {
    "duration": 502,
    "start_time": "2024-12-06T21:13:11.964Z"
   },
   {
    "duration": 9,
    "start_time": "2024-12-06T21:13:24.274Z"
   },
   {
    "duration": 203,
    "start_time": "2024-12-06T21:21:58.079Z"
   },
   {
    "duration": 40,
    "start_time": "2024-12-06T21:22:21.424Z"
   },
   {
    "duration": 41,
    "start_time": "2024-12-06T21:23:29.459Z"
   },
   {
    "duration": 7,
    "start_time": "2024-12-06T21:24:57.186Z"
   },
   {
    "duration": 6,
    "start_time": "2024-12-06T21:25:30.987Z"
   },
   {
    "duration": 26,
    "start_time": "2024-12-07T03:45:42.368Z"
   },
   {
    "duration": 24,
    "start_time": "2024-12-07T03:50:14.733Z"
   },
   {
    "duration": 17,
    "start_time": "2024-12-07T03:50:35.793Z"
   },
   {
    "duration": 20,
    "start_time": "2024-12-07T03:51:59.754Z"
   },
   {
    "duration": 35,
    "start_time": "2024-12-07T03:54:04.935Z"
   },
   {
    "duration": 33,
    "start_time": "2024-12-07T03:54:15.782Z"
   },
   {
    "duration": 47,
    "start_time": "2024-12-07T03:54:37.085Z"
   },
   {
    "duration": 53,
    "start_time": "2024-12-07T03:58:07.484Z"
   },
   {
    "duration": 4,
    "start_time": "2024-12-07T03:58:13.825Z"
   },
   {
    "duration": 5,
    "start_time": "2024-12-07T03:58:22.899Z"
   },
   {
    "duration": 340,
    "start_time": "2024-12-07T03:58:46.964Z"
   },
   {
    "duration": 129,
    "start_time": "2024-12-07T03:58:47.306Z"
   },
   {
    "duration": 2,
    "start_time": "2024-12-07T03:58:47.436Z"
   },
   {
    "duration": 173,
    "start_time": "2024-12-07T03:58:47.443Z"
   },
   {
    "duration": 51,
    "start_time": "2024-12-07T03:58:47.619Z"
   },
   {
    "duration": 758,
    "start_time": "2024-12-07T03:58:47.671Z"
   },
   {
    "duration": 19,
    "start_time": "2024-12-07T03:58:48.431Z"
   },
   {
    "duration": 13,
    "start_time": "2024-12-07T03:58:48.452Z"
   },
   {
    "duration": 28,
    "start_time": "2024-12-07T03:58:48.467Z"
   },
   {
    "duration": 11,
    "start_time": "2024-12-07T03:58:48.499Z"
   },
   {
    "duration": 120,
    "start_time": "2024-12-07T03:58:48.512Z"
   },
   {
    "duration": 89,
    "start_time": "2024-12-07T03:58:48.634Z"
   },
   {
    "duration": 32,
    "start_time": "2024-12-07T03:58:48.725Z"
   },
   {
    "duration": 14,
    "start_time": "2024-12-07T03:58:48.762Z"
   },
   {
    "duration": 5,
    "start_time": "2024-12-07T03:58:48.777Z"
   },
   {
    "duration": 59,
    "start_time": "2024-12-07T03:58:48.784Z"
   },
   {
    "duration": 16,
    "start_time": "2024-12-07T03:58:48.845Z"
   },
   {
    "duration": 5,
    "start_time": "2024-12-07T03:58:48.863Z"
   },
   {
    "duration": 5,
    "start_time": "2024-12-07T03:58:48.869Z"
   },
   {
    "duration": 4,
    "start_time": "2024-12-07T03:58:48.875Z"
   },
   {
    "duration": 4,
    "start_time": "2024-12-07T03:58:48.881Z"
   },
   {
    "duration": 818,
    "start_time": "2024-12-07T03:58:48.887Z"
   },
   {
    "duration": 744,
    "start_time": "2024-12-07T03:58:49.707Z"
   },
   {
    "duration": 8,
    "start_time": "2024-12-07T03:58:50.453Z"
   },
   {
    "duration": 6,
    "start_time": "2024-12-07T03:58:50.463Z"
   },
   {
    "duration": 2,
    "start_time": "2024-12-07T03:58:50.472Z"
   },
   {
    "duration": 6,
    "start_time": "2024-12-07T03:58:50.476Z"
   },
   {
    "duration": 11,
    "start_time": "2024-12-07T03:58:50.484Z"
   },
   {
    "duration": 10,
    "start_time": "2024-12-07T03:58:50.496Z"
   },
   {
    "duration": 8,
    "start_time": "2024-12-07T03:58:50.543Z"
   },
   {
    "duration": 19,
    "start_time": "2024-12-07T03:58:50.552Z"
   },
   {
    "duration": 33,
    "start_time": "2024-12-07T03:58:50.575Z"
   },
   {
    "duration": 37,
    "start_time": "2024-12-07T03:58:50.609Z"
   },
   {
    "duration": 28,
    "start_time": "2024-12-07T03:58:50.648Z"
   },
   {
    "duration": 66,
    "start_time": "2024-12-07T03:58:50.679Z"
   },
   {
    "duration": 186,
    "start_time": "2024-12-07T04:13:29.637Z"
   },
   {
    "duration": 330,
    "start_time": "2024-12-07T04:16:22.264Z"
   },
   {
    "duration": 135,
    "start_time": "2024-12-07T04:16:22.596Z"
   },
   {
    "duration": 2,
    "start_time": "2024-12-07T04:16:22.733Z"
   },
   {
    "duration": 197,
    "start_time": "2024-12-07T04:16:22.736Z"
   },
   {
    "duration": 68,
    "start_time": "2024-12-07T04:16:22.936Z"
   },
   {
    "duration": 819,
    "start_time": "2024-12-07T04:16:23.006Z"
   },
   {
    "duration": 19,
    "start_time": "2024-12-07T04:16:23.827Z"
   },
   {
    "duration": 15,
    "start_time": "2024-12-07T04:16:23.847Z"
   },
   {
    "duration": 29,
    "start_time": "2024-12-07T04:16:23.864Z"
   },
   {
    "duration": 12,
    "start_time": "2024-12-07T04:16:23.895Z"
   },
   {
    "duration": 114,
    "start_time": "2024-12-07T04:16:23.908Z"
   },
   {
    "duration": 92,
    "start_time": "2024-12-07T04:16:24.024Z"
   },
   {
    "duration": 36,
    "start_time": "2024-12-07T04:16:24.118Z"
   },
   {
    "duration": 12,
    "start_time": "2024-12-07T04:16:24.157Z"
   },
   {
    "duration": 6,
    "start_time": "2024-12-07T04:16:24.171Z"
   },
   {
    "duration": 34,
    "start_time": "2024-12-07T04:16:24.181Z"
   },
   {
    "duration": 37,
    "start_time": "2024-12-07T04:16:24.216Z"
   },
   {
    "duration": 4,
    "start_time": "2024-12-07T04:16:24.255Z"
   },
   {
    "duration": 4,
    "start_time": "2024-12-07T04:16:24.261Z"
   },
   {
    "duration": 4,
    "start_time": "2024-12-07T04:16:24.266Z"
   },
   {
    "duration": 4,
    "start_time": "2024-12-07T04:16:24.272Z"
   },
   {
    "duration": 817,
    "start_time": "2024-12-07T04:16:24.278Z"
   },
   {
    "duration": 732,
    "start_time": "2024-12-07T04:16:25.097Z"
   },
   {
    "duration": 14,
    "start_time": "2024-12-07T04:16:25.831Z"
   },
   {
    "duration": 6,
    "start_time": "2024-12-07T04:16:25.847Z"
   },
   {
    "duration": 3,
    "start_time": "2024-12-07T04:16:25.856Z"
   },
   {
    "duration": 6,
    "start_time": "2024-12-07T04:16:25.861Z"
   },
   {
    "duration": 9,
    "start_time": "2024-12-07T04:16:25.868Z"
   },
   {
    "duration": 7,
    "start_time": "2024-12-07T04:16:25.878Z"
   },
   {
    "duration": 6,
    "start_time": "2024-12-07T04:16:25.887Z"
   },
   {
    "duration": 57,
    "start_time": "2024-12-07T04:16:25.895Z"
   },
   {
    "duration": 31,
    "start_time": "2024-12-07T04:16:25.954Z"
   },
   {
    "duration": 11,
    "start_time": "2024-12-07T04:16:25.987Z"
   },
   {
    "duration": 49,
    "start_time": "2024-12-07T04:16:26.000Z"
   },
   {
    "duration": 55,
    "start_time": "2024-12-07T04:16:26.051Z"
   },
   {
    "duration": 302,
    "start_time": "2024-12-07T04:22:55.019Z"
   },
   {
    "duration": 155,
    "start_time": "2024-12-07T04:22:55.324Z"
   },
   {
    "duration": 5,
    "start_time": "2024-12-07T04:22:55.481Z"
   },
   {
    "duration": 207,
    "start_time": "2024-12-07T04:22:55.488Z"
   },
   {
    "duration": 72,
    "start_time": "2024-12-07T04:22:55.698Z"
   },
   {
    "duration": 847,
    "start_time": "2024-12-07T04:22:55.772Z"
   },
   {
    "duration": 14,
    "start_time": "2024-12-07T04:22:56.620Z"
   },
   {
    "duration": 14,
    "start_time": "2024-12-07T04:22:56.644Z"
   },
   {
    "duration": 29,
    "start_time": "2024-12-07T04:22:56.662Z"
   },
   {
    "duration": 12,
    "start_time": "2024-12-07T04:22:56.693Z"
   },
   {
    "duration": 113,
    "start_time": "2024-12-07T04:22:56.706Z"
   },
   {
    "duration": 96,
    "start_time": "2024-12-07T04:22:56.820Z"
   },
   {
    "duration": 37,
    "start_time": "2024-12-07T04:22:56.917Z"
   },
   {
    "duration": 13,
    "start_time": "2024-12-07T04:22:56.957Z"
   },
   {
    "duration": 7,
    "start_time": "2024-12-07T04:22:56.972Z"
   },
   {
    "duration": 34,
    "start_time": "2024-12-07T04:22:56.982Z"
   },
   {
    "duration": 39,
    "start_time": "2024-12-07T04:22:57.017Z"
   },
   {
    "duration": 5,
    "start_time": "2024-12-07T04:22:57.058Z"
   },
   {
    "duration": 6,
    "start_time": "2024-12-07T04:22:57.065Z"
   },
   {
    "duration": 5,
    "start_time": "2024-12-07T04:22:57.072Z"
   },
   {
    "duration": 5,
    "start_time": "2024-12-07T04:22:57.080Z"
   },
   {
    "duration": 841,
    "start_time": "2024-12-07T04:22:57.087Z"
   },
   {
    "duration": 702,
    "start_time": "2024-12-07T04:22:57.929Z"
   },
   {
    "duration": 16,
    "start_time": "2024-12-07T04:22:58.633Z"
   },
   {
    "duration": 6,
    "start_time": "2024-12-07T04:22:58.650Z"
   },
   {
    "duration": 6,
    "start_time": "2024-12-07T04:22:58.658Z"
   },
   {
    "duration": 6,
    "start_time": "2024-12-07T04:22:58.665Z"
   },
   {
    "duration": 8,
    "start_time": "2024-12-07T04:22:58.673Z"
   },
   {
    "duration": 6,
    "start_time": "2024-12-07T04:22:58.683Z"
   },
   {
    "duration": 7,
    "start_time": "2024-12-07T04:22:58.690Z"
   },
   {
    "duration": 57,
    "start_time": "2024-12-07T04:22:58.699Z"
   },
   {
    "duration": 33,
    "start_time": "2024-12-07T04:22:58.757Z"
   },
   {
    "duration": 13,
    "start_time": "2024-12-07T04:22:58.792Z"
   },
   {
    "duration": 49,
    "start_time": "2024-12-07T04:22:58.807Z"
   },
   {
    "duration": 54,
    "start_time": "2024-12-07T04:22:58.859Z"
   },
   {
    "duration": 160,
    "start_time": "2024-12-07T04:28:23.855Z"
   },
   {
    "duration": 289,
    "start_time": "2024-12-07T04:28:32.010Z"
   },
   {
    "duration": 134,
    "start_time": "2024-12-07T04:28:32.301Z"
   },
   {
    "duration": 6,
    "start_time": "2024-12-07T04:28:32.437Z"
   },
   {
    "duration": 200,
    "start_time": "2024-12-07T04:28:32.444Z"
   },
   {
    "duration": 64,
    "start_time": "2024-12-07T04:28:32.648Z"
   },
   {
    "duration": 823,
    "start_time": "2024-12-07T04:28:32.714Z"
   },
   {
    "duration": 13,
    "start_time": "2024-12-07T04:28:33.539Z"
   },
   {
    "duration": 13,
    "start_time": "2024-12-07T04:28:33.554Z"
   },
   {
    "duration": 26,
    "start_time": "2024-12-07T04:28:33.568Z"
   },
   {
    "duration": 11,
    "start_time": "2024-12-07T04:28:33.596Z"
   },
   {
    "duration": 123,
    "start_time": "2024-12-07T04:28:33.609Z"
   },
   {
    "duration": 92,
    "start_time": "2024-12-07T04:28:33.734Z"
   },
   {
    "duration": 34,
    "start_time": "2024-12-07T04:28:33.828Z"
   },
   {
    "duration": 12,
    "start_time": "2024-12-07T04:28:33.866Z"
   },
   {
    "duration": 6,
    "start_time": "2024-12-07T04:28:33.879Z"
   },
   {
    "duration": 32,
    "start_time": "2024-12-07T04:28:33.886Z"
   },
   {
    "duration": 38,
    "start_time": "2024-12-07T04:28:33.920Z"
   },
   {
    "duration": 5,
    "start_time": "2024-12-07T04:28:33.960Z"
   },
   {
    "duration": 5,
    "start_time": "2024-12-07T04:28:33.967Z"
   },
   {
    "duration": 5,
    "start_time": "2024-12-07T04:28:33.973Z"
   },
   {
    "duration": 5,
    "start_time": "2024-12-07T04:28:33.979Z"
   },
   {
    "duration": 807,
    "start_time": "2024-12-07T04:28:33.986Z"
   },
   {
    "duration": 699,
    "start_time": "2024-12-07T04:28:34.795Z"
   },
   {
    "duration": 7,
    "start_time": "2024-12-07T04:28:35.496Z"
   },
   {
    "duration": 6,
    "start_time": "2024-12-07T04:28:35.504Z"
   },
   {
    "duration": 3,
    "start_time": "2024-12-07T04:28:35.512Z"
   },
   {
    "duration": 30,
    "start_time": "2024-12-07T04:28:35.517Z"
   },
   {
    "duration": 9,
    "start_time": "2024-12-07T04:28:35.548Z"
   },
   {
    "duration": 7,
    "start_time": "2024-12-07T04:28:35.559Z"
   },
   {
    "duration": 6,
    "start_time": "2024-12-07T04:28:35.568Z"
   },
   {
    "duration": 18,
    "start_time": "2024-12-07T04:28:35.576Z"
   },
   {
    "duration": 63,
    "start_time": "2024-12-07T04:28:35.595Z"
   },
   {
    "duration": 12,
    "start_time": "2024-12-07T04:28:35.660Z"
   },
   {
    "duration": 26,
    "start_time": "2024-12-07T04:28:35.674Z"
   },
   {
    "duration": 72,
    "start_time": "2024-12-07T04:28:35.701Z"
   },
   {
    "duration": 1484,
    "start_time": "2024-12-07T04:28:39.748Z"
   },
   {
    "duration": 1877,
    "start_time": "2024-12-07T04:33:37.919Z"
   },
   {
    "duration": 1542,
    "start_time": "2024-12-07T04:37:13.821Z"
   },
   {
    "duration": 286,
    "start_time": "2024-12-07T04:40:40.111Z"
   },
   {
    "duration": 149,
    "start_time": "2024-12-07T04:40:40.399Z"
   },
   {
    "duration": 2,
    "start_time": "2024-12-07T04:40:40.550Z"
   },
   {
    "duration": 218,
    "start_time": "2024-12-07T04:40:40.554Z"
   },
   {
    "duration": 66,
    "start_time": "2024-12-07T04:40:40.776Z"
   },
   {
    "duration": 840,
    "start_time": "2024-12-07T04:40:40.844Z"
   },
   {
    "duration": 16,
    "start_time": "2024-12-07T04:40:41.686Z"
   },
   {
    "duration": 15,
    "start_time": "2024-12-07T04:40:41.704Z"
   },
   {
    "duration": 41,
    "start_time": "2024-12-07T04:40:41.720Z"
   },
   {
    "duration": 12,
    "start_time": "2024-12-07T04:40:41.763Z"
   },
   {
    "duration": 107,
    "start_time": "2024-12-07T04:40:41.777Z"
   },
   {
    "duration": 101,
    "start_time": "2024-12-07T04:40:41.886Z"
   },
   {
    "duration": 27,
    "start_time": "2024-12-07T04:40:41.988Z"
   },
   {
    "duration": 24,
    "start_time": "2024-12-07T04:40:42.019Z"
   },
   {
    "duration": 5,
    "start_time": "2024-12-07T04:40:42.045Z"
   },
   {
    "duration": 31,
    "start_time": "2024-12-07T04:40:42.052Z"
   },
   {
    "duration": 15,
    "start_time": "2024-12-07T04:40:42.085Z"
   },
   {
    "duration": 5,
    "start_time": "2024-12-07T04:40:42.102Z"
   },
   {
    "duration": 34,
    "start_time": "2024-12-07T04:40:42.108Z"
   },
   {
    "duration": 4,
    "start_time": "2024-12-07T04:40:42.144Z"
   },
   {
    "duration": 5,
    "start_time": "2024-12-07T04:40:42.150Z"
   },
   {
    "duration": 819,
    "start_time": "2024-12-07T04:40:42.157Z"
   },
   {
    "duration": 711,
    "start_time": "2024-12-07T04:40:42.978Z"
   },
   {
    "duration": 7,
    "start_time": "2024-12-07T04:40:43.691Z"
   },
   {
    "duration": 6,
    "start_time": "2024-12-07T04:40:43.699Z"
   },
   {
    "duration": 2,
    "start_time": "2024-12-07T04:40:43.707Z"
   },
   {
    "duration": 32,
    "start_time": "2024-12-07T04:40:43.712Z"
   },
   {
    "duration": 9,
    "start_time": "2024-12-07T04:40:43.745Z"
   },
   {
    "duration": 6,
    "start_time": "2024-12-07T04:40:43.755Z"
   },
   {
    "duration": 6,
    "start_time": "2024-12-07T04:40:43.763Z"
   },
   {
    "duration": 16,
    "start_time": "2024-12-07T04:40:43.771Z"
   },
   {
    "duration": 65,
    "start_time": "2024-12-07T04:40:43.788Z"
   },
   {
    "duration": 13,
    "start_time": "2024-12-07T04:40:43.855Z"
   },
   {
    "duration": 25,
    "start_time": "2024-12-07T04:40:43.870Z"
   },
   {
    "duration": 70,
    "start_time": "2024-12-07T04:40:43.897Z"
   },
   {
    "duration": 158,
    "start_time": "2024-12-07T05:00:16.482Z"
   },
   {
    "duration": 340,
    "start_time": "2024-12-07T05:00:23.163Z"
   },
   {
    "duration": 132,
    "start_time": "2024-12-07T05:00:23.505Z"
   },
   {
    "duration": 4,
    "start_time": "2024-12-07T05:00:23.639Z"
   },
   {
    "duration": 197,
    "start_time": "2024-12-07T05:00:23.644Z"
   },
   {
    "duration": 65,
    "start_time": "2024-12-07T05:00:23.844Z"
   },
   {
    "duration": 826,
    "start_time": "2024-12-07T05:00:23.911Z"
   },
   {
    "duration": 15,
    "start_time": "2024-12-07T05:00:24.743Z"
   },
   {
    "duration": 14,
    "start_time": "2024-12-07T05:00:24.759Z"
   },
   {
    "duration": 25,
    "start_time": "2024-12-07T05:00:24.775Z"
   },
   {
    "duration": 11,
    "start_time": "2024-12-07T05:00:24.802Z"
   },
   {
    "duration": 118,
    "start_time": "2024-12-07T05:00:24.814Z"
   },
   {
    "duration": 96,
    "start_time": "2024-12-07T05:00:24.933Z"
   },
   {
    "duration": 34,
    "start_time": "2024-12-07T05:00:25.031Z"
   },
   {
    "duration": 12,
    "start_time": "2024-12-07T05:00:25.069Z"
   },
   {
    "duration": 5,
    "start_time": "2024-12-07T05:00:25.083Z"
   },
   {
    "duration": 54,
    "start_time": "2024-12-07T05:00:25.089Z"
   },
   {
    "duration": 17,
    "start_time": "2024-12-07T05:00:25.144Z"
   },
   {
    "duration": 4,
    "start_time": "2024-12-07T05:00:25.163Z"
   },
   {
    "duration": 9,
    "start_time": "2024-12-07T05:00:25.169Z"
   },
   {
    "duration": 10,
    "start_time": "2024-12-07T05:00:25.180Z"
   },
   {
    "duration": 5,
    "start_time": "2024-12-07T05:00:25.192Z"
   },
   {
    "duration": 822,
    "start_time": "2024-12-07T05:00:25.199Z"
   },
   {
    "duration": 711,
    "start_time": "2024-12-07T05:00:26.023Z"
   },
   {
    "duration": 8,
    "start_time": "2024-12-07T05:00:26.737Z"
   },
   {
    "duration": 5,
    "start_time": "2024-12-07T05:00:26.747Z"
   },
   {
    "duration": 4,
    "start_time": "2024-12-07T05:00:26.754Z"
   },
   {
    "duration": 6,
    "start_time": "2024-12-07T05:00:26.759Z"
   },
   {
    "duration": 9,
    "start_time": "2024-12-07T05:00:26.766Z"
   },
   {
    "duration": 7,
    "start_time": "2024-12-07T05:00:26.777Z"
   },
   {
    "duration": 6,
    "start_time": "2024-12-07T05:00:26.785Z"
   },
   {
    "duration": 57,
    "start_time": "2024-12-07T05:00:26.793Z"
   },
   {
    "duration": 33,
    "start_time": "2024-12-07T05:00:26.852Z"
   },
   {
    "duration": 12,
    "start_time": "2024-12-07T05:00:26.887Z"
   },
   {
    "duration": 49,
    "start_time": "2024-12-07T05:00:26.901Z"
   },
   {
    "duration": 54,
    "start_time": "2024-12-07T05:00:26.952Z"
   },
   {
    "duration": 157,
    "start_time": "2024-12-07T18:25:04.629Z"
   },
   {
    "duration": 326,
    "start_time": "2024-12-07T18:25:11.592Z"
   },
   {
    "duration": 1882,
    "start_time": "2024-12-07T18:25:11.920Z"
   },
   {
    "duration": 2,
    "start_time": "2024-12-07T18:25:13.804Z"
   },
   {
    "duration": 193,
    "start_time": "2024-12-07T18:25:13.808Z"
   },
   {
    "duration": 68,
    "start_time": "2024-12-07T18:25:14.003Z"
   },
   {
    "duration": 780,
    "start_time": "2024-12-07T18:25:14.073Z"
   },
   {
    "duration": 14,
    "start_time": "2024-12-07T18:25:14.856Z"
   },
   {
    "duration": 19,
    "start_time": "2024-12-07T18:25:14.873Z"
   },
   {
    "duration": 28,
    "start_time": "2024-12-07T18:25:14.894Z"
   },
   {
    "duration": 12,
    "start_time": "2024-12-07T18:25:14.924Z"
   },
   {
    "duration": 118,
    "start_time": "2024-12-07T18:25:14.937Z"
   },
   {
    "duration": 101,
    "start_time": "2024-12-07T18:25:15.057Z"
   },
   {
    "duration": 30,
    "start_time": "2024-12-07T18:25:15.160Z"
   },
   {
    "duration": 13,
    "start_time": "2024-12-07T18:25:15.193Z"
   },
   {
    "duration": 5,
    "start_time": "2024-12-07T18:25:15.208Z"
   },
   {
    "duration": 32,
    "start_time": "2024-12-07T18:25:15.215Z"
   },
   {
    "duration": 43,
    "start_time": "2024-12-07T18:25:15.249Z"
   },
   {
    "duration": 5,
    "start_time": "2024-12-07T18:25:15.294Z"
   },
   {
    "duration": 5,
    "start_time": "2024-12-07T18:25:15.300Z"
   },
   {
    "duration": 4,
    "start_time": "2024-12-07T18:25:15.306Z"
   },
   {
    "duration": 5,
    "start_time": "2024-12-07T18:25:15.311Z"
   },
   {
    "duration": 786,
    "start_time": "2024-12-07T18:25:15.317Z"
   },
   {
    "duration": 704,
    "start_time": "2024-12-07T18:25:16.105Z"
   },
   {
    "duration": 8,
    "start_time": "2024-12-07T18:25:16.811Z"
   },
   {
    "duration": 6,
    "start_time": "2024-12-07T18:25:16.820Z"
   },
   {
    "duration": 3,
    "start_time": "2024-12-07T18:25:16.828Z"
   },
   {
    "duration": 6,
    "start_time": "2024-12-07T18:25:16.833Z"
   },
   {
    "duration": 9,
    "start_time": "2024-12-07T18:25:16.840Z"
   },
   {
    "duration": 7,
    "start_time": "2024-12-07T18:25:16.886Z"
   },
   {
    "duration": 6,
    "start_time": "2024-12-07T18:25:16.895Z"
   },
   {
    "duration": 17,
    "start_time": "2024-12-07T18:25:16.903Z"
   },
   {
    "duration": 33,
    "start_time": "2024-12-07T18:25:16.922Z"
   },
   {
    "duration": 36,
    "start_time": "2024-12-07T18:25:16.957Z"
   },
   {
    "duration": 25,
    "start_time": "2024-12-07T18:25:16.995Z"
   },
   {
    "duration": 75,
    "start_time": "2024-12-07T18:25:17.022Z"
   },
   {
    "duration": 319,
    "start_time": "2024-12-07T18:48:45.012Z"
   },
   {
    "duration": 134,
    "start_time": "2024-12-07T18:48:45.334Z"
   },
   {
    "duration": 3,
    "start_time": "2024-12-07T18:48:45.470Z"
   },
   {
    "duration": 204,
    "start_time": "2024-12-07T18:48:45.475Z"
   },
   {
    "duration": 67,
    "start_time": "2024-12-07T18:48:45.682Z"
   },
   {
    "duration": 836,
    "start_time": "2024-12-07T18:48:45.751Z"
   },
   {
    "duration": 14,
    "start_time": "2024-12-07T18:48:46.589Z"
   },
   {
    "duration": 14,
    "start_time": "2024-12-07T18:48:46.605Z"
   },
   {
    "duration": 29,
    "start_time": "2024-12-07T18:48:46.621Z"
   },
   {
    "duration": 41,
    "start_time": "2024-12-07T18:48:46.651Z"
   },
   {
    "duration": 97,
    "start_time": "2024-12-07T18:48:46.694Z"
   },
   {
    "duration": 95,
    "start_time": "2024-12-07T18:48:46.792Z"
   },
   {
    "duration": 24,
    "start_time": "2024-12-07T18:48:46.889Z"
   },
   {
    "duration": 12,
    "start_time": "2024-12-07T18:48:46.918Z"
   },
   {
    "duration": 6,
    "start_time": "2024-12-07T18:48:46.931Z"
   },
   {
    "duration": 61,
    "start_time": "2024-12-07T18:48:46.938Z"
   },
   {
    "duration": 16,
    "start_time": "2024-12-07T18:48:47.001Z"
   },
   {
    "duration": 5,
    "start_time": "2024-12-07T18:48:47.019Z"
   },
   {
    "duration": 6,
    "start_time": "2024-12-07T18:48:47.026Z"
   },
   {
    "duration": 4,
    "start_time": "2024-12-07T18:48:47.034Z"
   },
   {
    "duration": 48,
    "start_time": "2024-12-07T18:48:47.040Z"
   },
   {
    "duration": 809,
    "start_time": "2024-12-07T18:48:47.089Z"
   },
   {
    "duration": 701,
    "start_time": "2024-12-07T18:48:47.900Z"
   },
   {
    "duration": 7,
    "start_time": "2024-12-07T18:48:48.603Z"
   },
   {
    "duration": 6,
    "start_time": "2024-12-07T18:48:48.612Z"
   },
   {
    "duration": 3,
    "start_time": "2024-12-07T18:48:48.620Z"
   },
   {
    "duration": 7,
    "start_time": "2024-12-07T18:48:48.625Z"
   },
   {
    "duration": 53,
    "start_time": "2024-12-07T18:48:48.634Z"
   },
   {
    "duration": 8,
    "start_time": "2024-12-07T18:48:48.689Z"
   },
   {
    "duration": 7,
    "start_time": "2024-12-07T18:48:48.698Z"
   },
   {
    "duration": 17,
    "start_time": "2024-12-07T18:48:48.707Z"
   },
   {
    "duration": 69,
    "start_time": "2024-12-07T18:48:48.726Z"
   },
   {
    "duration": 12,
    "start_time": "2024-12-07T18:48:48.797Z"
   },
   {
    "duration": 26,
    "start_time": "2024-12-07T18:48:48.811Z"
   },
   {
    "duration": 73,
    "start_time": "2024-12-07T18:48:48.839Z"
   },
   {
    "duration": 5,
    "start_time": "2024-12-07T18:48:48.914Z"
   },
   {
    "duration": 4,
    "start_time": "2024-12-07T18:49:40.068Z"
   },
   {
    "duration": 7,
    "start_time": "2024-12-07T18:53:23.899Z"
   },
   {
    "duration": 299,
    "start_time": "2024-12-07T18:54:00.832Z"
   },
   {
    "duration": 134,
    "start_time": "2024-12-07T18:54:01.133Z"
   },
   {
    "duration": 3,
    "start_time": "2024-12-07T18:54:01.269Z"
   },
   {
    "duration": 205,
    "start_time": "2024-12-07T18:54:01.274Z"
   },
   {
    "duration": 66,
    "start_time": "2024-12-07T18:54:01.486Z"
   },
   {
    "duration": 788,
    "start_time": "2024-12-07T18:54:01.554Z"
   },
   {
    "duration": 14,
    "start_time": "2024-12-07T18:54:02.344Z"
   },
   {
    "duration": 29,
    "start_time": "2024-12-07T18:54:02.359Z"
   },
   {
    "duration": 24,
    "start_time": "2024-12-07T18:54:02.390Z"
   },
   {
    "duration": 11,
    "start_time": "2024-12-07T18:54:02.416Z"
   },
   {
    "duration": 115,
    "start_time": "2024-12-07T18:54:02.429Z"
   },
   {
    "duration": 88,
    "start_time": "2024-12-07T18:54:02.546Z"
   },
   {
    "duration": 26,
    "start_time": "2024-12-07T18:54:02.636Z"
   },
   {
    "duration": 11,
    "start_time": "2024-12-07T18:54:02.687Z"
   },
   {
    "duration": 5,
    "start_time": "2024-12-07T18:54:02.700Z"
   },
   {
    "duration": 32,
    "start_time": "2024-12-07T18:54:02.707Z"
   },
   {
    "duration": 15,
    "start_time": "2024-12-07T18:54:02.741Z"
   },
   {
    "duration": 4,
    "start_time": "2024-12-07T18:54:02.787Z"
   },
   {
    "duration": 5,
    "start_time": "2024-12-07T18:54:02.793Z"
   },
   {
    "duration": 11,
    "start_time": "2024-12-07T18:54:02.800Z"
   },
   {
    "duration": 8,
    "start_time": "2024-12-07T18:54:02.813Z"
   },
   {
    "duration": 859,
    "start_time": "2024-12-07T18:54:02.822Z"
   },
   {
    "duration": 726,
    "start_time": "2024-12-07T18:54:03.683Z"
   },
   {
    "duration": 7,
    "start_time": "2024-12-07T18:54:04.411Z"
   },
   {
    "duration": 5,
    "start_time": "2024-12-07T18:54:04.420Z"
   },
   {
    "duration": 3,
    "start_time": "2024-12-07T18:54:04.427Z"
   },
   {
    "duration": 6,
    "start_time": "2024-12-07T18:54:04.432Z"
   },
   {
    "duration": 47,
    "start_time": "2024-12-07T18:54:04.440Z"
   },
   {
    "duration": 6,
    "start_time": "2024-12-07T18:54:04.489Z"
   },
   {
    "duration": 6,
    "start_time": "2024-12-07T18:54:04.497Z"
   },
   {
    "duration": 17,
    "start_time": "2024-12-07T18:54:04.505Z"
   },
   {
    "duration": 66,
    "start_time": "2024-12-07T18:54:04.523Z"
   },
   {
    "duration": 13,
    "start_time": "2024-12-07T18:54:04.592Z"
   },
   {
    "duration": 26,
    "start_time": "2024-12-07T18:54:04.607Z"
   },
   {
    "duration": 77,
    "start_time": "2024-12-07T18:54:04.634Z"
   },
   {
    "duration": 4,
    "start_time": "2024-12-07T18:54:04.713Z"
   },
   {
    "duration": 2352,
    "start_time": "2024-12-07T18:55:12.964Z"
   },
   {
    "duration": 155,
    "start_time": "2024-12-07T18:59:37.480Z"
   },
   {
    "duration": 338,
    "start_time": "2024-12-07T18:59:46.898Z"
   },
   {
    "duration": 137,
    "start_time": "2024-12-07T18:59:47.239Z"
   },
   {
    "duration": 3,
    "start_time": "2024-12-07T18:59:47.378Z"
   },
   {
    "duration": 198,
    "start_time": "2024-12-07T18:59:47.383Z"
   },
   {
    "duration": 67,
    "start_time": "2024-12-07T18:59:47.586Z"
   },
   {
    "duration": 870,
    "start_time": "2024-12-07T18:59:47.655Z"
   },
   {
    "duration": 13,
    "start_time": "2024-12-07T18:59:48.527Z"
   },
   {
    "duration": 14,
    "start_time": "2024-12-07T18:59:48.542Z"
   },
   {
    "duration": 47,
    "start_time": "2024-12-07T18:59:48.558Z"
   },
   {
    "duration": 13,
    "start_time": "2024-12-07T18:59:48.607Z"
   },
   {
    "duration": 109,
    "start_time": "2024-12-07T18:59:48.621Z"
   },
   {
    "duration": 95,
    "start_time": "2024-12-07T18:59:48.732Z"
   },
   {
    "duration": 25,
    "start_time": "2024-12-07T18:59:48.829Z"
   },
   {
    "duration": 31,
    "start_time": "2024-12-07T18:59:48.859Z"
   },
   {
    "duration": 6,
    "start_time": "2024-12-07T18:59:48.892Z"
   },
   {
    "duration": 33,
    "start_time": "2024-12-07T18:59:48.901Z"
   },
   {
    "duration": 16,
    "start_time": "2024-12-07T18:59:48.935Z"
   },
   {
    "duration": 35,
    "start_time": "2024-12-07T18:59:48.953Z"
   },
   {
    "duration": 6,
    "start_time": "2024-12-07T18:59:48.990Z"
   },
   {
    "duration": 4,
    "start_time": "2024-12-07T18:59:48.997Z"
   },
   {
    "duration": 4,
    "start_time": "2024-12-07T18:59:49.003Z"
   },
   {
    "duration": 799,
    "start_time": "2024-12-07T18:59:49.009Z"
   },
   {
    "duration": 707,
    "start_time": "2024-12-07T18:59:49.811Z"
   },
   {
    "duration": 7,
    "start_time": "2024-12-07T18:59:50.520Z"
   },
   {
    "duration": 6,
    "start_time": "2024-12-07T18:59:50.528Z"
   },
   {
    "duration": 4,
    "start_time": "2024-12-07T18:59:50.535Z"
   },
   {
    "duration": 7,
    "start_time": "2024-12-07T18:59:50.540Z"
   },
   {
    "duration": 43,
    "start_time": "2024-12-07T18:59:50.549Z"
   },
   {
    "duration": 6,
    "start_time": "2024-12-07T18:59:50.593Z"
   },
   {
    "duration": 7,
    "start_time": "2024-12-07T18:59:50.601Z"
   },
   {
    "duration": 17,
    "start_time": "2024-12-07T18:59:50.609Z"
   },
   {
    "duration": 65,
    "start_time": "2024-12-07T18:59:50.628Z"
   },
   {
    "duration": 14,
    "start_time": "2024-12-07T18:59:50.695Z"
   },
   {
    "duration": 25,
    "start_time": "2024-12-07T18:59:50.711Z"
   },
   {
    "duration": 80,
    "start_time": "2024-12-07T18:59:50.738Z"
   },
   {
    "duration": 177,
    "start_time": "2024-12-07T18:59:50.820Z"
   },
   {
    "duration": 130,
    "start_time": "2024-12-07T19:00:06.670Z"
   },
   {
    "duration": 316,
    "start_time": "2024-12-07T19:23:19.232Z"
   },
   {
    "duration": 136,
    "start_time": "2024-12-07T19:23:19.551Z"
   },
   {
    "duration": 3,
    "start_time": "2024-12-07T19:23:19.688Z"
   },
   {
    "duration": 198,
    "start_time": "2024-12-07T19:23:19.692Z"
   },
   {
    "duration": 68,
    "start_time": "2024-12-07T19:23:19.893Z"
   },
   {
    "duration": 788,
    "start_time": "2024-12-07T19:23:19.964Z"
   },
   {
    "duration": 15,
    "start_time": "2024-12-07T19:23:20.753Z"
   },
   {
    "duration": 25,
    "start_time": "2024-12-07T19:23:20.769Z"
   },
   {
    "duration": 28,
    "start_time": "2024-12-07T19:23:20.796Z"
   },
   {
    "duration": 12,
    "start_time": "2024-12-07T19:23:20.826Z"
   },
   {
    "duration": 121,
    "start_time": "2024-12-07T19:23:20.840Z"
   },
   {
    "duration": 92,
    "start_time": "2024-12-07T19:23:20.962Z"
   },
   {
    "duration": 33,
    "start_time": "2024-12-07T19:23:21.056Z"
   },
   {
    "duration": 12,
    "start_time": "2024-12-07T19:23:21.093Z"
   },
   {
    "duration": 5,
    "start_time": "2024-12-07T19:23:21.107Z"
   },
   {
    "duration": 32,
    "start_time": "2024-12-07T19:23:21.114Z"
   },
   {
    "duration": 46,
    "start_time": "2024-12-07T19:23:21.148Z"
   },
   {
    "duration": 5,
    "start_time": "2024-12-07T19:23:21.197Z"
   },
   {
    "duration": 5,
    "start_time": "2024-12-07T19:23:21.204Z"
   },
   {
    "duration": 5,
    "start_time": "2024-12-07T19:23:21.210Z"
   },
   {
    "duration": 5,
    "start_time": "2024-12-07T19:23:21.216Z"
   },
   {
    "duration": 811,
    "start_time": "2024-12-07T19:23:21.224Z"
   },
   {
    "duration": 724,
    "start_time": "2024-12-07T19:23:22.037Z"
   },
   {
    "duration": 7,
    "start_time": "2024-12-07T19:23:22.762Z"
   },
   {
    "duration": 19,
    "start_time": "2024-12-07T19:23:22.771Z"
   },
   {
    "duration": 3,
    "start_time": "2024-12-07T19:23:22.792Z"
   },
   {
    "duration": 6,
    "start_time": "2024-12-07T19:23:22.797Z"
   },
   {
    "duration": 10,
    "start_time": "2024-12-07T19:23:22.805Z"
   },
   {
    "duration": 6,
    "start_time": "2024-12-07T19:23:22.816Z"
   },
   {
    "duration": 6,
    "start_time": "2024-12-07T19:23:22.824Z"
   },
   {
    "duration": 66,
    "start_time": "2024-12-07T19:23:22.831Z"
   },
   {
    "duration": 33,
    "start_time": "2024-12-07T19:23:22.899Z"
   },
   {
    "duration": 13,
    "start_time": "2024-12-07T19:23:22.934Z"
   },
   {
    "duration": 49,
    "start_time": "2024-12-07T19:23:22.949Z"
   },
   {
    "duration": 52,
    "start_time": "2024-12-07T19:23:23.000Z"
   },
   {
    "duration": 5,
    "start_time": "2024-12-07T19:23:23.054Z"
   },
   {
    "duration": 494,
    "start_time": "2024-12-07T19:38:52.517Z"
   },
   {
    "duration": 271,
    "start_time": "2024-12-07T19:39:04.971Z"
   },
   {
    "duration": 134,
    "start_time": "2024-12-07T19:39:05.244Z"
   },
   {
    "duration": 6,
    "start_time": "2024-12-07T19:39:05.380Z"
   },
   {
    "duration": 180,
    "start_time": "2024-12-07T19:39:05.388Z"
   },
   {
    "duration": 54,
    "start_time": "2024-12-07T19:39:05.571Z"
   },
   {
    "duration": 740,
    "start_time": "2024-12-07T19:39:05.627Z"
   },
   {
    "duration": 21,
    "start_time": "2024-12-07T19:39:06.369Z"
   },
   {
    "duration": 13,
    "start_time": "2024-12-07T19:39:06.392Z"
   },
   {
    "duration": 30,
    "start_time": "2024-12-07T19:39:06.407Z"
   },
   {
    "duration": 12,
    "start_time": "2024-12-07T19:39:06.439Z"
   },
   {
    "duration": 117,
    "start_time": "2024-12-07T19:39:06.452Z"
   },
   {
    "duration": 94,
    "start_time": "2024-12-07T19:39:06.570Z"
   },
   {
    "duration": 33,
    "start_time": "2024-12-07T19:39:06.666Z"
   },
   {
    "duration": 12,
    "start_time": "2024-12-07T19:39:06.703Z"
   },
   {
    "duration": 7,
    "start_time": "2024-12-07T19:39:06.717Z"
   },
   {
    "duration": 32,
    "start_time": "2024-12-07T19:39:06.725Z"
   },
   {
    "duration": 16,
    "start_time": "2024-12-07T19:39:06.786Z"
   },
   {
    "duration": 4,
    "start_time": "2024-12-07T19:39:06.803Z"
   },
   {
    "duration": 5,
    "start_time": "2024-12-07T19:39:06.809Z"
   },
   {
    "duration": 5,
    "start_time": "2024-12-07T19:39:06.815Z"
   },
   {
    "duration": 4,
    "start_time": "2024-12-07T19:39:06.822Z"
   },
   {
    "duration": 819,
    "start_time": "2024-12-07T19:39:06.828Z"
   },
   {
    "duration": 713,
    "start_time": "2024-12-07T19:39:07.649Z"
   },
   {
    "duration": 7,
    "start_time": "2024-12-07T19:39:08.364Z"
   },
   {
    "duration": 19,
    "start_time": "2024-12-07T19:39:08.373Z"
   },
   {
    "duration": 3,
    "start_time": "2024-12-07T19:39:08.394Z"
   },
   {
    "duration": 6,
    "start_time": "2024-12-07T19:39:08.400Z"
   },
   {
    "duration": 10,
    "start_time": "2024-12-07T19:39:08.409Z"
   },
   {
    "duration": 9,
    "start_time": "2024-12-07T19:39:08.421Z"
   },
   {
    "duration": 56,
    "start_time": "2024-12-07T19:39:08.432Z"
   },
   {
    "duration": 17,
    "start_time": "2024-12-07T19:39:08.490Z"
   },
   {
    "duration": 32,
    "start_time": "2024-12-07T19:39:08.509Z"
   },
   {
    "duration": 12,
    "start_time": "2024-12-07T19:39:08.543Z"
   },
   {
    "duration": 52,
    "start_time": "2024-12-07T19:39:08.557Z"
   },
   {
    "duration": 51,
    "start_time": "2024-12-07T19:39:08.611Z"
   },
   {
    "duration": 507,
    "start_time": "2024-12-07T19:39:08.664Z"
   },
   {
    "duration": 683,
    "start_time": "2024-12-07T19:40:05.893Z"
   },
   {
    "duration": 300,
    "start_time": "2024-12-07T19:43:37.596Z"
   },
   {
    "duration": 62,
    "start_time": "2024-12-07T19:44:05.298Z"
   },
   {
    "duration": 362,
    "start_time": "2024-12-07T19:44:20.268Z"
   },
   {
    "duration": 324,
    "start_time": "2024-12-07T20:41:11.191Z"
   },
   {
    "duration": 142,
    "start_time": "2024-12-07T20:41:11.518Z"
   },
   {
    "duration": 3,
    "start_time": "2024-12-07T20:41:11.662Z"
   },
   {
    "duration": 212,
    "start_time": "2024-12-07T20:41:11.667Z"
   },
   {
    "duration": 67,
    "start_time": "2024-12-07T20:41:11.882Z"
   },
   {
    "duration": 813,
    "start_time": "2024-12-07T20:41:11.951Z"
   },
   {
    "duration": 24,
    "start_time": "2024-12-07T20:41:12.766Z"
   },
   {
    "duration": 15,
    "start_time": "2024-12-07T20:41:12.792Z"
   },
   {
    "duration": 31,
    "start_time": "2024-12-07T20:41:12.809Z"
   },
   {
    "duration": 12,
    "start_time": "2024-12-07T20:41:12.842Z"
   },
   {
    "duration": 109,
    "start_time": "2024-12-07T20:41:12.886Z"
   },
   {
    "duration": 122,
    "start_time": "2024-12-07T20:41:12.997Z"
   },
   {
    "duration": 38,
    "start_time": "2024-12-07T20:41:13.121Z"
   },
   {
    "duration": 40,
    "start_time": "2024-12-07T20:41:13.163Z"
   },
   {
    "duration": 5,
    "start_time": "2024-12-07T20:41:13.206Z"
   },
   {
    "duration": 33,
    "start_time": "2024-12-07T20:41:13.213Z"
   },
   {
    "duration": 44,
    "start_time": "2024-12-07T20:41:13.248Z"
   },
   {
    "duration": 4,
    "start_time": "2024-12-07T20:41:13.294Z"
   },
   {
    "duration": 5,
    "start_time": "2024-12-07T20:41:13.300Z"
   },
   {
    "duration": 4,
    "start_time": "2024-12-07T20:41:13.306Z"
   },
   {
    "duration": 4,
    "start_time": "2024-12-07T20:41:13.312Z"
   },
   {
    "duration": 880,
    "start_time": "2024-12-07T20:41:13.318Z"
   },
   {
    "duration": 732,
    "start_time": "2024-12-07T20:41:14.200Z"
   },
   {
    "duration": 8,
    "start_time": "2024-12-07T20:41:14.933Z"
   },
   {
    "duration": 6,
    "start_time": "2024-12-07T20:41:14.942Z"
   },
   {
    "duration": 3,
    "start_time": "2024-12-07T20:41:14.950Z"
   },
   {
    "duration": 34,
    "start_time": "2024-12-07T20:41:14.955Z"
   },
   {
    "duration": 9,
    "start_time": "2024-12-07T20:41:14.991Z"
   },
   {
    "duration": 7,
    "start_time": "2024-12-07T20:41:15.002Z"
   },
   {
    "duration": 8,
    "start_time": "2024-12-07T20:41:15.011Z"
   },
   {
    "duration": 18,
    "start_time": "2024-12-07T20:41:15.021Z"
   },
   {
    "duration": 80,
    "start_time": "2024-12-07T20:41:15.041Z"
   },
   {
    "duration": 14,
    "start_time": "2024-12-07T20:41:15.126Z"
   },
   {
    "duration": 57,
    "start_time": "2024-12-07T20:41:15.142Z"
   },
   {
    "duration": 57,
    "start_time": "2024-12-07T20:41:15.201Z"
   },
   {
    "duration": 283,
    "start_time": "2024-12-07T20:47:01.052Z"
   },
   {
    "duration": 143,
    "start_time": "2024-12-07T20:47:01.337Z"
   },
   {
    "duration": 6,
    "start_time": "2024-12-07T20:47:01.482Z"
   },
   {
    "duration": 195,
    "start_time": "2024-12-07T20:47:01.489Z"
   },
   {
    "duration": 73,
    "start_time": "2024-12-07T20:47:01.687Z"
   },
   {
    "duration": 844,
    "start_time": "2024-12-07T20:47:01.762Z"
   },
   {
    "duration": 14,
    "start_time": "2024-12-07T20:47:02.607Z"
   },
   {
    "duration": 13,
    "start_time": "2024-12-07T20:47:02.623Z"
   },
   {
    "duration": 49,
    "start_time": "2024-12-07T20:47:02.638Z"
   },
   {
    "duration": 11,
    "start_time": "2024-12-07T20:47:02.689Z"
   },
   {
    "duration": 108,
    "start_time": "2024-12-07T20:47:02.702Z"
   },
   {
    "duration": 90,
    "start_time": "2024-12-07T20:47:02.811Z"
   },
   {
    "duration": 25,
    "start_time": "2024-12-07T20:47:02.903Z"
   },
   {
    "duration": 11,
    "start_time": "2024-12-07T20:47:02.932Z"
   },
   {
    "duration": 5,
    "start_time": "2024-12-07T20:47:02.945Z"
   },
   {
    "duration": 61,
    "start_time": "2024-12-07T20:47:02.951Z"
   },
   {
    "duration": 17,
    "start_time": "2024-12-07T20:47:03.014Z"
   },
   {
    "duration": 5,
    "start_time": "2024-12-07T20:47:03.033Z"
   },
   {
    "duration": 6,
    "start_time": "2024-12-07T20:47:03.039Z"
   },
   {
    "duration": 4,
    "start_time": "2024-12-07T20:47:03.046Z"
   },
   {
    "duration": 36,
    "start_time": "2024-12-07T20:47:03.052Z"
   },
   {
    "duration": 822,
    "start_time": "2024-12-07T20:47:03.090Z"
   },
   {
    "duration": 723,
    "start_time": "2024-12-07T20:47:03.914Z"
   },
   {
    "duration": 7,
    "start_time": "2024-12-07T20:47:04.640Z"
   },
   {
    "duration": 11,
    "start_time": "2024-12-07T20:47:04.649Z"
   },
   {
    "duration": 6,
    "start_time": "2024-12-07T20:47:04.662Z"
   },
   {
    "duration": 6,
    "start_time": "2024-12-07T20:47:04.686Z"
   },
   {
    "duration": 9,
    "start_time": "2024-12-07T20:47:04.693Z"
   },
   {
    "duration": 7,
    "start_time": "2024-12-07T20:47:04.704Z"
   },
   {
    "duration": 6,
    "start_time": "2024-12-07T20:47:04.713Z"
   },
   {
    "duration": 18,
    "start_time": "2024-12-07T20:47:04.721Z"
   },
   {
    "duration": 73,
    "start_time": "2024-12-07T20:47:04.741Z"
   },
   {
    "duration": 14,
    "start_time": "2024-12-07T20:47:04.816Z"
   },
   {
    "duration": 26,
    "start_time": "2024-12-07T20:47:04.832Z"
   },
   {
    "duration": 53,
    "start_time": "2024-12-07T20:47:04.886Z"
   },
   {
    "duration": 2329,
    "start_time": "2024-12-07T20:47:04.941Z"
   },
   {
    "duration": 3,
    "start_time": "2024-12-07T20:48:10.270Z"
   },
   {
    "duration": 4,
    "start_time": "2024-12-07T20:48:40.081Z"
   },
   {
    "duration": 512,
    "start_time": "2024-12-07T21:14:21.316Z"
   },
   {
    "duration": 98,
    "start_time": "2024-12-07T21:17:30.776Z"
   },
   {
    "duration": 272,
    "start_time": "2024-12-07T21:18:42.524Z"
   },
   {
    "duration": 185,
    "start_time": "2024-12-07T21:20:26.901Z"
   },
   {
    "duration": 882,
    "start_time": "2024-12-07T21:23:58.331Z"
   },
   {
    "duration": 154,
    "start_time": "2024-12-07T21:24:05.717Z"
   },
   {
    "duration": 162,
    "start_time": "2024-12-07T21:24:12.649Z"
   },
   {
    "duration": 195,
    "start_time": "2024-12-07T21:26:03.994Z"
   },
   {
    "duration": 112,
    "start_time": "2024-12-07T21:32:09.664Z"
   },
   {
    "duration": 232,
    "start_time": "2024-12-07T22:05:36.156Z"
   },
   {
    "duration": 267,
    "start_time": "2024-12-07T22:05:49.567Z"
   },
   {
    "duration": 6,
    "start_time": "2024-12-07T22:14:01.793Z"
   },
   {
    "duration": 265,
    "start_time": "2024-12-07T22:14:09.059Z"
   },
   {
    "duration": 238,
    "start_time": "2024-12-07T22:14:48.196Z"
   },
   {
    "duration": 240,
    "start_time": "2024-12-07T22:15:17.053Z"
   },
   {
    "duration": 131,
    "start_time": "2024-12-07T22:15:57.648Z"
   },
   {
    "duration": 129,
    "start_time": "2024-12-07T22:17:21.044Z"
   },
   {
    "duration": 133,
    "start_time": "2024-12-07T22:22:20.075Z"
   },
   {
    "duration": 137,
    "start_time": "2024-12-07T22:27:21.168Z"
   },
   {
    "duration": 528,
    "start_time": "2024-12-07T22:27:41.000Z"
   },
   {
    "duration": 135,
    "start_time": "2024-12-07T22:27:59.854Z"
   },
   {
    "duration": 135,
    "start_time": "2024-12-07T22:33:16.162Z"
   },
   {
    "duration": 130,
    "start_time": "2024-12-07T22:34:57.898Z"
   },
   {
    "duration": 268,
    "start_time": "2024-12-07T22:42:22.770Z"
   },
   {
    "duration": 166,
    "start_time": "2024-12-07T22:43:10.572Z"
   },
   {
    "duration": 173,
    "start_time": "2024-12-07T22:43:13.391Z"
   },
   {
    "duration": 177,
    "start_time": "2024-12-07T22:43:25.320Z"
   },
   {
    "duration": 244,
    "start_time": "2024-12-07T22:43:38.013Z"
   },
   {
    "duration": 323,
    "start_time": "2024-12-07T22:44:23.779Z"
   },
   {
    "duration": 355,
    "start_time": "2024-12-07T22:45:33.246Z"
   },
   {
    "duration": 335,
    "start_time": "2024-12-07T22:45:45.668Z"
   },
   {
    "duration": 4,
    "start_time": "2024-12-07T22:46:58.492Z"
   },
   {
    "duration": 350,
    "start_time": "2024-12-07T22:47:05.043Z"
   },
   {
    "duration": 358,
    "start_time": "2024-12-07T22:50:00.382Z"
   },
   {
    "duration": 218,
    "start_time": "2024-12-07T22:54:31.846Z"
   },
   {
    "duration": 3,
    "start_time": "2024-12-07T23:04:07.894Z"
   },
   {
    "duration": 3,
    "start_time": "2024-12-07T23:21:31.296Z"
   },
   {
    "duration": 4,
    "start_time": "2024-12-07T23:23:59.326Z"
   },
   {
    "duration": 12,
    "start_time": "2024-12-07T23:32:18.538Z"
   },
   {
    "duration": 8,
    "start_time": "2024-12-07T23:32:56.112Z"
   },
   {
    "duration": 101,
    "start_time": "2024-12-07T23:32:58.465Z"
   },
   {
    "duration": 120,
    "start_time": "2024-12-07T23:33:50.738Z"
   },
   {
    "duration": 135,
    "start_time": "2024-12-07T23:34:19.758Z"
   },
   {
    "duration": 125,
    "start_time": "2024-12-07T23:35:06.743Z"
   },
   {
    "duration": 154,
    "start_time": "2024-12-07T23:36:03.066Z"
   },
   {
    "duration": 161,
    "start_time": "2024-12-07T23:38:17.769Z"
   },
   {
    "duration": 165,
    "start_time": "2024-12-07T23:38:35.982Z"
   },
   {
    "duration": 151,
    "start_time": "2024-12-07T23:38:52.894Z"
   },
   {
    "duration": 3,
    "start_time": "2024-12-07T23:40:45.811Z"
   },
   {
    "duration": 151,
    "start_time": "2024-12-07T23:40:49.677Z"
   },
   {
    "duration": 161,
    "start_time": "2024-12-07T23:41:02.970Z"
   },
   {
    "duration": 4,
    "start_time": "2024-12-07T23:42:09.803Z"
   },
   {
    "duration": 154,
    "start_time": "2024-12-07T23:42:14.221Z"
   },
   {
    "duration": 415,
    "start_time": "2024-12-07T23:42:34.669Z"
   },
   {
    "duration": 165,
    "start_time": "2024-12-07T23:42:40.763Z"
   },
   {
    "duration": 161,
    "start_time": "2024-12-07T23:42:46.356Z"
   },
   {
    "duration": 154,
    "start_time": "2024-12-07T23:42:55.350Z"
   },
   {
    "duration": 163,
    "start_time": "2024-12-07T23:43:07.630Z"
   },
   {
    "duration": 159,
    "start_time": "2024-12-07T23:43:31.196Z"
   },
   {
    "duration": 159,
    "start_time": "2024-12-07T23:43:45.982Z"
   },
   {
    "duration": 156,
    "start_time": "2024-12-07T23:43:57.218Z"
   },
   {
    "duration": 156,
    "start_time": "2024-12-07T23:45:04.523Z"
   },
   {
    "duration": 153,
    "start_time": "2024-12-07T23:45:37.222Z"
   },
   {
    "duration": 153,
    "start_time": "2024-12-07T23:45:48.310Z"
   },
   {
    "duration": 168,
    "start_time": "2024-12-07T23:46:54.570Z"
   },
   {
    "duration": 164,
    "start_time": "2024-12-07T23:48:24.935Z"
   },
   {
    "duration": 163,
    "start_time": "2024-12-07T23:48:34.287Z"
   },
   {
    "duration": 321,
    "start_time": "2024-12-07T23:49:03.618Z"
   },
   {
    "duration": 138,
    "start_time": "2024-12-07T23:49:03.941Z"
   },
   {
    "duration": 5,
    "start_time": "2024-12-07T23:49:04.081Z"
   },
   {
    "duration": 182,
    "start_time": "2024-12-07T23:49:04.089Z"
   },
   {
    "duration": 50,
    "start_time": "2024-12-07T23:49:04.273Z"
   },
   {
    "duration": 752,
    "start_time": "2024-12-07T23:49:04.324Z"
   },
   {
    "duration": 14,
    "start_time": "2024-12-07T23:49:05.077Z"
   },
   {
    "duration": 13,
    "start_time": "2024-12-07T23:49:05.093Z"
   },
   {
    "duration": 29,
    "start_time": "2024-12-07T23:49:05.108Z"
   },
   {
    "duration": 12,
    "start_time": "2024-12-07T23:49:05.139Z"
   },
   {
    "duration": 129,
    "start_time": "2024-12-07T23:49:05.152Z"
   },
   {
    "duration": 91,
    "start_time": "2024-12-07T23:49:05.286Z"
   },
   {
    "duration": 25,
    "start_time": "2024-12-07T23:49:05.387Z"
   },
   {
    "duration": 11,
    "start_time": "2024-12-07T23:49:05.416Z"
   },
   {
    "duration": 5,
    "start_time": "2024-12-07T23:49:05.429Z"
   },
   {
    "duration": 52,
    "start_time": "2024-12-07T23:49:05.436Z"
   },
   {
    "duration": 15,
    "start_time": "2024-12-07T23:49:05.490Z"
   },
   {
    "duration": 4,
    "start_time": "2024-12-07T23:49:05.507Z"
   },
   {
    "duration": 4,
    "start_time": "2024-12-07T23:49:05.513Z"
   },
   {
    "duration": 4,
    "start_time": "2024-12-07T23:49:05.519Z"
   },
   {
    "duration": 5,
    "start_time": "2024-12-07T23:49:05.524Z"
   },
   {
    "duration": 807,
    "start_time": "2024-12-07T23:49:05.530Z"
   },
   {
    "duration": 693,
    "start_time": "2024-12-07T23:49:06.339Z"
   },
   {
    "duration": 7,
    "start_time": "2024-12-07T23:49:07.034Z"
   },
   {
    "duration": 7,
    "start_time": "2024-12-07T23:49:07.043Z"
   },
   {
    "duration": 3,
    "start_time": "2024-12-07T23:49:07.052Z"
   },
   {
    "duration": 30,
    "start_time": "2024-12-07T23:49:07.058Z"
   },
   {
    "duration": 9,
    "start_time": "2024-12-07T23:49:07.090Z"
   },
   {
    "duration": 6,
    "start_time": "2024-12-07T23:49:07.101Z"
   },
   {
    "duration": 6,
    "start_time": "2024-12-07T23:49:07.108Z"
   },
   {
    "duration": 16,
    "start_time": "2024-12-07T23:49:07.117Z"
   },
   {
    "duration": 65,
    "start_time": "2024-12-07T23:49:07.135Z"
   },
   {
    "duration": 13,
    "start_time": "2024-12-07T23:49:07.202Z"
   },
   {
    "duration": 25,
    "start_time": "2024-12-07T23:49:07.217Z"
   },
   {
    "duration": 72,
    "start_time": "2024-12-07T23:49:07.244Z"
   },
   {
    "duration": 4,
    "start_time": "2024-12-07T23:49:07.317Z"
   },
   {
    "duration": 0,
    "start_time": "2024-12-07T23:49:07.323Z"
   },
   {
    "duration": 0,
    "start_time": "2024-12-07T23:49:07.324Z"
   },
   {
    "duration": 0,
    "start_time": "2024-12-07T23:49:07.325Z"
   },
   {
    "duration": 0,
    "start_time": "2024-12-07T23:49:07.326Z"
   },
   {
    "duration": 0,
    "start_time": "2024-12-07T23:49:07.327Z"
   },
   {
    "duration": 186,
    "start_time": "2024-12-07T23:49:15.881Z"
   },
   {
    "duration": 4,
    "start_time": "2024-12-07T23:49:29.994Z"
   },
   {
    "duration": 4,
    "start_time": "2024-12-07T23:50:02.899Z"
   },
   {
    "duration": 4,
    "start_time": "2024-12-07T23:50:05.894Z"
   },
   {
    "duration": 5,
    "start_time": "2024-12-07T23:50:11.769Z"
   },
   {
    "duration": 122,
    "start_time": "2024-12-07T23:50:14.915Z"
   },
   {
    "duration": 132,
    "start_time": "2024-12-07T23:50:17.702Z"
   },
   {
    "duration": 218,
    "start_time": "2024-12-07T23:50:20.350Z"
   },
   {
    "duration": 12,
    "start_time": "2024-12-07T23:50:25.559Z"
   },
   {
    "duration": 167,
    "start_time": "2024-12-07T23:50:27.552Z"
   },
   {
    "duration": 160,
    "start_time": "2024-12-07T23:51:12.143Z"
   },
   {
    "duration": 212,
    "start_time": "2024-12-07T23:52:11.221Z"
   },
   {
    "duration": 180,
    "start_time": "2024-12-07T23:52:31.300Z"
   },
   {
    "duration": 162,
    "start_time": "2024-12-07T23:52:44.939Z"
   },
   {
    "duration": 172,
    "start_time": "2024-12-07T23:54:30.017Z"
   },
   {
    "duration": 17,
    "start_time": "2024-12-07T23:58:33.389Z"
   },
   {
    "duration": 13,
    "start_time": "2024-12-08T00:00:22.724Z"
   },
   {
    "duration": 13,
    "start_time": "2024-12-08T00:10:27.957Z"
   },
   {
    "duration": 9,
    "start_time": "2024-12-08T00:10:47.255Z"
   },
   {
    "duration": 4,
    "start_time": "2024-12-08T01:20:41.995Z"
   },
   {
    "duration": 332,
    "start_time": "2024-12-08T01:21:21.776Z"
   },
   {
    "duration": 42,
    "start_time": "2024-12-08T01:22:05.152Z"
   },
   {
    "duration": 14,
    "start_time": "2024-12-08T01:24:15.914Z"
   },
   {
    "duration": 77,
    "start_time": "2024-12-08T01:24:48.309Z"
   },
   {
    "duration": 3,
    "start_time": "2024-12-08T01:24:58.680Z"
   },
   {
    "duration": 2,
    "start_time": "2024-12-08T01:25:12.069Z"
   },
   {
    "duration": 129,
    "start_time": "2024-12-08T01:25:18.982Z"
   },
   {
    "duration": 16,
    "start_time": "2024-12-08T01:26:22.762Z"
   },
   {
    "duration": 152,
    "start_time": "2024-12-08T01:28:01.402Z"
   },
   {
    "duration": 134,
    "start_time": "2024-12-08T01:28:21.665Z"
   },
   {
    "duration": 7231,
    "start_time": "2024-12-08T01:29:12.786Z"
   },
   {
    "duration": 149,
    "start_time": "2024-12-08T01:29:34.075Z"
   },
   {
    "duration": 120,
    "start_time": "2024-12-08T01:29:50.306Z"
   },
   {
    "duration": 123,
    "start_time": "2024-12-08T01:30:03.028Z"
   },
   {
    "duration": 130,
    "start_time": "2024-12-08T01:30:17.095Z"
   },
   {
    "duration": 46,
    "start_time": "2024-12-08T02:05:18.282Z"
   },
   {
    "duration": 50,
    "start_time": "2024-12-08T02:08:57.635Z"
   },
   {
    "duration": 52,
    "start_time": "2024-12-08T02:09:07.838Z"
   },
   {
    "duration": 51,
    "start_time": "2024-12-08T02:09:13.446Z"
   },
   {
    "duration": 41,
    "start_time": "2024-12-08T02:09:20.481Z"
   },
   {
    "duration": 14,
    "start_time": "2024-12-08T02:09:37.681Z"
   },
   {
    "duration": 187,
    "start_time": "2024-12-08T02:09:43.391Z"
   },
   {
    "duration": 180,
    "start_time": "2024-12-08T02:10:25.892Z"
   },
   {
    "duration": 107,
    "start_time": "2024-12-08T02:14:32.903Z"
   },
   {
    "duration": 115,
    "start_time": "2024-12-08T02:19:51.507Z"
   },
   {
    "duration": 115,
    "start_time": "2024-12-08T02:20:03.435Z"
   },
   {
    "duration": 111,
    "start_time": "2024-12-08T02:20:12.122Z"
   },
   {
    "duration": 89,
    "start_time": "2024-12-08T02:26:14.568Z"
   },
   {
    "duration": 4,
    "start_time": "2024-12-08T02:26:22.527Z"
   },
   {
    "duration": 13,
    "start_time": "2024-12-08T02:29:47.570Z"
   },
   {
    "duration": 96,
    "start_time": "2024-12-08T02:31:02.098Z"
   },
   {
    "duration": 573,
    "start_time": "2024-12-08T02:31:04.958Z"
   },
   {
    "duration": 125,
    "start_time": "2024-12-08T02:31:44.963Z"
   },
   {
    "duration": 334,
    "start_time": "2024-12-08T02:32:26.077Z"
   },
   {
    "duration": 322,
    "start_time": "2024-12-08T02:33:03.780Z"
   },
   {
    "duration": 294,
    "start_time": "2024-12-08T02:33:42.225Z"
   },
   {
    "duration": 227,
    "start_time": "2024-12-08T02:34:03.524Z"
   },
   {
    "duration": 124,
    "start_time": "2024-12-08T02:34:10.671Z"
   },
   {
    "duration": 6,
    "start_time": "2024-12-08T02:34:19.788Z"
   },
   {
    "duration": 125,
    "start_time": "2024-12-08T02:34:23.222Z"
   },
   {
    "duration": 123,
    "start_time": "2024-12-08T02:34:45.859Z"
   },
   {
    "duration": 120,
    "start_time": "2024-12-08T02:35:05.625Z"
   },
   {
    "duration": 131,
    "start_time": "2024-12-08T02:35:18.170Z"
   },
   {
    "duration": 137,
    "start_time": "2024-12-08T02:35:25.172Z"
   },
   {
    "duration": 307,
    "start_time": "2024-12-08T02:37:25.987Z"
   },
   {
    "duration": 203,
    "start_time": "2024-12-08T03:32:54.018Z"
   },
   {
    "duration": 4,
    "start_time": "2024-12-08T03:48:25.431Z"
   },
   {
    "duration": 285,
    "start_time": "2024-12-08T03:48:34.333Z"
   },
   {
    "duration": 308,
    "start_time": "2024-12-08T03:50:12.831Z"
   },
   {
    "duration": 146,
    "start_time": "2024-12-08T03:50:13.141Z"
   },
   {
    "duration": 4,
    "start_time": "2024-12-08T03:50:13.290Z"
   },
   {
    "duration": 190,
    "start_time": "2024-12-08T03:50:13.295Z"
   },
   {
    "duration": 50,
    "start_time": "2024-12-08T03:50:13.488Z"
   },
   {
    "duration": 744,
    "start_time": "2024-12-08T03:50:13.540Z"
   },
   {
    "duration": 13,
    "start_time": "2024-12-08T03:50:14.285Z"
   },
   {
    "duration": 13,
    "start_time": "2024-12-08T03:50:14.300Z"
   },
   {
    "duration": 27,
    "start_time": "2024-12-08T03:50:14.314Z"
   },
   {
    "duration": 12,
    "start_time": "2024-12-08T03:50:14.343Z"
   },
   {
    "duration": 123,
    "start_time": "2024-12-08T03:50:14.356Z"
   },
   {
    "duration": 108,
    "start_time": "2024-12-08T03:50:14.481Z"
   },
   {
    "duration": 26,
    "start_time": "2024-12-08T03:50:14.591Z"
   },
   {
    "duration": 12,
    "start_time": "2024-12-08T03:50:14.621Z"
   },
   {
    "duration": 5,
    "start_time": "2024-12-08T03:50:14.635Z"
   },
   {
    "duration": 56,
    "start_time": "2024-12-08T03:50:14.642Z"
   },
   {
    "duration": 16,
    "start_time": "2024-12-08T03:50:14.700Z"
   },
   {
    "duration": 4,
    "start_time": "2024-12-08T03:50:14.717Z"
   },
   {
    "duration": 4,
    "start_time": "2024-12-08T03:50:14.723Z"
   },
   {
    "duration": 4,
    "start_time": "2024-12-08T03:50:14.729Z"
   },
   {
    "duration": 4,
    "start_time": "2024-12-08T03:50:14.735Z"
   },
   {
    "duration": 805,
    "start_time": "2024-12-08T03:50:14.740Z"
   },
   {
    "duration": 691,
    "start_time": "2024-12-08T03:50:15.546Z"
   },
   {
    "duration": 7,
    "start_time": "2024-12-08T03:50:16.239Z"
   },
   {
    "duration": 6,
    "start_time": "2024-12-08T03:50:16.248Z"
   },
   {
    "duration": 3,
    "start_time": "2024-12-08T03:50:16.256Z"
   },
   {
    "duration": 28,
    "start_time": "2024-12-08T03:50:16.260Z"
   },
   {
    "duration": 11,
    "start_time": "2024-12-08T03:50:16.290Z"
   },
   {
    "duration": 7,
    "start_time": "2024-12-08T03:50:16.302Z"
   },
   {
    "duration": 7,
    "start_time": "2024-12-08T03:50:16.310Z"
   },
   {
    "duration": 17,
    "start_time": "2024-12-08T03:50:16.318Z"
   },
   {
    "duration": 67,
    "start_time": "2024-12-08T03:50:16.336Z"
   },
   {
    "duration": 13,
    "start_time": "2024-12-08T03:50:16.404Z"
   },
   {
    "duration": 25,
    "start_time": "2024-12-08T03:50:16.419Z"
   },
   {
    "duration": 77,
    "start_time": "2024-12-08T03:50:16.446Z"
   },
   {
    "duration": 4,
    "start_time": "2024-12-08T03:50:16.525Z"
   },
   {
    "duration": 131,
    "start_time": "2024-12-08T03:50:16.531Z"
   },
   {
    "duration": 141,
    "start_time": "2024-12-08T03:50:16.664Z"
   },
   {
    "duration": 230,
    "start_time": "2024-12-08T03:50:16.807Z"
   },
   {
    "duration": 10,
    "start_time": "2024-12-08T03:50:17.040Z"
   },
   {
    "duration": 187,
    "start_time": "2024-12-08T03:50:17.054Z"
   },
   {
    "duration": 50,
    "start_time": "2024-12-08T03:50:17.244Z"
   },
   {
    "duration": 118,
    "start_time": "2024-12-08T03:50:17.296Z"
   },
   {
    "duration": 110,
    "start_time": "2024-12-08T03:50:17.416Z"
   },
   {
    "duration": 223,
    "start_time": "2024-12-08T03:50:17.528Z"
   },
   {
    "duration": 500,
    "start_time": "2024-12-08T03:50:17.753Z"
   },
   {
    "duration": 2,
    "start_time": "2024-12-08T03:50:42.648Z"
   },
   {
    "duration": 3,
    "start_time": "2024-12-08T03:50:42.652Z"
   },
   {
    "duration": 3,
    "start_time": "2024-12-08T03:50:42.656Z"
   },
   {
    "duration": 123,
    "start_time": "2024-12-08T03:50:42.661Z"
   },
   {
    "duration": 40,
    "start_time": "2024-12-08T03:50:42.787Z"
   },
   {
    "duration": 764,
    "start_time": "2024-12-08T03:50:42.828Z"
   },
   {
    "duration": 14,
    "start_time": "2024-12-08T03:50:43.594Z"
   },
   {
    "duration": 13,
    "start_time": "2024-12-08T03:50:43.609Z"
   },
   {
    "duration": 23,
    "start_time": "2024-12-08T03:50:43.623Z"
   },
   {
    "duration": 39,
    "start_time": "2024-12-08T03:50:43.648Z"
   },
   {
    "duration": 85,
    "start_time": "2024-12-08T03:50:43.689Z"
   },
   {
    "duration": 98,
    "start_time": "2024-12-08T03:50:43.776Z"
   },
   {
    "duration": 37,
    "start_time": "2024-12-08T03:50:43.876Z"
   },
   {
    "duration": 13,
    "start_time": "2024-12-08T03:50:43.917Z"
   },
   {
    "duration": 6,
    "start_time": "2024-12-08T03:50:43.931Z"
   },
   {
    "duration": 52,
    "start_time": "2024-12-08T03:50:43.939Z"
   },
   {
    "duration": 16,
    "start_time": "2024-12-08T03:50:43.993Z"
   },
   {
    "duration": 3,
    "start_time": "2024-12-08T03:50:44.012Z"
   },
   {
    "duration": 5,
    "start_time": "2024-12-08T03:50:44.017Z"
   },
   {
    "duration": 4,
    "start_time": "2024-12-08T03:50:44.024Z"
   },
   {
    "duration": 4,
    "start_time": "2024-12-08T03:50:44.030Z"
   },
   {
    "duration": 820,
    "start_time": "2024-12-08T03:50:44.035Z"
   },
   {
    "duration": 679,
    "start_time": "2024-12-08T03:50:44.856Z"
   },
   {
    "duration": 7,
    "start_time": "2024-12-08T03:50:45.536Z"
   },
   {
    "duration": 5,
    "start_time": "2024-12-08T03:50:45.545Z"
   },
   {
    "duration": 3,
    "start_time": "2024-12-08T03:50:45.552Z"
   },
   {
    "duration": 30,
    "start_time": "2024-12-08T03:50:45.557Z"
   },
   {
    "duration": 10,
    "start_time": "2024-12-08T03:50:45.589Z"
   },
   {
    "duration": 7,
    "start_time": "2024-12-08T03:50:45.600Z"
   },
   {
    "duration": 7,
    "start_time": "2024-12-08T03:50:45.608Z"
   },
   {
    "duration": 16,
    "start_time": "2024-12-08T03:50:45.617Z"
   },
   {
    "duration": 65,
    "start_time": "2024-12-08T03:50:45.635Z"
   },
   {
    "duration": 13,
    "start_time": "2024-12-08T03:50:45.702Z"
   },
   {
    "duration": 25,
    "start_time": "2024-12-08T03:50:45.716Z"
   },
   {
    "duration": 70,
    "start_time": "2024-12-08T03:50:45.743Z"
   },
   {
    "duration": 6,
    "start_time": "2024-12-08T03:50:45.815Z"
   },
   {
    "duration": 127,
    "start_time": "2024-12-08T03:50:45.822Z"
   },
   {
    "duration": 139,
    "start_time": "2024-12-08T03:50:45.951Z"
   },
   {
    "duration": 226,
    "start_time": "2024-12-08T03:50:46.092Z"
   },
   {
    "duration": 9,
    "start_time": "2024-12-08T03:50:46.320Z"
   },
   {
    "duration": 184,
    "start_time": "2024-12-08T03:50:46.335Z"
   },
   {
    "duration": 41,
    "start_time": "2024-12-08T03:50:46.521Z"
   },
   {
    "duration": 124,
    "start_time": "2024-12-08T03:50:46.564Z"
   },
   {
    "duration": 103,
    "start_time": "2024-12-08T03:50:46.690Z"
   },
   {
    "duration": 209,
    "start_time": "2024-12-08T03:50:46.795Z"
   },
   {
    "duration": 285,
    "start_time": "2024-12-08T03:50:47.006Z"
   },
   {
    "duration": 279,
    "start_time": "2024-12-08T03:51:01.682Z"
   },
   {
    "duration": 288,
    "start_time": "2024-12-08T03:51:39.554Z"
   },
   {
    "duration": 4,
    "start_time": "2024-12-08T03:52:44.629Z"
   },
   {
    "duration": 254,
    "start_time": "2024-12-08T03:52:48.289Z"
   },
   {
    "duration": 293,
    "start_time": "2024-12-08T03:54:30.932Z"
   },
   {
    "duration": 265,
    "start_time": "2024-12-08T03:57:38.742Z"
   },
   {
    "duration": 452,
    "start_time": "2024-12-08T03:57:42.616Z"
   },
   {
    "duration": 209,
    "start_time": "2024-12-08T03:59:04.777Z"
   },
   {
    "duration": 271,
    "start_time": "2024-12-08T04:00:58.148Z"
   },
   {
    "duration": 353,
    "start_time": "2024-12-08T04:05:09.679Z"
   },
   {
    "duration": 281,
    "start_time": "2024-12-08T04:05:20.894Z"
   },
   {
    "duration": 285,
    "start_time": "2024-12-08T04:06:11.956Z"
   },
   {
    "duration": 299,
    "start_time": "2024-12-08T04:09:26.038Z"
   },
   {
    "duration": 274,
    "start_time": "2024-12-08T04:11:10.209Z"
   },
   {
    "duration": 279,
    "start_time": "2024-12-08T04:11:26.174Z"
   },
   {
    "duration": 292,
    "start_time": "2024-12-08T04:11:53.138Z"
   },
   {
    "duration": 476,
    "start_time": "2024-12-08T04:12:43.349Z"
   },
   {
    "duration": 267,
    "start_time": "2024-12-08T04:18:18.352Z"
   },
   {
    "duration": 461,
    "start_time": "2024-12-08T04:18:46.436Z"
   },
   {
    "duration": 489,
    "start_time": "2024-12-08T04:19:13.206Z"
   },
   {
    "duration": 509,
    "start_time": "2024-12-08T04:19:35.597Z"
   },
   {
    "duration": 109,
    "start_time": "2024-12-08T04:30:59.838Z"
   },
   {
    "duration": 5,
    "start_time": "2024-12-08T04:33:02.246Z"
   },
   {
    "duration": 79,
    "start_time": "2024-12-08T04:33:08.471Z"
   },
   {
    "duration": 15,
    "start_time": "2024-12-08T04:39:21.864Z"
   },
   {
    "duration": 1140,
    "start_time": "2024-12-08T04:40:46.999Z"
   },
   {
    "duration": 15,
    "start_time": "2024-12-08T04:40:51.343Z"
   },
   {
    "duration": 506,
    "start_time": "2024-12-08T04:42:12.001Z"
   },
   {
    "duration": 82,
    "start_time": "2024-12-08T04:43:06.097Z"
   },
   {
    "duration": 14,
    "start_time": "2024-12-08T04:43:09.313Z"
   },
   {
    "duration": 18,
    "start_time": "2024-12-08T04:47:37.311Z"
   },
   {
    "duration": 398,
    "start_time": "2024-12-08T04:48:08.797Z"
   },
   {
    "duration": 12,
    "start_time": "2024-12-08T04:48:30.758Z"
   },
   {
    "duration": 28,
    "start_time": "2024-12-08T04:51:01.034Z"
   },
   {
    "duration": 98,
    "start_time": "2024-12-08T04:54:55.289Z"
   },
   {
    "duration": 28,
    "start_time": "2024-12-08T04:55:01.259Z"
   },
   {
    "duration": 29,
    "start_time": "2024-12-08T04:55:41.776Z"
   },
   {
    "duration": 300,
    "start_time": "2024-12-08T04:56:06.032Z"
   },
   {
    "duration": 131,
    "start_time": "2024-12-08T04:56:06.334Z"
   },
   {
    "duration": 3,
    "start_time": "2024-12-08T04:56:06.467Z"
   },
   {
    "duration": 176,
    "start_time": "2024-12-08T04:56:06.472Z"
   },
   {
    "duration": 50,
    "start_time": "2024-12-08T04:56:06.650Z"
   },
   {
    "duration": 730,
    "start_time": "2024-12-08T04:56:06.702Z"
   },
   {
    "duration": 13,
    "start_time": "2024-12-08T04:56:07.434Z"
   },
   {
    "duration": 13,
    "start_time": "2024-12-08T04:56:07.449Z"
   },
   {
    "duration": 42,
    "start_time": "2024-12-08T04:56:07.464Z"
   },
   {
    "duration": 11,
    "start_time": "2024-12-08T04:56:07.508Z"
   },
   {
    "duration": 107,
    "start_time": "2024-12-08T04:56:07.520Z"
   },
   {
    "duration": 93,
    "start_time": "2024-12-08T04:56:07.629Z"
   },
   {
    "duration": 25,
    "start_time": "2024-12-08T04:56:07.724Z"
   },
   {
    "duration": 12,
    "start_time": "2024-12-08T04:56:07.753Z"
   },
   {
    "duration": 24,
    "start_time": "2024-12-08T04:56:07.766Z"
   },
   {
    "duration": 31,
    "start_time": "2024-12-08T04:56:07.792Z"
   },
   {
    "duration": 16,
    "start_time": "2024-12-08T04:56:07.825Z"
   },
   {
    "duration": 4,
    "start_time": "2024-12-08T04:56:07.843Z"
   },
   {
    "duration": 6,
    "start_time": "2024-12-08T04:56:07.849Z"
   },
   {
    "duration": 31,
    "start_time": "2024-12-08T04:56:07.857Z"
   },
   {
    "duration": 5,
    "start_time": "2024-12-08T04:56:07.890Z"
   },
   {
    "duration": 807,
    "start_time": "2024-12-08T04:56:07.897Z"
   },
   {
    "duration": 762,
    "start_time": "2024-12-08T04:56:08.706Z"
   },
   {
    "duration": 16,
    "start_time": "2024-12-08T04:56:09.470Z"
   },
   {
    "duration": 7,
    "start_time": "2024-12-08T04:56:09.488Z"
   },
   {
    "duration": 3,
    "start_time": "2024-12-08T04:56:09.496Z"
   },
   {
    "duration": 7,
    "start_time": "2024-12-08T04:56:09.501Z"
   },
   {
    "duration": 10,
    "start_time": "2024-12-08T04:56:09.510Z"
   },
   {
    "duration": 6,
    "start_time": "2024-12-08T04:56:09.522Z"
   },
   {
    "duration": 6,
    "start_time": "2024-12-08T04:56:09.530Z"
   },
   {
    "duration": 54,
    "start_time": "2024-12-08T04:56:09.537Z"
   },
   {
    "duration": 32,
    "start_time": "2024-12-08T04:56:09.592Z"
   },
   {
    "duration": 12,
    "start_time": "2024-12-08T04:56:09.626Z"
   },
   {
    "duration": 51,
    "start_time": "2024-12-08T04:56:09.640Z"
   },
   {
    "duration": 58,
    "start_time": "2024-12-08T04:56:09.693Z"
   },
   {
    "duration": 5,
    "start_time": "2024-12-08T04:56:09.753Z"
   },
   {
    "duration": 145,
    "start_time": "2024-12-08T04:56:09.760Z"
   },
   {
    "duration": 148,
    "start_time": "2024-12-08T04:56:09.908Z"
   },
   {
    "duration": 230,
    "start_time": "2024-12-08T04:56:10.058Z"
   },
   {
    "duration": 10,
    "start_time": "2024-12-08T04:56:10.289Z"
   },
   {
    "duration": 192,
    "start_time": "2024-12-08T04:56:10.303Z"
   },
   {
    "duration": 46,
    "start_time": "2024-12-08T04:56:10.496Z"
   },
   {
    "duration": 129,
    "start_time": "2024-12-08T04:56:10.544Z"
   },
   {
    "duration": 104,
    "start_time": "2024-12-08T04:56:10.675Z"
   },
   {
    "duration": 230,
    "start_time": "2024-12-08T04:56:10.781Z"
   },
   {
    "duration": 492,
    "start_time": "2024-12-08T04:56:11.013Z"
   },
   {
    "duration": 160,
    "start_time": "2024-12-08T04:56:11.507Z"
   },
   {
    "duration": 236,
    "start_time": "2024-12-08T04:56:11.669Z"
   },
   {
    "duration": 20,
    "start_time": "2024-12-08T04:57:49.061Z"
   },
   {
    "duration": 355,
    "start_time": "2024-12-08T04:57:56.888Z"
   },
   {
    "duration": 2,
    "start_time": "2024-12-08T04:58:39.132Z"
   },
   {
    "duration": 2,
    "start_time": "2024-12-08T04:58:39.137Z"
   },
   {
    "duration": 2,
    "start_time": "2024-12-08T04:58:39.141Z"
   },
   {
    "duration": 125,
    "start_time": "2024-12-08T04:58:39.145Z"
   },
   {
    "duration": 49,
    "start_time": "2024-12-08T04:58:39.273Z"
   },
   {
    "duration": 729,
    "start_time": "2024-12-08T04:58:39.325Z"
   },
   {
    "duration": 15,
    "start_time": "2024-12-08T04:58:40.056Z"
   },
   {
    "duration": 23,
    "start_time": "2024-12-08T04:58:40.073Z"
   },
   {
    "duration": 27,
    "start_time": "2024-12-08T04:58:40.098Z"
   },
   {
    "duration": 11,
    "start_time": "2024-12-08T04:58:40.127Z"
   },
   {
    "duration": 109,
    "start_time": "2024-12-08T04:58:40.139Z"
   },
   {
    "duration": 91,
    "start_time": "2024-12-08T04:58:40.250Z"
   },
   {
    "duration": 28,
    "start_time": "2024-12-08T04:58:40.343Z"
   },
   {
    "duration": 19,
    "start_time": "2024-12-08T04:58:40.388Z"
   },
   {
    "duration": 7,
    "start_time": "2024-12-08T04:58:40.409Z"
   },
   {
    "duration": 37,
    "start_time": "2024-12-08T04:58:40.418Z"
   },
   {
    "duration": 56,
    "start_time": "2024-12-08T04:58:40.457Z"
   },
   {
    "duration": 5,
    "start_time": "2024-12-08T04:58:40.514Z"
   },
   {
    "duration": 6,
    "start_time": "2024-12-08T04:58:40.521Z"
   },
   {
    "duration": 5,
    "start_time": "2024-12-08T04:58:40.528Z"
   },
   {
    "duration": 5,
    "start_time": "2024-12-08T04:58:40.534Z"
   },
   {
    "duration": 875,
    "start_time": "2024-12-08T04:58:40.541Z"
   },
   {
    "duration": 754,
    "start_time": "2024-12-08T04:58:41.418Z"
   },
   {
    "duration": 15,
    "start_time": "2024-12-08T04:58:42.174Z"
   },
   {
    "duration": 6,
    "start_time": "2024-12-08T04:58:42.191Z"
   },
   {
    "duration": 3,
    "start_time": "2024-12-08T04:58:42.199Z"
   },
   {
    "duration": 6,
    "start_time": "2024-12-08T04:58:42.204Z"
   },
   {
    "duration": 10,
    "start_time": "2024-12-08T04:58:42.212Z"
   },
   {
    "duration": 7,
    "start_time": "2024-12-08T04:58:42.224Z"
   },
   {
    "duration": 6,
    "start_time": "2024-12-08T04:58:42.233Z"
   },
   {
    "duration": 57,
    "start_time": "2024-12-08T04:58:42.241Z"
   },
   {
    "duration": 34,
    "start_time": "2024-12-08T04:58:42.300Z"
   },
   {
    "duration": 12,
    "start_time": "2024-12-08T04:58:42.336Z"
   },
   {
    "duration": 52,
    "start_time": "2024-12-08T04:58:42.350Z"
   },
   {
    "duration": 54,
    "start_time": "2024-12-08T04:58:42.404Z"
   },
   {
    "duration": 5,
    "start_time": "2024-12-08T04:58:42.462Z"
   },
   {
    "duration": 122,
    "start_time": "2024-12-08T04:58:42.487Z"
   },
   {
    "duration": 144,
    "start_time": "2024-12-08T04:58:42.611Z"
   },
   {
    "duration": 230,
    "start_time": "2024-12-08T04:58:42.757Z"
   },
   {
    "duration": 10,
    "start_time": "2024-12-08T04:58:42.989Z"
   },
   {
    "duration": 203,
    "start_time": "2024-12-08T04:58:43.004Z"
   },
   {
    "duration": 42,
    "start_time": "2024-12-08T04:58:43.209Z"
   },
   {
    "duration": 135,
    "start_time": "2024-12-08T04:58:43.252Z"
   },
   {
    "duration": 120,
    "start_time": "2024-12-08T04:58:43.389Z"
   },
   {
    "duration": 224,
    "start_time": "2024-12-08T04:58:43.511Z"
   },
   {
    "duration": 553,
    "start_time": "2024-12-08T04:58:43.737Z"
   },
   {
    "duration": 160,
    "start_time": "2024-12-08T04:58:44.291Z"
   },
   {
    "duration": 14,
    "start_time": "2024-12-08T04:58:54.640Z"
   },
   {
    "duration": 28,
    "start_time": "2024-12-08T05:00:43.522Z"
   },
   {
    "duration": 2,
    "start_time": "2024-12-08T05:01:06.764Z"
   },
   {
    "duration": 3,
    "start_time": "2024-12-08T05:01:06.768Z"
   },
   {
    "duration": 3,
    "start_time": "2024-12-08T05:01:06.772Z"
   },
   {
    "duration": 125,
    "start_time": "2024-12-08T05:01:06.777Z"
   },
   {
    "duration": 40,
    "start_time": "2024-12-08T05:01:06.905Z"
   },
   {
    "duration": 725,
    "start_time": "2024-12-08T05:01:06.947Z"
   },
   {
    "duration": 22,
    "start_time": "2024-12-08T05:01:07.674Z"
   },
   {
    "duration": 13,
    "start_time": "2024-12-08T05:01:07.697Z"
   },
   {
    "duration": 25,
    "start_time": "2024-12-08T05:01:07.711Z"
   },
   {
    "duration": 10,
    "start_time": "2024-12-08T05:01:07.738Z"
   },
   {
    "duration": 97,
    "start_time": "2024-12-08T05:01:07.749Z"
   },
   {
    "duration": 87,
    "start_time": "2024-12-08T05:01:07.848Z"
   },
   {
    "duration": 23,
    "start_time": "2024-12-08T05:01:07.936Z"
   },
   {
    "duration": 27,
    "start_time": "2024-12-08T05:01:07.963Z"
   },
   {
    "duration": 6,
    "start_time": "2024-12-08T05:01:07.991Z"
   },
   {
    "duration": 30,
    "start_time": "2024-12-08T05:01:07.999Z"
   },
   {
    "duration": 17,
    "start_time": "2024-12-08T05:01:08.031Z"
   },
   {
    "duration": 4,
    "start_time": "2024-12-08T05:01:08.050Z"
   },
   {
    "duration": 35,
    "start_time": "2024-12-08T05:01:08.055Z"
   },
   {
    "duration": 5,
    "start_time": "2024-12-08T05:01:08.091Z"
   },
   {
    "duration": 6,
    "start_time": "2024-12-08T05:01:08.098Z"
   },
   {
    "duration": 785,
    "start_time": "2024-12-08T05:01:08.105Z"
   },
   {
    "duration": 648,
    "start_time": "2024-12-08T05:01:08.892Z"
   },
   {
    "duration": 7,
    "start_time": "2024-12-08T05:01:09.542Z"
   },
   {
    "duration": 6,
    "start_time": "2024-12-08T05:01:09.550Z"
   },
   {
    "duration": 3,
    "start_time": "2024-12-08T05:01:09.558Z"
   },
   {
    "duration": 28,
    "start_time": "2024-12-08T05:01:09.563Z"
   },
   {
    "duration": 9,
    "start_time": "2024-12-08T05:01:09.593Z"
   },
   {
    "duration": 6,
    "start_time": "2024-12-08T05:01:09.603Z"
   },
   {
    "duration": 6,
    "start_time": "2024-12-08T05:01:09.610Z"
   },
   {
    "duration": 15,
    "start_time": "2024-12-08T05:01:09.618Z"
   },
   {
    "duration": 62,
    "start_time": "2024-12-08T05:01:09.635Z"
   },
   {
    "duration": 12,
    "start_time": "2024-12-08T05:01:09.699Z"
   },
   {
    "duration": 24,
    "start_time": "2024-12-08T05:01:09.713Z"
   },
   {
    "duration": 71,
    "start_time": "2024-12-08T05:01:09.738Z"
   },
   {
    "duration": 5,
    "start_time": "2024-12-08T05:01:09.811Z"
   },
   {
    "duration": 125,
    "start_time": "2024-12-08T05:01:09.817Z"
   },
   {
    "duration": 147,
    "start_time": "2024-12-08T05:01:09.944Z"
   },
   {
    "duration": 299,
    "start_time": "2024-12-08T05:01:10.094Z"
   },
   {
    "duration": 9,
    "start_time": "2024-12-08T05:01:10.395Z"
   },
   {
    "duration": 198,
    "start_time": "2024-12-08T05:01:10.408Z"
   },
   {
    "duration": 42,
    "start_time": "2024-12-08T05:01:10.607Z"
   },
   {
    "duration": 123,
    "start_time": "2024-12-08T05:01:10.650Z"
   },
   {
    "duration": 102,
    "start_time": "2024-12-08T05:01:10.775Z"
   },
   {
    "duration": 207,
    "start_time": "2024-12-08T05:01:10.879Z"
   },
   {
    "duration": 479,
    "start_time": "2024-12-08T05:01:11.088Z"
   },
   {
    "duration": 153,
    "start_time": "2024-12-08T05:01:11.569Z"
   },
   {
    "duration": 308,
    "start_time": "2024-12-08T05:01:22.516Z"
   },
   {
    "duration": 129,
    "start_time": "2024-12-08T05:01:22.826Z"
   },
   {
    "duration": 2,
    "start_time": "2024-12-08T05:01:22.957Z"
   },
   {
    "duration": 189,
    "start_time": "2024-12-08T05:01:22.962Z"
   },
   {
    "duration": 59,
    "start_time": "2024-12-08T05:01:23.154Z"
   },
   {
    "duration": 750,
    "start_time": "2024-12-08T05:01:23.215Z"
   },
   {
    "duration": 21,
    "start_time": "2024-12-08T05:01:23.966Z"
   },
   {
    "duration": 13,
    "start_time": "2024-12-08T05:01:23.990Z"
   },
   {
    "duration": 32,
    "start_time": "2024-12-08T05:01:24.005Z"
   },
   {
    "duration": 11,
    "start_time": "2024-12-08T05:01:24.040Z"
   },
   {
    "duration": 110,
    "start_time": "2024-12-08T05:01:24.053Z"
   },
   {
    "duration": 101,
    "start_time": "2024-12-08T05:01:24.165Z"
   },
   {
    "duration": 28,
    "start_time": "2024-12-08T05:01:24.268Z"
   },
   {
    "duration": 12,
    "start_time": "2024-12-08T05:01:24.298Z"
   },
   {
    "duration": 5,
    "start_time": "2024-12-08T05:01:24.312Z"
   },
   {
    "duration": 35,
    "start_time": "2024-12-08T05:01:24.319Z"
   },
   {
    "duration": 44,
    "start_time": "2024-12-08T05:01:24.356Z"
   },
   {
    "duration": 4,
    "start_time": "2024-12-08T05:01:24.402Z"
   },
   {
    "duration": 6,
    "start_time": "2024-12-08T05:01:24.408Z"
   },
   {
    "duration": 4,
    "start_time": "2024-12-08T05:01:24.415Z"
   },
   {
    "duration": 6,
    "start_time": "2024-12-08T05:01:24.421Z"
   },
   {
    "duration": 851,
    "start_time": "2024-12-08T05:01:24.429Z"
   },
   {
    "duration": 765,
    "start_time": "2024-12-08T05:01:25.286Z"
   },
   {
    "duration": 12,
    "start_time": "2024-12-08T05:01:26.053Z"
   },
   {
    "duration": 6,
    "start_time": "2024-12-08T05:01:26.067Z"
   },
   {
    "duration": 4,
    "start_time": "2024-12-08T05:01:26.087Z"
   },
   {
    "duration": 8,
    "start_time": "2024-12-08T05:01:26.093Z"
   },
   {
    "duration": 11,
    "start_time": "2024-12-08T05:01:26.107Z"
   },
   {
    "duration": 7,
    "start_time": "2024-12-08T05:01:26.119Z"
   },
   {
    "duration": 8,
    "start_time": "2024-12-08T05:01:26.128Z"
   },
   {
    "duration": 54,
    "start_time": "2024-12-08T05:01:26.138Z"
   },
   {
    "duration": 32,
    "start_time": "2024-12-08T05:01:26.194Z"
   },
   {
    "duration": 13,
    "start_time": "2024-12-08T05:01:26.228Z"
   },
   {
    "duration": 46,
    "start_time": "2024-12-08T05:01:26.242Z"
   },
   {
    "duration": 57,
    "start_time": "2024-12-08T05:01:26.290Z"
   },
   {
    "duration": 4,
    "start_time": "2024-12-08T05:01:26.349Z"
   },
   {
    "duration": 150,
    "start_time": "2024-12-08T05:01:26.355Z"
   },
   {
    "duration": 157,
    "start_time": "2024-12-08T05:01:26.507Z"
   },
   {
    "duration": 251,
    "start_time": "2024-12-08T05:01:26.666Z"
   },
   {
    "duration": 12,
    "start_time": "2024-12-08T05:01:26.919Z"
   },
   {
    "duration": 197,
    "start_time": "2024-12-08T05:01:26.933Z"
   },
   {
    "duration": 56,
    "start_time": "2024-12-08T05:01:27.132Z"
   },
   {
    "duration": 123,
    "start_time": "2024-12-08T05:01:27.190Z"
   },
   {
    "duration": 112,
    "start_time": "2024-12-08T05:01:27.316Z"
   },
   {
    "duration": 238,
    "start_time": "2024-12-08T05:01:27.430Z"
   },
   {
    "duration": 554,
    "start_time": "2024-12-08T05:01:27.670Z"
   },
   {
    "duration": 164,
    "start_time": "2024-12-08T05:01:28.226Z"
   },
   {
    "duration": 15,
    "start_time": "2024-12-08T05:01:28.391Z"
   },
   {
    "duration": 165,
    "start_time": "2024-12-08T05:35:07.423Z"
   },
   {
    "duration": 243,
    "start_time": "2024-12-08T05:42:36.444Z"
   },
   {
    "duration": 17,
    "start_time": "2024-12-08T05:43:09.460Z"
   },
   {
    "duration": 276,
    "start_time": "2024-12-08T05:43:15.458Z"
   },
   {
    "duration": 132,
    "start_time": "2024-12-08T05:43:15.736Z"
   },
   {
    "duration": 3,
    "start_time": "2024-12-08T05:43:15.870Z"
   },
   {
    "duration": 171,
    "start_time": "2024-12-08T05:43:15.886Z"
   },
   {
    "duration": 52,
    "start_time": "2024-12-08T05:43:16.061Z"
   },
   {
    "duration": 736,
    "start_time": "2024-12-08T05:43:16.114Z"
   },
   {
    "duration": 13,
    "start_time": "2024-12-08T05:43:16.853Z"
   },
   {
    "duration": 25,
    "start_time": "2024-12-08T05:43:16.867Z"
   },
   {
    "duration": 35,
    "start_time": "2024-12-08T05:43:16.894Z"
   },
   {
    "duration": 12,
    "start_time": "2024-12-08T05:43:16.931Z"
   },
   {
    "duration": 114,
    "start_time": "2024-12-08T05:43:16.945Z"
   },
   {
    "duration": 93,
    "start_time": "2024-12-08T05:43:17.061Z"
   },
   {
    "duration": 34,
    "start_time": "2024-12-08T05:43:17.156Z"
   },
   {
    "duration": 12,
    "start_time": "2024-12-08T05:43:17.193Z"
   },
   {
    "duration": 5,
    "start_time": "2024-12-08T05:43:17.207Z"
   },
   {
    "duration": 32,
    "start_time": "2024-12-08T05:43:17.214Z"
   },
   {
    "duration": 39,
    "start_time": "2024-12-08T05:43:17.247Z"
   },
   {
    "duration": 5,
    "start_time": "2024-12-08T05:43:17.288Z"
   },
   {
    "duration": 5,
    "start_time": "2024-12-08T05:43:17.295Z"
   },
   {
    "duration": 4,
    "start_time": "2024-12-08T05:43:17.302Z"
   },
   {
    "duration": 5,
    "start_time": "2024-12-08T05:43:17.308Z"
   },
   {
    "duration": 837,
    "start_time": "2024-12-08T05:43:17.315Z"
   },
   {
    "duration": 747,
    "start_time": "2024-12-08T05:43:18.154Z"
   },
   {
    "duration": 7,
    "start_time": "2024-12-08T05:43:18.903Z"
   },
   {
    "duration": 6,
    "start_time": "2024-12-08T05:43:18.912Z"
   },
   {
    "duration": 3,
    "start_time": "2024-12-08T05:43:18.920Z"
   },
   {
    "duration": 7,
    "start_time": "2024-12-08T05:43:18.925Z"
   },
   {
    "duration": 9,
    "start_time": "2024-12-08T05:43:18.934Z"
   },
   {
    "duration": 42,
    "start_time": "2024-12-08T05:43:18.945Z"
   },
   {
    "duration": 7,
    "start_time": "2024-12-08T05:43:18.989Z"
   },
   {
    "duration": 17,
    "start_time": "2024-12-08T05:43:18.998Z"
   },
   {
    "duration": 35,
    "start_time": "2024-12-08T05:43:19.017Z"
   },
   {
    "duration": 42,
    "start_time": "2024-12-08T05:43:19.053Z"
   },
   {
    "duration": 27,
    "start_time": "2024-12-08T05:43:19.097Z"
   },
   {
    "duration": 67,
    "start_time": "2024-12-08T05:43:19.126Z"
   },
   {
    "duration": 4,
    "start_time": "2024-12-08T05:43:19.195Z"
   },
   {
    "duration": 140,
    "start_time": "2024-12-08T05:43:19.201Z"
   },
   {
    "duration": 146,
    "start_time": "2024-12-08T05:43:19.343Z"
   },
   {
    "duration": 234,
    "start_time": "2024-12-08T05:43:19.491Z"
   },
   {
    "duration": 10,
    "start_time": "2024-12-08T05:43:19.727Z"
   },
   {
    "duration": 185,
    "start_time": "2024-12-08T05:43:19.742Z"
   },
   {
    "duration": 40,
    "start_time": "2024-12-08T05:43:19.929Z"
   },
   {
    "duration": 126,
    "start_time": "2024-12-08T05:43:19.971Z"
   },
   {
    "duration": 109,
    "start_time": "2024-12-08T05:43:20.100Z"
   },
   {
    "duration": 235,
    "start_time": "2024-12-08T05:43:20.212Z"
   },
   {
    "duration": 493,
    "start_time": "2024-12-08T05:43:20.449Z"
   },
   {
    "duration": 167,
    "start_time": "2024-12-08T05:43:20.943Z"
   },
   {
    "duration": 14,
    "start_time": "2024-12-08T05:43:21.112Z"
   },
   {
    "duration": 99,
    "start_time": "2024-12-08T05:55:17.065Z"
   },
   {
    "duration": 99,
    "start_time": "2024-12-08T05:55:22.802Z"
   },
   {
    "duration": 203,
    "start_time": "2024-12-08T05:55:26.009Z"
   },
   {
    "duration": 623,
    "start_time": "2024-12-08T05:57:11.650Z"
   },
   {
    "duration": 480,
    "start_time": "2024-12-08T05:57:32.409Z"
   },
   {
    "duration": 307,
    "start_time": "2024-12-08T06:32:40.190Z"
   },
   {
    "duration": 131,
    "start_time": "2024-12-08T06:32:40.500Z"
   },
   {
    "duration": 2,
    "start_time": "2024-12-08T06:32:40.635Z"
   },
   {
    "duration": 181,
    "start_time": "2024-12-08T06:32:40.638Z"
   },
   {
    "duration": 47,
    "start_time": "2024-12-08T06:32:40.821Z"
   },
   {
    "duration": 769,
    "start_time": "2024-12-08T06:32:40.870Z"
   },
   {
    "duration": 18,
    "start_time": "2024-12-08T06:32:41.641Z"
   },
   {
    "duration": 14,
    "start_time": "2024-12-08T06:32:41.661Z"
   },
   {
    "duration": 40,
    "start_time": "2024-12-08T06:32:41.676Z"
   },
   {
    "duration": 15,
    "start_time": "2024-12-08T06:32:41.718Z"
   },
   {
    "duration": 139,
    "start_time": "2024-12-08T06:32:41.734Z"
   },
   {
    "duration": 112,
    "start_time": "2024-12-08T06:32:41.875Z"
   },
   {
    "duration": 29,
    "start_time": "2024-12-08T06:32:41.989Z"
   },
   {
    "duration": 17,
    "start_time": "2024-12-08T06:32:42.023Z"
   },
   {
    "duration": 7,
    "start_time": "2024-12-08T06:32:42.042Z"
   },
   {
    "duration": 80,
    "start_time": "2024-12-08T06:32:42.051Z"
   },
   {
    "duration": 24,
    "start_time": "2024-12-08T06:32:42.133Z"
   },
   {
    "duration": 5,
    "start_time": "2024-12-08T06:32:42.159Z"
   },
   {
    "duration": 23,
    "start_time": "2024-12-08T06:32:42.165Z"
   },
   {
    "duration": 4,
    "start_time": "2024-12-08T06:32:42.191Z"
   },
   {
    "duration": 5,
    "start_time": "2024-12-08T06:32:42.197Z"
   },
   {
    "duration": 937,
    "start_time": "2024-12-08T06:32:42.204Z"
   },
   {
    "duration": 843,
    "start_time": "2024-12-08T06:32:43.147Z"
   },
   {
    "duration": 8,
    "start_time": "2024-12-08T06:32:43.992Z"
   },
   {
    "duration": 6,
    "start_time": "2024-12-08T06:32:44.002Z"
   },
   {
    "duration": 4,
    "start_time": "2024-12-08T06:32:44.009Z"
   },
   {
    "duration": 6,
    "start_time": "2024-12-08T06:32:44.014Z"
   },
   {
    "duration": 8,
    "start_time": "2024-12-08T06:32:44.022Z"
   },
   {
    "duration": 7,
    "start_time": "2024-12-08T06:32:44.032Z"
   },
   {
    "duration": 47,
    "start_time": "2024-12-08T06:32:44.040Z"
   },
   {
    "duration": 18,
    "start_time": "2024-12-08T06:32:44.089Z"
   },
   {
    "duration": 34,
    "start_time": "2024-12-08T06:32:44.109Z"
   },
   {
    "duration": 12,
    "start_time": "2024-12-08T06:32:44.145Z"
   },
   {
    "duration": 49,
    "start_time": "2024-12-08T06:32:44.159Z"
   },
   {
    "duration": 53,
    "start_time": "2024-12-08T06:32:44.210Z"
   },
   {
    "duration": 21,
    "start_time": "2024-12-08T06:32:44.265Z"
   },
   {
    "duration": 130,
    "start_time": "2024-12-08T06:32:44.288Z"
   },
   {
    "duration": 144,
    "start_time": "2024-12-08T06:32:44.419Z"
   },
   {
    "duration": 226,
    "start_time": "2024-12-08T06:32:44.565Z"
   },
   {
    "duration": 10,
    "start_time": "2024-12-08T06:32:44.793Z"
   },
   {
    "duration": 188,
    "start_time": "2024-12-08T06:32:44.807Z"
   },
   {
    "duration": 47,
    "start_time": "2024-12-08T06:32:44.997Z"
   },
   {
    "duration": 127,
    "start_time": "2024-12-08T06:32:45.046Z"
   },
   {
    "duration": 110,
    "start_time": "2024-12-08T06:32:45.176Z"
   },
   {
    "duration": 219,
    "start_time": "2024-12-08T06:32:45.288Z"
   },
   {
    "duration": 500,
    "start_time": "2024-12-08T06:32:45.509Z"
   },
   {
    "duration": 152,
    "start_time": "2024-12-08T06:32:46.012Z"
   },
   {
    "duration": 22,
    "start_time": "2024-12-08T06:32:46.166Z"
   },
   {
    "duration": 421,
    "start_time": "2024-12-08T08:37:35.384Z"
   },
   {
    "duration": 1834,
    "start_time": "2024-12-08T08:37:35.807Z"
   },
   {
    "duration": 2,
    "start_time": "2024-12-08T08:37:37.643Z"
   },
   {
    "duration": 171,
    "start_time": "2024-12-08T08:37:37.648Z"
   },
   {
    "duration": 65,
    "start_time": "2024-12-08T08:37:37.820Z"
   },
   {
    "duration": 839,
    "start_time": "2024-12-08T08:37:37.887Z"
   },
   {
    "duration": 15,
    "start_time": "2024-12-08T08:37:38.727Z"
   },
   {
    "duration": 13,
    "start_time": "2024-12-08T08:37:38.743Z"
   },
   {
    "duration": 25,
    "start_time": "2024-12-08T08:37:38.770Z"
   },
   {
    "duration": 11,
    "start_time": "2024-12-08T08:37:38.798Z"
   },
   {
    "duration": 108,
    "start_time": "2024-12-08T08:37:38.811Z"
   },
   {
    "duration": 97,
    "start_time": "2024-12-08T08:37:38.921Z"
   },
   {
    "duration": 30,
    "start_time": "2024-12-08T08:37:39.020Z"
   },
   {
    "duration": 24,
    "start_time": "2024-12-08T08:37:39.052Z"
   },
   {
    "duration": 6,
    "start_time": "2024-12-08T08:37:39.077Z"
   },
   {
    "duration": 31,
    "start_time": "2024-12-08T08:37:39.085Z"
   },
   {
    "duration": 15,
    "start_time": "2024-12-08T08:37:39.118Z"
   },
   {
    "duration": 4,
    "start_time": "2024-12-08T08:37:39.134Z"
   },
   {
    "duration": 31,
    "start_time": "2024-12-08T08:37:39.140Z"
   },
   {
    "duration": 4,
    "start_time": "2024-12-08T08:37:39.172Z"
   },
   {
    "duration": 4,
    "start_time": "2024-12-08T08:37:39.178Z"
   },
   {
    "duration": 788,
    "start_time": "2024-12-08T08:37:39.184Z"
   },
   {
    "duration": 707,
    "start_time": "2024-12-08T08:37:39.974Z"
   },
   {
    "duration": 7,
    "start_time": "2024-12-08T08:37:40.683Z"
   },
   {
    "duration": 5,
    "start_time": "2024-12-08T08:37:40.692Z"
   },
   {
    "duration": 3,
    "start_time": "2024-12-08T08:37:40.699Z"
   },
   {
    "duration": 5,
    "start_time": "2024-12-08T08:37:40.705Z"
   },
   {
    "duration": 8,
    "start_time": "2024-12-08T08:37:40.715Z"
   },
   {
    "duration": 45,
    "start_time": "2024-12-08T08:37:40.725Z"
   },
   {
    "duration": 6,
    "start_time": "2024-12-08T08:37:40.771Z"
   },
   {
    "duration": 16,
    "start_time": "2024-12-08T08:37:40.779Z"
   },
   {
    "duration": 32,
    "start_time": "2024-12-08T08:37:40.797Z"
   },
   {
    "duration": 39,
    "start_time": "2024-12-08T08:37:40.831Z"
   },
   {
    "duration": 25,
    "start_time": "2024-12-08T08:37:40.871Z"
   },
   {
    "duration": 53,
    "start_time": "2024-12-08T08:37:40.898Z"
   },
   {
    "duration": 18,
    "start_time": "2024-12-08T08:37:40.953Z"
   },
   {
    "duration": 135,
    "start_time": "2024-12-08T08:37:40.972Z"
   },
   {
    "duration": 146,
    "start_time": "2024-12-08T08:37:41.109Z"
   },
   {
    "duration": 266,
    "start_time": "2024-12-08T08:37:41.257Z"
   },
   {
    "duration": 10,
    "start_time": "2024-12-08T08:37:41.525Z"
   },
   {
    "duration": 185,
    "start_time": "2024-12-08T08:37:41.537Z"
   },
   {
    "duration": 54,
    "start_time": "2024-12-08T08:37:41.724Z"
   },
   {
    "duration": 114,
    "start_time": "2024-12-08T08:37:41.780Z"
   },
   {
    "duration": 105,
    "start_time": "2024-12-08T08:37:41.896Z"
   },
   {
    "duration": 251,
    "start_time": "2024-12-08T08:37:42.003Z"
   },
   {
    "duration": 490,
    "start_time": "2024-12-08T08:37:42.256Z"
   },
   {
    "duration": 158,
    "start_time": "2024-12-08T08:37:42.748Z"
   },
   {
    "duration": 14,
    "start_time": "2024-12-08T08:37:42.908Z"
   },
   {
    "duration": 2120,
    "start_time": "2024-12-08T18:06:26.934Z"
   },
   {
    "duration": 175,
    "start_time": "2024-12-08T18:06:29.056Z"
   },
   {
    "duration": 66,
    "start_time": "2024-12-08T18:06:29.233Z"
   },
   {
    "duration": 822,
    "start_time": "2024-12-08T18:06:29.301Z"
   },
   {
    "duration": 15,
    "start_time": "2024-12-08T18:06:30.125Z"
   },
   {
    "duration": 15,
    "start_time": "2024-12-08T18:06:30.142Z"
   },
   {
    "duration": 25,
    "start_time": "2024-12-08T18:06:30.169Z"
   },
   {
    "duration": 11,
    "start_time": "2024-12-08T18:06:30.196Z"
   },
   {
    "duration": 122,
    "start_time": "2024-12-08T18:06:30.209Z"
   },
   {
    "duration": 94,
    "start_time": "2024-12-08T18:06:30.335Z"
   },
   {
    "duration": 27,
    "start_time": "2024-12-08T18:06:30.431Z"
   },
   {
    "duration": 12,
    "start_time": "2024-12-08T18:06:30.470Z"
   },
   {
    "duration": 5,
    "start_time": "2024-12-08T18:06:30.484Z"
   },
   {
    "duration": 32,
    "start_time": "2024-12-08T18:06:30.491Z"
   },
   {
    "duration": 18,
    "start_time": "2024-12-08T18:06:30.525Z"
   },
   {
    "duration": 4,
    "start_time": "2024-12-08T18:06:30.570Z"
   },
   {
    "duration": 6,
    "start_time": "2024-12-08T18:06:30.576Z"
   },
   {
    "duration": 5,
    "start_time": "2024-12-08T18:06:30.583Z"
   },
   {
    "duration": 5,
    "start_time": "2024-12-08T18:06:30.589Z"
   },
   {
    "duration": 823,
    "start_time": "2024-12-08T18:06:30.596Z"
   },
   {
    "duration": 711,
    "start_time": "2024-12-08T18:06:31.421Z"
   },
   {
    "duration": 8,
    "start_time": "2024-12-08T18:06:32.134Z"
   },
   {
    "duration": 6,
    "start_time": "2024-12-08T18:06:32.144Z"
   },
   {
    "duration": 20,
    "start_time": "2024-12-08T18:06:32.151Z"
   },
   {
    "duration": 6,
    "start_time": "2024-12-08T18:06:32.172Z"
   },
   {
    "duration": 9,
    "start_time": "2024-12-08T18:06:32.180Z"
   },
   {
    "duration": 6,
    "start_time": "2024-12-08T18:06:32.191Z"
   },
   {
    "duration": 7,
    "start_time": "2024-12-08T18:06:32.200Z"
   },
   {
    "duration": 17,
    "start_time": "2024-12-08T18:06:32.208Z"
   },
   {
    "duration": 69,
    "start_time": "2024-12-08T18:06:32.227Z"
   },
   {
    "duration": 12,
    "start_time": "2024-12-08T18:06:32.297Z"
   },
   {
    "duration": 25,
    "start_time": "2024-12-08T18:06:32.311Z"
   },
   {
    "duration": 80,
    "start_time": "2024-12-08T18:06:32.338Z"
   },
   {
    "duration": 5,
    "start_time": "2024-12-08T18:06:32.420Z"
   },
   {
    "duration": 140,
    "start_time": "2024-12-08T18:06:32.427Z"
   },
   {
    "duration": 141,
    "start_time": "2024-12-08T18:06:32.569Z"
   },
   {
    "duration": 275,
    "start_time": "2024-12-08T18:06:32.713Z"
   },
   {
    "duration": 11,
    "start_time": "2024-12-08T18:06:32.990Z"
   },
   {
    "duration": 187,
    "start_time": "2024-12-08T18:06:33.002Z"
   },
   {
    "duration": 45,
    "start_time": "2024-12-08T18:06:33.191Z"
   },
   {
    "duration": 132,
    "start_time": "2024-12-08T18:06:33.238Z"
   },
   {
    "duration": 104,
    "start_time": "2024-12-08T18:06:33.371Z"
   },
   {
    "duration": 225,
    "start_time": "2024-12-08T18:06:33.477Z"
   },
   {
    "duration": 513,
    "start_time": "2024-12-08T18:06:33.705Z"
   },
   {
    "duration": 158,
    "start_time": "2024-12-08T18:06:34.219Z"
   },
   {
    "duration": 15,
    "start_time": "2024-12-08T18:06:34.379Z"
   },
   {
    "duration": 222,
    "start_time": "2024-12-08T18:08:44.032Z"
   },
   {
    "duration": 776,
    "start_time": "2024-12-08T18:10:27.932Z"
   },
   {
    "duration": 228,
    "start_time": "2024-12-08T18:10:41.693Z"
   },
   {
    "duration": 174,
    "start_time": "2024-12-08T18:11:20.242Z"
   },
   {
    "duration": 48,
    "start_time": "2024-12-08T22:05:12.295Z"
   },
   {
    "duration": 221,
    "start_time": "2024-12-08T22:09:07.319Z"
   },
   {
    "duration": 110,
    "start_time": "2024-12-08T22:09:52.942Z"
   },
   {
    "duration": 213,
    "start_time": "2024-12-08T22:10:28.520Z"
   },
   {
    "duration": 315,
    "start_time": "2024-12-08T22:10:49.940Z"
   },
   {
    "duration": 214,
    "start_time": "2024-12-08T22:10:58.450Z"
   },
   {
    "duration": 171,
    "start_time": "2024-12-08T22:12:25.784Z"
   },
   {
    "duration": 176,
    "start_time": "2024-12-08T22:12:31.456Z"
   },
   {
    "duration": 47,
    "start_time": "2024-12-08T22:14:01.135Z"
   },
   {
    "duration": 47,
    "start_time": "2024-12-08T22:14:17.559Z"
   },
   {
    "duration": 30,
    "start_time": "2024-12-08T22:21:13.421Z"
   },
   {
    "duration": 95,
    "start_time": "2024-12-08T22:35:57.332Z"
   },
   {
    "duration": 2648,
    "start_time": "2024-12-09T02:53:28.136Z"
   },
   {
    "duration": 163,
    "start_time": "2024-12-09T02:53:30.786Z"
   },
   {
    "duration": 65,
    "start_time": "2024-12-09T02:53:30.951Z"
   },
   {
    "duration": 824,
    "start_time": "2024-12-09T02:53:31.018Z"
   },
   {
    "duration": 14,
    "start_time": "2024-12-09T02:53:31.845Z"
   },
   {
    "duration": 14,
    "start_time": "2024-12-09T02:53:31.861Z"
   },
   {
    "duration": 43,
    "start_time": "2024-12-09T02:53:31.877Z"
   },
   {
    "duration": 12,
    "start_time": "2024-12-09T02:53:31.921Z"
   },
   {
    "duration": 109,
    "start_time": "2024-12-09T02:53:31.935Z"
   },
   {
    "duration": 149,
    "start_time": "2024-12-09T02:53:32.046Z"
   },
   {
    "duration": 34,
    "start_time": "2024-12-09T02:53:32.197Z"
   },
   {
    "duration": 12,
    "start_time": "2024-12-09T02:53:32.233Z"
   },
   {
    "duration": 6,
    "start_time": "2024-12-09T02:53:32.246Z"
   },
   {
    "duration": 53,
    "start_time": "2024-12-09T02:53:32.257Z"
   },
   {
    "duration": 17,
    "start_time": "2024-12-09T02:53:32.311Z"
   },
   {
    "duration": 5,
    "start_time": "2024-12-09T02:53:32.330Z"
   },
   {
    "duration": 11,
    "start_time": "2024-12-09T02:53:32.336Z"
   },
   {
    "duration": 7,
    "start_time": "2024-12-09T02:53:32.348Z"
   },
   {
    "duration": 6,
    "start_time": "2024-12-09T02:53:32.357Z"
   },
   {
    "duration": 816,
    "start_time": "2024-12-09T02:53:32.365Z"
   },
   {
    "duration": 745,
    "start_time": "2024-12-09T02:53:33.183Z"
   },
   {
    "duration": 8,
    "start_time": "2024-12-09T02:53:33.929Z"
   },
   {
    "duration": 6,
    "start_time": "2024-12-09T02:53:33.938Z"
   },
   {
    "duration": 3,
    "start_time": "2024-12-09T02:53:33.945Z"
   },
   {
    "duration": 6,
    "start_time": "2024-12-09T02:53:33.950Z"
   },
   {
    "duration": 9,
    "start_time": "2024-12-09T02:53:33.957Z"
   },
   {
    "duration": 42,
    "start_time": "2024-12-09T02:53:33.968Z"
   },
   {
    "duration": 15,
    "start_time": "2024-12-09T02:53:34.012Z"
   },
   {
    "duration": 16,
    "start_time": "2024-12-09T02:53:34.029Z"
   },
   {
    "duration": 33,
    "start_time": "2024-12-09T02:53:34.047Z"
   },
   {
    "duration": 36,
    "start_time": "2024-12-09T02:53:34.082Z"
   },
   {
    "duration": 25,
    "start_time": "2024-12-09T02:53:34.120Z"
   },
   {
    "duration": 67,
    "start_time": "2024-12-09T02:53:34.147Z"
   },
   {
    "duration": 6,
    "start_time": "2024-12-09T02:53:34.216Z"
   },
   {
    "duration": 149,
    "start_time": "2024-12-09T02:53:34.224Z"
   },
   {
    "duration": 139,
    "start_time": "2024-12-09T02:53:34.376Z"
   },
   {
    "duration": 271,
    "start_time": "2024-12-09T02:53:34.518Z"
   },
   {
    "duration": 24,
    "start_time": "2024-12-09T02:53:34.791Z"
   },
   {
    "duration": 197,
    "start_time": "2024-12-09T02:53:34.817Z"
   },
   {
    "duration": 41,
    "start_time": "2024-12-09T02:53:35.015Z"
   },
   {
    "duration": 133,
    "start_time": "2024-12-09T02:53:35.061Z"
   },
   {
    "duration": 103,
    "start_time": "2024-12-09T02:53:35.197Z"
   },
   {
    "duration": 235,
    "start_time": "2024-12-09T02:53:35.302Z"
   },
   {
    "duration": 515,
    "start_time": "2024-12-09T02:53:35.540Z"
   },
   {
    "duration": 154,
    "start_time": "2024-12-09T02:53:36.056Z"
   },
   {
    "duration": 14,
    "start_time": "2024-12-09T02:53:36.211Z"
   },
   {
    "duration": 173,
    "start_time": "2024-12-09T03:35:42.482Z"
   },
   {
    "duration": 2137,
    "start_time": "2024-12-09T03:35:51.800Z"
   },
   {
    "duration": 170,
    "start_time": "2024-12-09T03:35:53.939Z"
   },
   {
    "duration": 68,
    "start_time": "2024-12-09T03:35:54.111Z"
   },
   {
    "duration": 826,
    "start_time": "2024-12-09T03:35:54.181Z"
   },
   {
    "duration": 15,
    "start_time": "2024-12-09T03:35:55.009Z"
   },
   {
    "duration": 25,
    "start_time": "2024-12-09T03:35:55.025Z"
   },
   {
    "duration": 28,
    "start_time": "2024-12-09T03:35:55.052Z"
   },
   {
    "duration": 11,
    "start_time": "2024-12-09T03:35:55.082Z"
   },
   {
    "duration": 127,
    "start_time": "2024-12-09T03:35:55.095Z"
   },
   {
    "duration": 144,
    "start_time": "2024-12-09T03:35:55.225Z"
   },
   {
    "duration": 29,
    "start_time": "2024-12-09T03:35:55.372Z"
   },
   {
    "duration": 12,
    "start_time": "2024-12-09T03:35:55.403Z"
   },
   {
    "duration": 25,
    "start_time": "2024-12-09T03:35:55.417Z"
   },
   {
    "duration": 32,
    "start_time": "2024-12-09T03:35:55.444Z"
   },
   {
    "duration": 15,
    "start_time": "2024-12-09T03:35:55.478Z"
   },
   {
    "duration": 4,
    "start_time": "2024-12-09T03:35:55.495Z"
   },
   {
    "duration": 4,
    "start_time": "2024-12-09T03:35:55.501Z"
   },
   {
    "duration": 4,
    "start_time": "2024-12-09T03:35:55.507Z"
   },
   {
    "duration": 4,
    "start_time": "2024-12-09T03:35:55.543Z"
   },
   {
    "duration": 773,
    "start_time": "2024-12-09T03:35:55.549Z"
   },
   {
    "duration": 676,
    "start_time": "2024-12-09T03:35:56.324Z"
   },
   {
    "duration": 8,
    "start_time": "2024-12-09T03:35:57.001Z"
   },
   {
    "duration": 6,
    "start_time": "2024-12-09T03:35:57.011Z"
   },
   {
    "duration": 24,
    "start_time": "2024-12-09T03:35:57.019Z"
   },
   {
    "duration": 6,
    "start_time": "2024-12-09T03:35:57.044Z"
   },
   {
    "duration": 9,
    "start_time": "2024-12-09T03:35:57.052Z"
   },
   {
    "duration": 6,
    "start_time": "2024-12-09T03:35:57.063Z"
   },
   {
    "duration": 14,
    "start_time": "2024-12-09T03:35:57.073Z"
   },
   {
    "duration": 18,
    "start_time": "2024-12-09T03:35:57.088Z"
   },
   {
    "duration": 66,
    "start_time": "2024-12-09T03:35:57.107Z"
   },
   {
    "duration": 12,
    "start_time": "2024-12-09T03:35:57.175Z"
   },
   {
    "duration": 26,
    "start_time": "2024-12-09T03:35:57.190Z"
   },
   {
    "duration": 68,
    "start_time": "2024-12-09T03:35:57.217Z"
   },
   {
    "duration": 5,
    "start_time": "2024-12-09T03:35:57.287Z"
   },
   {
    "duration": 148,
    "start_time": "2024-12-09T03:35:57.294Z"
   },
   {
    "duration": 145,
    "start_time": "2024-12-09T03:35:57.444Z"
   },
   {
    "duration": 271,
    "start_time": "2024-12-09T03:35:57.591Z"
   },
   {
    "duration": 15,
    "start_time": "2024-12-09T03:35:57.865Z"
   },
   {
    "duration": 196,
    "start_time": "2024-12-09T03:35:57.882Z"
   },
   {
    "duration": 40,
    "start_time": "2024-12-09T03:35:58.080Z"
   },
   {
    "duration": 131,
    "start_time": "2024-12-09T03:35:58.121Z"
   },
   {
    "duration": 110,
    "start_time": "2024-12-09T03:35:58.254Z"
   },
   {
    "duration": 233,
    "start_time": "2024-12-09T03:35:58.366Z"
   },
   {
    "duration": 470,
    "start_time": "2024-12-09T03:35:58.600Z"
   },
   {
    "duration": 161,
    "start_time": "2024-12-09T03:35:59.072Z"
   },
   {
    "duration": 19,
    "start_time": "2024-12-09T03:35:59.235Z"
   },
   {
    "duration": 134,
    "start_time": "2024-12-09T03:39:52.759Z"
   },
   {
    "duration": 113,
    "start_time": "2024-12-09T03:39:55.412Z"
   },
   {
    "duration": 232,
    "start_time": "2024-12-09T03:48:49.012Z"
   },
   {
    "duration": 212,
    "start_time": "2024-12-09T03:48:56.176Z"
   }
  ],
  "kernelspec": {
   "display_name": "Python 3 (ipykernel)",
   "language": "python",
   "name": "python3"
  },
  "language_info": {
   "codemirror_mode": {
    "name": "ipython",
    "version": 3
   },
   "file_extension": ".py",
   "mimetype": "text/x-python",
   "name": "python",
   "nbconvert_exporter": "python",
   "pygments_lexer": "ipython3",
   "version": "3.9.19"
  },
  "toc": {
   "base_numbering": 1,
   "nav_menu": {},
   "number_sections": true,
   "sideBar": true,
   "skip_h1_title": true,
   "title_cell": "Table of Contents",
   "title_sidebar": "Contents",
   "toc_cell": false,
   "toc_position": {
    "height": "calc(100% - 180px)",
    "left": "10px",
    "top": "150px",
    "width": "234.867px"
   },
   "toc_section_display": true,
   "toc_window_display": true
  },
  "vscode": {
   "interpreter": {
    "hash": "01a7be9ec63e704a62cefc5fe7a4756944464ee731be31632bdf42a4cb4688cf"
   }
  }
 },
 "nbformat": 4,
 "nbformat_minor": 5
}
